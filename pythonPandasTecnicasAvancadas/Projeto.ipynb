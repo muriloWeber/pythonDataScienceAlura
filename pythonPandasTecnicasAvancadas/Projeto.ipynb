{
  "cells": [
    {
      "cell_type": "markdown",
      "metadata": {
        "id": "VvKng5_devgH"
      },
      "source": [
        "# PANDAS AVANÇADO\n",
        "---"
      ]
    },
    {
      "cell_type": "markdown",
      "metadata": {
        "id": "99IUfbszevgO"
      },
      "source": [
        "# CARREGANDO OS DADOS\n",
        "---"
      ]
    },
    {
      "cell_type": "markdown",
      "metadata": {
        "id": "VYIHv0csevgP"
      },
      "source": [
        "## Configurações do projeto"
      ]
    },
    {
      "cell_type": "markdown",
      "metadata": {
        "id": "P_gXKCYpevgP"
      },
      "source": [
        "### Importando pacotes"
      ]
    },
    {
      "cell_type": "code",
      "execution_count": 1,
      "metadata": {
        "ExecuteTime": {
          "end_time": "2020-10-25T16:41:53.996410Z",
          "start_time": "2020-10-25T16:41:53.989428Z"
        },
        "id": "s-xCbXDzevgQ"
      },
      "outputs": [],
      "source": [
        "import pandas as pd"
      ]
    },
    {
      "cell_type": "code",
      "execution_count": 2,
      "metadata": {
        "ExecuteTime": {
          "end_time": "2020-10-25T16:41:54.449198Z",
          "start_time": "2020-10-25T16:41:54.436233Z"
        },
        "id": "-BWaF1-uevgQ",
        "colab": {
          "base_uri": "https://localhost:8080/",
          "height": 35
        },
        "outputId": "0fbe0dee-e37b-4e37-811e-0842a172a251"
      },
      "outputs": [
        {
          "output_type": "execute_result",
          "data": {
            "text/plain": [
              "'1.3.5'"
            ],
            "application/vnd.google.colaboratory.intrinsic+json": {
              "type": "string"
            }
          },
          "metadata": {},
          "execution_count": 2
        }
      ],
      "source": [
        "pd.__version__"
      ]
    },
    {
      "cell_type": "markdown",
      "metadata": {
        "id": "4S6wyakFevgQ"
      },
      "source": [
        "### Opções de configuração\n",
        "\n",
        "[Documentação](https://pandas.pydata.org/pandas-docs/stable/user_guide/options.html)"
      ]
    },
    {
      "cell_type": "code",
      "execution_count": 3,
      "metadata": {
        "id": "6UVcvI0-evgR",
        "colab": {
          "base_uri": "https://localhost:8080/"
        },
        "outputId": "b780b104-60c8-44fc-ce33-b8e9e7e85ac9"
      },
      "outputs": [
        {
          "output_type": "execute_result",
          "data": {
            "text/plain": [
              "60"
            ]
          },
          "metadata": {},
          "execution_count": 3
        }
      ],
      "source": [
        "pd.get_option('display.max_rows')"
      ]
    },
    {
      "cell_type": "code",
      "execution_count": 4,
      "metadata": {
        "id": "A8Nvt66tevgR",
        "colab": {
          "base_uri": "https://localhost:8080/"
        },
        "outputId": "01185116-514e-4a00-a784-350a77bf985f"
      },
      "outputs": [
        {
          "output_type": "execute_result",
          "data": {
            "text/plain": [
              "20"
            ]
          },
          "metadata": {},
          "execution_count": 4
        }
      ],
      "source": [
        "pd.get_option('display.max_columns')"
      ]
    },
    {
      "cell_type": "markdown",
      "metadata": {
        "id": "xmP4ARNSevgR"
      },
      "source": [
        "[Opções disponíveis](https://pandas.pydata.org/pandas-docs/stable/user_guide/options.html#available-options)"
      ]
    },
    {
      "cell_type": "code",
      "execution_count": 8,
      "metadata": {
        "id": "rKUvxnvnevgS",
        "colab": {
          "base_uri": "https://localhost:8080/"
        },
        "outputId": "ab75a2fd-0443-45cd-b10b-b26bb8146d6f"
      },
      "outputs": [
        {
          "output_type": "stream",
          "name": "stdout",
          "text": [
            "display.max_columns : int\n",
            "    If max_cols is exceeded, switch to truncate view. Depending on\n",
            "    `large_repr`, objects are either centrally truncated or printed as\n",
            "    a summary view. 'None' value means unlimited.\n",
            "\n",
            "    In case python/IPython is running in a terminal and `large_repr`\n",
            "    equals 'truncate' this can be set to 0 and pandas will auto-detect\n",
            "    the width of the terminal and print a truncated object which fits\n",
            "    the screen width. The IPython notebook, IPython qtconsole, or IDLE\n",
            "    do not run in a terminal and hence it is not possible to do\n",
            "    correct auto-detection.\n",
            "    [default: 20] [currently: 20]\n"
          ]
        }
      ],
      "source": [
        "# se não passar argumento, traz todas as opções\n",
        "pd.describe_option('display.max_columns')"
      ]
    },
    {
      "cell_type": "code",
      "execution_count": 13,
      "metadata": {
        "id": "Gptfp9ygevgS",
        "colab": {
          "base_uri": "https://localhost:8080/",
          "height": 424
        },
        "outputId": "5fcd3949-b4c4-4b2d-fc00-fcf0e0eb2e94"
      },
      "outputs": [
        {
          "output_type": "execute_result",
          "data": {
            "text/plain": [
              "      0     1     2     3     4     5     6     7     8     9   ...    90  \\\n",
              "0      0     1     2     3     4     5     6     7     8     9  ...    90   \n",
              "1    100   101   102   103   104   105   106   107   108   109  ...   190   \n",
              "2    200   201   202   203   204   205   206   207   208   209  ...   290   \n",
              "3    300   301   302   303   304   305   306   307   308   309  ...   390   \n",
              "4    400   401   402   403   404   405   406   407   408   409  ...   490   \n",
              "..   ...   ...   ...   ...   ...   ...   ...   ...   ...   ...  ...   ...   \n",
              "95  9500  9501  9502  9503  9504  9505  9506  9507  9508  9509  ...  9590   \n",
              "96  9600  9601  9602  9603  9604  9605  9606  9607  9608  9609  ...  9690   \n",
              "97  9700  9701  9702  9703  9704  9705  9706  9707  9708  9709  ...  9790   \n",
              "98  9800  9801  9802  9803  9804  9805  9806  9807  9808  9809  ...  9890   \n",
              "99  9900  9901  9902  9903  9904  9905  9906  9907  9908  9909  ...  9990   \n",
              "\n",
              "      91    92    93    94    95    96    97    98    99  \n",
              "0     91    92    93    94    95    96    97    98    99  \n",
              "1    191   192   193   194   195   196   197   198   199  \n",
              "2    291   292   293   294   295   296   297   298   299  \n",
              "3    391   392   393   394   395   396   397   398   399  \n",
              "4    491   492   493   494   495   496   497   498   499  \n",
              "..   ...   ...   ...   ...   ...   ...   ...   ...   ...  \n",
              "95  9591  9592  9593  9594  9595  9596  9597  9598  9599  \n",
              "96  9691  9692  9693  9694  9695  9696  9697  9698  9699  \n",
              "97  9791  9792  9793  9794  9795  9796  9797  9798  9799  \n",
              "98  9891  9892  9893  9894  9895  9896  9897  9898  9899  \n",
              "99  9991  9992  9993  9994  9995  9996  9997  9998  9999  \n",
              "\n",
              "[100 rows x 100 columns]"
            ],
            "text/html": [
              "\n",
              "  <div id=\"df-14fe20bd-a203-45bc-b9e2-5dd50f8e4ce0\">\n",
              "    <div class=\"colab-df-container\">\n",
              "      <div>\n",
              "<style scoped>\n",
              "    .dataframe tbody tr th:only-of-type {\n",
              "        vertical-align: middle;\n",
              "    }\n",
              "\n",
              "    .dataframe tbody tr th {\n",
              "        vertical-align: top;\n",
              "    }\n",
              "\n",
              "    .dataframe thead th {\n",
              "        text-align: right;\n",
              "    }\n",
              "</style>\n",
              "<table border=\"1\" class=\"dataframe\">\n",
              "  <thead>\n",
              "    <tr style=\"text-align: right;\">\n",
              "      <th></th>\n",
              "      <th>0</th>\n",
              "      <th>1</th>\n",
              "      <th>2</th>\n",
              "      <th>3</th>\n",
              "      <th>4</th>\n",
              "      <th>5</th>\n",
              "      <th>6</th>\n",
              "      <th>7</th>\n",
              "      <th>8</th>\n",
              "      <th>9</th>\n",
              "      <th>...</th>\n",
              "      <th>90</th>\n",
              "      <th>91</th>\n",
              "      <th>92</th>\n",
              "      <th>93</th>\n",
              "      <th>94</th>\n",
              "      <th>95</th>\n",
              "      <th>96</th>\n",
              "      <th>97</th>\n",
              "      <th>98</th>\n",
              "      <th>99</th>\n",
              "    </tr>\n",
              "  </thead>\n",
              "  <tbody>\n",
              "    <tr>\n",
              "      <th>0</th>\n",
              "      <td>0</td>\n",
              "      <td>1</td>\n",
              "      <td>2</td>\n",
              "      <td>3</td>\n",
              "      <td>4</td>\n",
              "      <td>5</td>\n",
              "      <td>6</td>\n",
              "      <td>7</td>\n",
              "      <td>8</td>\n",
              "      <td>9</td>\n",
              "      <td>...</td>\n",
              "      <td>90</td>\n",
              "      <td>91</td>\n",
              "      <td>92</td>\n",
              "      <td>93</td>\n",
              "      <td>94</td>\n",
              "      <td>95</td>\n",
              "      <td>96</td>\n",
              "      <td>97</td>\n",
              "      <td>98</td>\n",
              "      <td>99</td>\n",
              "    </tr>\n",
              "    <tr>\n",
              "      <th>1</th>\n",
              "      <td>100</td>\n",
              "      <td>101</td>\n",
              "      <td>102</td>\n",
              "      <td>103</td>\n",
              "      <td>104</td>\n",
              "      <td>105</td>\n",
              "      <td>106</td>\n",
              "      <td>107</td>\n",
              "      <td>108</td>\n",
              "      <td>109</td>\n",
              "      <td>...</td>\n",
              "      <td>190</td>\n",
              "      <td>191</td>\n",
              "      <td>192</td>\n",
              "      <td>193</td>\n",
              "      <td>194</td>\n",
              "      <td>195</td>\n",
              "      <td>196</td>\n",
              "      <td>197</td>\n",
              "      <td>198</td>\n",
              "      <td>199</td>\n",
              "    </tr>\n",
              "    <tr>\n",
              "      <th>2</th>\n",
              "      <td>200</td>\n",
              "      <td>201</td>\n",
              "      <td>202</td>\n",
              "      <td>203</td>\n",
              "      <td>204</td>\n",
              "      <td>205</td>\n",
              "      <td>206</td>\n",
              "      <td>207</td>\n",
              "      <td>208</td>\n",
              "      <td>209</td>\n",
              "      <td>...</td>\n",
              "      <td>290</td>\n",
              "      <td>291</td>\n",
              "      <td>292</td>\n",
              "      <td>293</td>\n",
              "      <td>294</td>\n",
              "      <td>295</td>\n",
              "      <td>296</td>\n",
              "      <td>297</td>\n",
              "      <td>298</td>\n",
              "      <td>299</td>\n",
              "    </tr>\n",
              "    <tr>\n",
              "      <th>3</th>\n",
              "      <td>300</td>\n",
              "      <td>301</td>\n",
              "      <td>302</td>\n",
              "      <td>303</td>\n",
              "      <td>304</td>\n",
              "      <td>305</td>\n",
              "      <td>306</td>\n",
              "      <td>307</td>\n",
              "      <td>308</td>\n",
              "      <td>309</td>\n",
              "      <td>...</td>\n",
              "      <td>390</td>\n",
              "      <td>391</td>\n",
              "      <td>392</td>\n",
              "      <td>393</td>\n",
              "      <td>394</td>\n",
              "      <td>395</td>\n",
              "      <td>396</td>\n",
              "      <td>397</td>\n",
              "      <td>398</td>\n",
              "      <td>399</td>\n",
              "    </tr>\n",
              "    <tr>\n",
              "      <th>4</th>\n",
              "      <td>400</td>\n",
              "      <td>401</td>\n",
              "      <td>402</td>\n",
              "      <td>403</td>\n",
              "      <td>404</td>\n",
              "      <td>405</td>\n",
              "      <td>406</td>\n",
              "      <td>407</td>\n",
              "      <td>408</td>\n",
              "      <td>409</td>\n",
              "      <td>...</td>\n",
              "      <td>490</td>\n",
              "      <td>491</td>\n",
              "      <td>492</td>\n",
              "      <td>493</td>\n",
              "      <td>494</td>\n",
              "      <td>495</td>\n",
              "      <td>496</td>\n",
              "      <td>497</td>\n",
              "      <td>498</td>\n",
              "      <td>499</td>\n",
              "    </tr>\n",
              "    <tr>\n",
              "      <th>...</th>\n",
              "      <td>...</td>\n",
              "      <td>...</td>\n",
              "      <td>...</td>\n",
              "      <td>...</td>\n",
              "      <td>...</td>\n",
              "      <td>...</td>\n",
              "      <td>...</td>\n",
              "      <td>...</td>\n",
              "      <td>...</td>\n",
              "      <td>...</td>\n",
              "      <td>...</td>\n",
              "      <td>...</td>\n",
              "      <td>...</td>\n",
              "      <td>...</td>\n",
              "      <td>...</td>\n",
              "      <td>...</td>\n",
              "      <td>...</td>\n",
              "      <td>...</td>\n",
              "      <td>...</td>\n",
              "      <td>...</td>\n",
              "      <td>...</td>\n",
              "    </tr>\n",
              "    <tr>\n",
              "      <th>95</th>\n",
              "      <td>9500</td>\n",
              "      <td>9501</td>\n",
              "      <td>9502</td>\n",
              "      <td>9503</td>\n",
              "      <td>9504</td>\n",
              "      <td>9505</td>\n",
              "      <td>9506</td>\n",
              "      <td>9507</td>\n",
              "      <td>9508</td>\n",
              "      <td>9509</td>\n",
              "      <td>...</td>\n",
              "      <td>9590</td>\n",
              "      <td>9591</td>\n",
              "      <td>9592</td>\n",
              "      <td>9593</td>\n",
              "      <td>9594</td>\n",
              "      <td>9595</td>\n",
              "      <td>9596</td>\n",
              "      <td>9597</td>\n",
              "      <td>9598</td>\n",
              "      <td>9599</td>\n",
              "    </tr>\n",
              "    <tr>\n",
              "      <th>96</th>\n",
              "      <td>9600</td>\n",
              "      <td>9601</td>\n",
              "      <td>9602</td>\n",
              "      <td>9603</td>\n",
              "      <td>9604</td>\n",
              "      <td>9605</td>\n",
              "      <td>9606</td>\n",
              "      <td>9607</td>\n",
              "      <td>9608</td>\n",
              "      <td>9609</td>\n",
              "      <td>...</td>\n",
              "      <td>9690</td>\n",
              "      <td>9691</td>\n",
              "      <td>9692</td>\n",
              "      <td>9693</td>\n",
              "      <td>9694</td>\n",
              "      <td>9695</td>\n",
              "      <td>9696</td>\n",
              "      <td>9697</td>\n",
              "      <td>9698</td>\n",
              "      <td>9699</td>\n",
              "    </tr>\n",
              "    <tr>\n",
              "      <th>97</th>\n",
              "      <td>9700</td>\n",
              "      <td>9701</td>\n",
              "      <td>9702</td>\n",
              "      <td>9703</td>\n",
              "      <td>9704</td>\n",
              "      <td>9705</td>\n",
              "      <td>9706</td>\n",
              "      <td>9707</td>\n",
              "      <td>9708</td>\n",
              "      <td>9709</td>\n",
              "      <td>...</td>\n",
              "      <td>9790</td>\n",
              "      <td>9791</td>\n",
              "      <td>9792</td>\n",
              "      <td>9793</td>\n",
              "      <td>9794</td>\n",
              "      <td>9795</td>\n",
              "      <td>9796</td>\n",
              "      <td>9797</td>\n",
              "      <td>9798</td>\n",
              "      <td>9799</td>\n",
              "    </tr>\n",
              "    <tr>\n",
              "      <th>98</th>\n",
              "      <td>9800</td>\n",
              "      <td>9801</td>\n",
              "      <td>9802</td>\n",
              "      <td>9803</td>\n",
              "      <td>9804</td>\n",
              "      <td>9805</td>\n",
              "      <td>9806</td>\n",
              "      <td>9807</td>\n",
              "      <td>9808</td>\n",
              "      <td>9809</td>\n",
              "      <td>...</td>\n",
              "      <td>9890</td>\n",
              "      <td>9891</td>\n",
              "      <td>9892</td>\n",
              "      <td>9893</td>\n",
              "      <td>9894</td>\n",
              "      <td>9895</td>\n",
              "      <td>9896</td>\n",
              "      <td>9897</td>\n",
              "      <td>9898</td>\n",
              "      <td>9899</td>\n",
              "    </tr>\n",
              "    <tr>\n",
              "      <th>99</th>\n",
              "      <td>9900</td>\n",
              "      <td>9901</td>\n",
              "      <td>9902</td>\n",
              "      <td>9903</td>\n",
              "      <td>9904</td>\n",
              "      <td>9905</td>\n",
              "      <td>9906</td>\n",
              "      <td>9907</td>\n",
              "      <td>9908</td>\n",
              "      <td>9909</td>\n",
              "      <td>...</td>\n",
              "      <td>9990</td>\n",
              "      <td>9991</td>\n",
              "      <td>9992</td>\n",
              "      <td>9993</td>\n",
              "      <td>9994</td>\n",
              "      <td>9995</td>\n",
              "      <td>9996</td>\n",
              "      <td>9997</td>\n",
              "      <td>9998</td>\n",
              "      <td>9999</td>\n",
              "    </tr>\n",
              "  </tbody>\n",
              "</table>\n",
              "<p>100 rows × 100 columns</p>\n",
              "</div>\n",
              "      <button class=\"colab-df-convert\" onclick=\"convertToInteractive('df-14fe20bd-a203-45bc-b9e2-5dd50f8e4ce0')\"\n",
              "              title=\"Convert this dataframe to an interactive table.\"\n",
              "              style=\"display:none;\">\n",
              "        \n",
              "  <svg xmlns=\"http://www.w3.org/2000/svg\" height=\"24px\"viewBox=\"0 0 24 24\"\n",
              "       width=\"24px\">\n",
              "    <path d=\"M0 0h24v24H0V0z\" fill=\"none\"/>\n",
              "    <path d=\"M18.56 5.44l.94 2.06.94-2.06 2.06-.94-2.06-.94-.94-2.06-.94 2.06-2.06.94zm-11 1L8.5 8.5l.94-2.06 2.06-.94-2.06-.94L8.5 2.5l-.94 2.06-2.06.94zm10 10l.94 2.06.94-2.06 2.06-.94-2.06-.94-.94-2.06-.94 2.06-2.06.94z\"/><path d=\"M17.41 7.96l-1.37-1.37c-.4-.4-.92-.59-1.43-.59-.52 0-1.04.2-1.43.59L10.3 9.45l-7.72 7.72c-.78.78-.78 2.05 0 2.83L4 21.41c.39.39.9.59 1.41.59.51 0 1.02-.2 1.41-.59l7.78-7.78 2.81-2.81c.8-.78.8-2.07 0-2.86zM5.41 20L4 18.59l7.72-7.72 1.47 1.35L5.41 20z\"/>\n",
              "  </svg>\n",
              "      </button>\n",
              "      \n",
              "  <style>\n",
              "    .colab-df-container {\n",
              "      display:flex;\n",
              "      flex-wrap:wrap;\n",
              "      gap: 12px;\n",
              "    }\n",
              "\n",
              "    .colab-df-convert {\n",
              "      background-color: #E8F0FE;\n",
              "      border: none;\n",
              "      border-radius: 50%;\n",
              "      cursor: pointer;\n",
              "      display: none;\n",
              "      fill: #1967D2;\n",
              "      height: 32px;\n",
              "      padding: 0 0 0 0;\n",
              "      width: 32px;\n",
              "    }\n",
              "\n",
              "    .colab-df-convert:hover {\n",
              "      background-color: #E2EBFA;\n",
              "      box-shadow: 0px 1px 2px rgba(60, 64, 67, 0.3), 0px 1px 3px 1px rgba(60, 64, 67, 0.15);\n",
              "      fill: #174EA6;\n",
              "    }\n",
              "\n",
              "    [theme=dark] .colab-df-convert {\n",
              "      background-color: #3B4455;\n",
              "      fill: #D2E3FC;\n",
              "    }\n",
              "\n",
              "    [theme=dark] .colab-df-convert:hover {\n",
              "      background-color: #434B5C;\n",
              "      box-shadow: 0px 1px 3px 1px rgba(0, 0, 0, 0.15);\n",
              "      filter: drop-shadow(0px 1px 2px rgba(0, 0, 0, 0.3));\n",
              "      fill: #FFFFFF;\n",
              "    }\n",
              "  </style>\n",
              "\n",
              "      <script>\n",
              "        const buttonEl =\n",
              "          document.querySelector('#df-14fe20bd-a203-45bc-b9e2-5dd50f8e4ce0 button.colab-df-convert');\n",
              "        buttonEl.style.display =\n",
              "          google.colab.kernel.accessAllowed ? 'block' : 'none';\n",
              "\n",
              "        async function convertToInteractive(key) {\n",
              "          const element = document.querySelector('#df-14fe20bd-a203-45bc-b9e2-5dd50f8e4ce0');\n",
              "          const dataTable =\n",
              "            await google.colab.kernel.invokeFunction('convertToInteractive',\n",
              "                                                     [key], {});\n",
              "          if (!dataTable) return;\n",
              "\n",
              "          const docLinkHtml = 'Like what you see? Visit the ' +\n",
              "            '<a target=\"_blank\" href=https://colab.research.google.com/notebooks/data_table.ipynb>data table notebook</a>'\n",
              "            + ' to learn more about interactive tables.';\n",
              "          element.innerHTML = '';\n",
              "          dataTable['output_type'] = 'display_data';\n",
              "          await google.colab.output.renderOutput(dataTable, element);\n",
              "          const docLink = document.createElement('div');\n",
              "          docLink.innerHTML = docLinkHtml;\n",
              "          element.appendChild(docLink);\n",
              "        }\n",
              "      </script>\n",
              "    </div>\n",
              "  </div>\n",
              "  "
            ]
          },
          "metadata": {},
          "execution_count": 13
        }
      ],
      "source": [
        "# visualizando como está o default das opções (trunca algumas linhas e colunas)\n",
        "import numpy as np\n",
        "\n",
        "df = pd.DataFrame(np.arange(10000).reshape(100, 100))\n",
        "df"
      ]
    },
    {
      "cell_type": "code",
      "execution_count": 14,
      "metadata": {
        "id": "QIif0CPGevgS"
      },
      "outputs": [],
      "source": [
        "pd.set_option('display.max_rows', 1000)\n",
        "pd.set_option('display.max_columns', 100)"
      ]
    },
    {
      "cell_type": "code",
      "execution_count": null,
      "metadata": {
        "id": "MY69H5oEevgS"
      },
      "outputs": [],
      "source": [
        "df"
      ]
    },
    {
      "cell_type": "code",
      "execution_count": 16,
      "metadata": {
        "id": "I2UKn2kWevgT"
      },
      "outputs": [],
      "source": [
        "pd.reset_option('display.max_rows')"
      ]
    },
    {
      "cell_type": "code",
      "execution_count": 17,
      "metadata": {
        "id": "HaWo0sq5evgT",
        "colab": {
          "base_uri": "https://localhost:8080/",
          "height": 488
        },
        "outputId": "5d3598ac-013e-4d98-e04e-0ef0d44885a2"
      },
      "outputs": [
        {
          "output_type": "execute_result",
          "data": {
            "text/plain": [
              "      0     1     2     3     4     5     6     7     8     9     10    11  \\\n",
              "0      0     1     2     3     4     5     6     7     8     9    10    11   \n",
              "1    100   101   102   103   104   105   106   107   108   109   110   111   \n",
              "2    200   201   202   203   204   205   206   207   208   209   210   211   \n",
              "3    300   301   302   303   304   305   306   307   308   309   310   311   \n",
              "4    400   401   402   403   404   405   406   407   408   409   410   411   \n",
              "..   ...   ...   ...   ...   ...   ...   ...   ...   ...   ...   ...   ...   \n",
              "95  9500  9501  9502  9503  9504  9505  9506  9507  9508  9509  9510  9511   \n",
              "96  9600  9601  9602  9603  9604  9605  9606  9607  9608  9609  9610  9611   \n",
              "97  9700  9701  9702  9703  9704  9705  9706  9707  9708  9709  9710  9711   \n",
              "98  9800  9801  9802  9803  9804  9805  9806  9807  9808  9809  9810  9811   \n",
              "99  9900  9901  9902  9903  9904  9905  9906  9907  9908  9909  9910  9911   \n",
              "\n",
              "      12    13    14    15    16    17    18    19    20    21    22    23  \\\n",
              "0     12    13    14    15    16    17    18    19    20    21    22    23   \n",
              "1    112   113   114   115   116   117   118   119   120   121   122   123   \n",
              "2    212   213   214   215   216   217   218   219   220   221   222   223   \n",
              "3    312   313   314   315   316   317   318   319   320   321   322   323   \n",
              "4    412   413   414   415   416   417   418   419   420   421   422   423   \n",
              "..   ...   ...   ...   ...   ...   ...   ...   ...   ...   ...   ...   ...   \n",
              "95  9512  9513  9514  9515  9516  9517  9518  9519  9520  9521  9522  9523   \n",
              "96  9612  9613  9614  9615  9616  9617  9618  9619  9620  9621  9622  9623   \n",
              "97  9712  9713  9714  9715  9716  9717  9718  9719  9720  9721  9722  9723   \n",
              "98  9812  9813  9814  9815  9816  9817  9818  9819  9820  9821  9822  9823   \n",
              "99  9912  9913  9914  9915  9916  9917  9918  9919  9920  9921  9922  9923   \n",
              "\n",
              "      24    25    26    27    28    29    30    31    32    33    34    35  \\\n",
              "0     24    25    26    27    28    29    30    31    32    33    34    35   \n",
              "1    124   125   126   127   128   129   130   131   132   133   134   135   \n",
              "2    224   225   226   227   228   229   230   231   232   233   234   235   \n",
              "3    324   325   326   327   328   329   330   331   332   333   334   335   \n",
              "4    424   425   426   427   428   429   430   431   432   433   434   435   \n",
              "..   ...   ...   ...   ...   ...   ...   ...   ...   ...   ...   ...   ...   \n",
              "95  9524  9525  9526  9527  9528  9529  9530  9531  9532  9533  9534  9535   \n",
              "96  9624  9625  9626  9627  9628  9629  9630  9631  9632  9633  9634  9635   \n",
              "97  9724  9725  9726  9727  9728  9729  9730  9731  9732  9733  9734  9735   \n",
              "98  9824  9825  9826  9827  9828  9829  9830  9831  9832  9833  9834  9835   \n",
              "99  9924  9925  9926  9927  9928  9929  9930  9931  9932  9933  9934  9935   \n",
              "\n",
              "      36    37    38    39    40    41    42    43    44    45    46    47  \\\n",
              "0     36    37    38    39    40    41    42    43    44    45    46    47   \n",
              "1    136   137   138   139   140   141   142   143   144   145   146   147   \n",
              "2    236   237   238   239   240   241   242   243   244   245   246   247   \n",
              "3    336   337   338   339   340   341   342   343   344   345   346   347   \n",
              "4    436   437   438   439   440   441   442   443   444   445   446   447   \n",
              "..   ...   ...   ...   ...   ...   ...   ...   ...   ...   ...   ...   ...   \n",
              "95  9536  9537  9538  9539  9540  9541  9542  9543  9544  9545  9546  9547   \n",
              "96  9636  9637  9638  9639  9640  9641  9642  9643  9644  9645  9646  9647   \n",
              "97  9736  9737  9738  9739  9740  9741  9742  9743  9744  9745  9746  9747   \n",
              "98  9836  9837  9838  9839  9840  9841  9842  9843  9844  9845  9846  9847   \n",
              "99  9936  9937  9938  9939  9940  9941  9942  9943  9944  9945  9946  9947   \n",
              "\n",
              "      48    49    50    51    52    53    54    55    56    57    58    59  \\\n",
              "0     48    49    50    51    52    53    54    55    56    57    58    59   \n",
              "1    148   149   150   151   152   153   154   155   156   157   158   159   \n",
              "2    248   249   250   251   252   253   254   255   256   257   258   259   \n",
              "3    348   349   350   351   352   353   354   355   356   357   358   359   \n",
              "4    448   449   450   451   452   453   454   455   456   457   458   459   \n",
              "..   ...   ...   ...   ...   ...   ...   ...   ...   ...   ...   ...   ...   \n",
              "95  9548  9549  9550  9551  9552  9553  9554  9555  9556  9557  9558  9559   \n",
              "96  9648  9649  9650  9651  9652  9653  9654  9655  9656  9657  9658  9659   \n",
              "97  9748  9749  9750  9751  9752  9753  9754  9755  9756  9757  9758  9759   \n",
              "98  9848  9849  9850  9851  9852  9853  9854  9855  9856  9857  9858  9859   \n",
              "99  9948  9949  9950  9951  9952  9953  9954  9955  9956  9957  9958  9959   \n",
              "\n",
              "      60    61    62    63    64    65    66    67    68    69    70    71  \\\n",
              "0     60    61    62    63    64    65    66    67    68    69    70    71   \n",
              "1    160   161   162   163   164   165   166   167   168   169   170   171   \n",
              "2    260   261   262   263   264   265   266   267   268   269   270   271   \n",
              "3    360   361   362   363   364   365   366   367   368   369   370   371   \n",
              "4    460   461   462   463   464   465   466   467   468   469   470   471   \n",
              "..   ...   ...   ...   ...   ...   ...   ...   ...   ...   ...   ...   ...   \n",
              "95  9560  9561  9562  9563  9564  9565  9566  9567  9568  9569  9570  9571   \n",
              "96  9660  9661  9662  9663  9664  9665  9666  9667  9668  9669  9670  9671   \n",
              "97  9760  9761  9762  9763  9764  9765  9766  9767  9768  9769  9770  9771   \n",
              "98  9860  9861  9862  9863  9864  9865  9866  9867  9868  9869  9870  9871   \n",
              "99  9960  9961  9962  9963  9964  9965  9966  9967  9968  9969  9970  9971   \n",
              "\n",
              "      72    73    74    75    76    77    78    79    80    81    82    83  \\\n",
              "0     72    73    74    75    76    77    78    79    80    81    82    83   \n",
              "1    172   173   174   175   176   177   178   179   180   181   182   183   \n",
              "2    272   273   274   275   276   277   278   279   280   281   282   283   \n",
              "3    372   373   374   375   376   377   378   379   380   381   382   383   \n",
              "4    472   473   474   475   476   477   478   479   480   481   482   483   \n",
              "..   ...   ...   ...   ...   ...   ...   ...   ...   ...   ...   ...   ...   \n",
              "95  9572  9573  9574  9575  9576  9577  9578  9579  9580  9581  9582  9583   \n",
              "96  9672  9673  9674  9675  9676  9677  9678  9679  9680  9681  9682  9683   \n",
              "97  9772  9773  9774  9775  9776  9777  9778  9779  9780  9781  9782  9783   \n",
              "98  9872  9873  9874  9875  9876  9877  9878  9879  9880  9881  9882  9883   \n",
              "99  9972  9973  9974  9975  9976  9977  9978  9979  9980  9981  9982  9983   \n",
              "\n",
              "      84    85    86    87    88    89    90    91    92    93    94    95  \\\n",
              "0     84    85    86    87    88    89    90    91    92    93    94    95   \n",
              "1    184   185   186   187   188   189   190   191   192   193   194   195   \n",
              "2    284   285   286   287   288   289   290   291   292   293   294   295   \n",
              "3    384   385   386   387   388   389   390   391   392   393   394   395   \n",
              "4    484   485   486   487   488   489   490   491   492   493   494   495   \n",
              "..   ...   ...   ...   ...   ...   ...   ...   ...   ...   ...   ...   ...   \n",
              "95  9584  9585  9586  9587  9588  9589  9590  9591  9592  9593  9594  9595   \n",
              "96  9684  9685  9686  9687  9688  9689  9690  9691  9692  9693  9694  9695   \n",
              "97  9784  9785  9786  9787  9788  9789  9790  9791  9792  9793  9794  9795   \n",
              "98  9884  9885  9886  9887  9888  9889  9890  9891  9892  9893  9894  9895   \n",
              "99  9984  9985  9986  9987  9988  9989  9990  9991  9992  9993  9994  9995   \n",
              "\n",
              "      96    97    98    99  \n",
              "0     96    97    98    99  \n",
              "1    196   197   198   199  \n",
              "2    296   297   298   299  \n",
              "3    396   397   398   399  \n",
              "4    496   497   498   499  \n",
              "..   ...   ...   ...   ...  \n",
              "95  9596  9597  9598  9599  \n",
              "96  9696  9697  9698  9699  \n",
              "97  9796  9797  9798  9799  \n",
              "98  9896  9897  9898  9899  \n",
              "99  9996  9997  9998  9999  \n",
              "\n",
              "[100 rows x 100 columns]"
            ],
            "text/html": [
              "\n",
              "  <div id=\"df-7b0e8e48-25f7-419b-8e96-8e34f61c4606\">\n",
              "    <div class=\"colab-df-container\">\n",
              "      <div>\n",
              "<style scoped>\n",
              "    .dataframe tbody tr th:only-of-type {\n",
              "        vertical-align: middle;\n",
              "    }\n",
              "\n",
              "    .dataframe tbody tr th {\n",
              "        vertical-align: top;\n",
              "    }\n",
              "\n",
              "    .dataframe thead th {\n",
              "        text-align: right;\n",
              "    }\n",
              "</style>\n",
              "<table border=\"1\" class=\"dataframe\">\n",
              "  <thead>\n",
              "    <tr style=\"text-align: right;\">\n",
              "      <th></th>\n",
              "      <th>0</th>\n",
              "      <th>1</th>\n",
              "      <th>2</th>\n",
              "      <th>3</th>\n",
              "      <th>4</th>\n",
              "      <th>5</th>\n",
              "      <th>6</th>\n",
              "      <th>7</th>\n",
              "      <th>8</th>\n",
              "      <th>9</th>\n",
              "      <th>10</th>\n",
              "      <th>11</th>\n",
              "      <th>12</th>\n",
              "      <th>13</th>\n",
              "      <th>14</th>\n",
              "      <th>15</th>\n",
              "      <th>16</th>\n",
              "      <th>17</th>\n",
              "      <th>18</th>\n",
              "      <th>19</th>\n",
              "      <th>20</th>\n",
              "      <th>21</th>\n",
              "      <th>22</th>\n",
              "      <th>23</th>\n",
              "      <th>24</th>\n",
              "      <th>25</th>\n",
              "      <th>26</th>\n",
              "      <th>27</th>\n",
              "      <th>28</th>\n",
              "      <th>29</th>\n",
              "      <th>30</th>\n",
              "      <th>31</th>\n",
              "      <th>32</th>\n",
              "      <th>33</th>\n",
              "      <th>34</th>\n",
              "      <th>35</th>\n",
              "      <th>36</th>\n",
              "      <th>37</th>\n",
              "      <th>38</th>\n",
              "      <th>39</th>\n",
              "      <th>40</th>\n",
              "      <th>41</th>\n",
              "      <th>42</th>\n",
              "      <th>43</th>\n",
              "      <th>44</th>\n",
              "      <th>45</th>\n",
              "      <th>46</th>\n",
              "      <th>47</th>\n",
              "      <th>48</th>\n",
              "      <th>49</th>\n",
              "      <th>50</th>\n",
              "      <th>51</th>\n",
              "      <th>52</th>\n",
              "      <th>53</th>\n",
              "      <th>54</th>\n",
              "      <th>55</th>\n",
              "      <th>56</th>\n",
              "      <th>57</th>\n",
              "      <th>58</th>\n",
              "      <th>59</th>\n",
              "      <th>60</th>\n",
              "      <th>61</th>\n",
              "      <th>62</th>\n",
              "      <th>63</th>\n",
              "      <th>64</th>\n",
              "      <th>65</th>\n",
              "      <th>66</th>\n",
              "      <th>67</th>\n",
              "      <th>68</th>\n",
              "      <th>69</th>\n",
              "      <th>70</th>\n",
              "      <th>71</th>\n",
              "      <th>72</th>\n",
              "      <th>73</th>\n",
              "      <th>74</th>\n",
              "      <th>75</th>\n",
              "      <th>76</th>\n",
              "      <th>77</th>\n",
              "      <th>78</th>\n",
              "      <th>79</th>\n",
              "      <th>80</th>\n",
              "      <th>81</th>\n",
              "      <th>82</th>\n",
              "      <th>83</th>\n",
              "      <th>84</th>\n",
              "      <th>85</th>\n",
              "      <th>86</th>\n",
              "      <th>87</th>\n",
              "      <th>88</th>\n",
              "      <th>89</th>\n",
              "      <th>90</th>\n",
              "      <th>91</th>\n",
              "      <th>92</th>\n",
              "      <th>93</th>\n",
              "      <th>94</th>\n",
              "      <th>95</th>\n",
              "      <th>96</th>\n",
              "      <th>97</th>\n",
              "      <th>98</th>\n",
              "      <th>99</th>\n",
              "    </tr>\n",
              "  </thead>\n",
              "  <tbody>\n",
              "    <tr>\n",
              "      <th>0</th>\n",
              "      <td>0</td>\n",
              "      <td>1</td>\n",
              "      <td>2</td>\n",
              "      <td>3</td>\n",
              "      <td>4</td>\n",
              "      <td>5</td>\n",
              "      <td>6</td>\n",
              "      <td>7</td>\n",
              "      <td>8</td>\n",
              "      <td>9</td>\n",
              "      <td>10</td>\n",
              "      <td>11</td>\n",
              "      <td>12</td>\n",
              "      <td>13</td>\n",
              "      <td>14</td>\n",
              "      <td>15</td>\n",
              "      <td>16</td>\n",
              "      <td>17</td>\n",
              "      <td>18</td>\n",
              "      <td>19</td>\n",
              "      <td>20</td>\n",
              "      <td>21</td>\n",
              "      <td>22</td>\n",
              "      <td>23</td>\n",
              "      <td>24</td>\n",
              "      <td>25</td>\n",
              "      <td>26</td>\n",
              "      <td>27</td>\n",
              "      <td>28</td>\n",
              "      <td>29</td>\n",
              "      <td>30</td>\n",
              "      <td>31</td>\n",
              "      <td>32</td>\n",
              "      <td>33</td>\n",
              "      <td>34</td>\n",
              "      <td>35</td>\n",
              "      <td>36</td>\n",
              "      <td>37</td>\n",
              "      <td>38</td>\n",
              "      <td>39</td>\n",
              "      <td>40</td>\n",
              "      <td>41</td>\n",
              "      <td>42</td>\n",
              "      <td>43</td>\n",
              "      <td>44</td>\n",
              "      <td>45</td>\n",
              "      <td>46</td>\n",
              "      <td>47</td>\n",
              "      <td>48</td>\n",
              "      <td>49</td>\n",
              "      <td>50</td>\n",
              "      <td>51</td>\n",
              "      <td>52</td>\n",
              "      <td>53</td>\n",
              "      <td>54</td>\n",
              "      <td>55</td>\n",
              "      <td>56</td>\n",
              "      <td>57</td>\n",
              "      <td>58</td>\n",
              "      <td>59</td>\n",
              "      <td>60</td>\n",
              "      <td>61</td>\n",
              "      <td>62</td>\n",
              "      <td>63</td>\n",
              "      <td>64</td>\n",
              "      <td>65</td>\n",
              "      <td>66</td>\n",
              "      <td>67</td>\n",
              "      <td>68</td>\n",
              "      <td>69</td>\n",
              "      <td>70</td>\n",
              "      <td>71</td>\n",
              "      <td>72</td>\n",
              "      <td>73</td>\n",
              "      <td>74</td>\n",
              "      <td>75</td>\n",
              "      <td>76</td>\n",
              "      <td>77</td>\n",
              "      <td>78</td>\n",
              "      <td>79</td>\n",
              "      <td>80</td>\n",
              "      <td>81</td>\n",
              "      <td>82</td>\n",
              "      <td>83</td>\n",
              "      <td>84</td>\n",
              "      <td>85</td>\n",
              "      <td>86</td>\n",
              "      <td>87</td>\n",
              "      <td>88</td>\n",
              "      <td>89</td>\n",
              "      <td>90</td>\n",
              "      <td>91</td>\n",
              "      <td>92</td>\n",
              "      <td>93</td>\n",
              "      <td>94</td>\n",
              "      <td>95</td>\n",
              "      <td>96</td>\n",
              "      <td>97</td>\n",
              "      <td>98</td>\n",
              "      <td>99</td>\n",
              "    </tr>\n",
              "    <tr>\n",
              "      <th>1</th>\n",
              "      <td>100</td>\n",
              "      <td>101</td>\n",
              "      <td>102</td>\n",
              "      <td>103</td>\n",
              "      <td>104</td>\n",
              "      <td>105</td>\n",
              "      <td>106</td>\n",
              "      <td>107</td>\n",
              "      <td>108</td>\n",
              "      <td>109</td>\n",
              "      <td>110</td>\n",
              "      <td>111</td>\n",
              "      <td>112</td>\n",
              "      <td>113</td>\n",
              "      <td>114</td>\n",
              "      <td>115</td>\n",
              "      <td>116</td>\n",
              "      <td>117</td>\n",
              "      <td>118</td>\n",
              "      <td>119</td>\n",
              "      <td>120</td>\n",
              "      <td>121</td>\n",
              "      <td>122</td>\n",
              "      <td>123</td>\n",
              "      <td>124</td>\n",
              "      <td>125</td>\n",
              "      <td>126</td>\n",
              "      <td>127</td>\n",
              "      <td>128</td>\n",
              "      <td>129</td>\n",
              "      <td>130</td>\n",
              "      <td>131</td>\n",
              "      <td>132</td>\n",
              "      <td>133</td>\n",
              "      <td>134</td>\n",
              "      <td>135</td>\n",
              "      <td>136</td>\n",
              "      <td>137</td>\n",
              "      <td>138</td>\n",
              "      <td>139</td>\n",
              "      <td>140</td>\n",
              "      <td>141</td>\n",
              "      <td>142</td>\n",
              "      <td>143</td>\n",
              "      <td>144</td>\n",
              "      <td>145</td>\n",
              "      <td>146</td>\n",
              "      <td>147</td>\n",
              "      <td>148</td>\n",
              "      <td>149</td>\n",
              "      <td>150</td>\n",
              "      <td>151</td>\n",
              "      <td>152</td>\n",
              "      <td>153</td>\n",
              "      <td>154</td>\n",
              "      <td>155</td>\n",
              "      <td>156</td>\n",
              "      <td>157</td>\n",
              "      <td>158</td>\n",
              "      <td>159</td>\n",
              "      <td>160</td>\n",
              "      <td>161</td>\n",
              "      <td>162</td>\n",
              "      <td>163</td>\n",
              "      <td>164</td>\n",
              "      <td>165</td>\n",
              "      <td>166</td>\n",
              "      <td>167</td>\n",
              "      <td>168</td>\n",
              "      <td>169</td>\n",
              "      <td>170</td>\n",
              "      <td>171</td>\n",
              "      <td>172</td>\n",
              "      <td>173</td>\n",
              "      <td>174</td>\n",
              "      <td>175</td>\n",
              "      <td>176</td>\n",
              "      <td>177</td>\n",
              "      <td>178</td>\n",
              "      <td>179</td>\n",
              "      <td>180</td>\n",
              "      <td>181</td>\n",
              "      <td>182</td>\n",
              "      <td>183</td>\n",
              "      <td>184</td>\n",
              "      <td>185</td>\n",
              "      <td>186</td>\n",
              "      <td>187</td>\n",
              "      <td>188</td>\n",
              "      <td>189</td>\n",
              "      <td>190</td>\n",
              "      <td>191</td>\n",
              "      <td>192</td>\n",
              "      <td>193</td>\n",
              "      <td>194</td>\n",
              "      <td>195</td>\n",
              "      <td>196</td>\n",
              "      <td>197</td>\n",
              "      <td>198</td>\n",
              "      <td>199</td>\n",
              "    </tr>\n",
              "    <tr>\n",
              "      <th>2</th>\n",
              "      <td>200</td>\n",
              "      <td>201</td>\n",
              "      <td>202</td>\n",
              "      <td>203</td>\n",
              "      <td>204</td>\n",
              "      <td>205</td>\n",
              "      <td>206</td>\n",
              "      <td>207</td>\n",
              "      <td>208</td>\n",
              "      <td>209</td>\n",
              "      <td>210</td>\n",
              "      <td>211</td>\n",
              "      <td>212</td>\n",
              "      <td>213</td>\n",
              "      <td>214</td>\n",
              "      <td>215</td>\n",
              "      <td>216</td>\n",
              "      <td>217</td>\n",
              "      <td>218</td>\n",
              "      <td>219</td>\n",
              "      <td>220</td>\n",
              "      <td>221</td>\n",
              "      <td>222</td>\n",
              "      <td>223</td>\n",
              "      <td>224</td>\n",
              "      <td>225</td>\n",
              "      <td>226</td>\n",
              "      <td>227</td>\n",
              "      <td>228</td>\n",
              "      <td>229</td>\n",
              "      <td>230</td>\n",
              "      <td>231</td>\n",
              "      <td>232</td>\n",
              "      <td>233</td>\n",
              "      <td>234</td>\n",
              "      <td>235</td>\n",
              "      <td>236</td>\n",
              "      <td>237</td>\n",
              "      <td>238</td>\n",
              "      <td>239</td>\n",
              "      <td>240</td>\n",
              "      <td>241</td>\n",
              "      <td>242</td>\n",
              "      <td>243</td>\n",
              "      <td>244</td>\n",
              "      <td>245</td>\n",
              "      <td>246</td>\n",
              "      <td>247</td>\n",
              "      <td>248</td>\n",
              "      <td>249</td>\n",
              "      <td>250</td>\n",
              "      <td>251</td>\n",
              "      <td>252</td>\n",
              "      <td>253</td>\n",
              "      <td>254</td>\n",
              "      <td>255</td>\n",
              "      <td>256</td>\n",
              "      <td>257</td>\n",
              "      <td>258</td>\n",
              "      <td>259</td>\n",
              "      <td>260</td>\n",
              "      <td>261</td>\n",
              "      <td>262</td>\n",
              "      <td>263</td>\n",
              "      <td>264</td>\n",
              "      <td>265</td>\n",
              "      <td>266</td>\n",
              "      <td>267</td>\n",
              "      <td>268</td>\n",
              "      <td>269</td>\n",
              "      <td>270</td>\n",
              "      <td>271</td>\n",
              "      <td>272</td>\n",
              "      <td>273</td>\n",
              "      <td>274</td>\n",
              "      <td>275</td>\n",
              "      <td>276</td>\n",
              "      <td>277</td>\n",
              "      <td>278</td>\n",
              "      <td>279</td>\n",
              "      <td>280</td>\n",
              "      <td>281</td>\n",
              "      <td>282</td>\n",
              "      <td>283</td>\n",
              "      <td>284</td>\n",
              "      <td>285</td>\n",
              "      <td>286</td>\n",
              "      <td>287</td>\n",
              "      <td>288</td>\n",
              "      <td>289</td>\n",
              "      <td>290</td>\n",
              "      <td>291</td>\n",
              "      <td>292</td>\n",
              "      <td>293</td>\n",
              "      <td>294</td>\n",
              "      <td>295</td>\n",
              "      <td>296</td>\n",
              "      <td>297</td>\n",
              "      <td>298</td>\n",
              "      <td>299</td>\n",
              "    </tr>\n",
              "    <tr>\n",
              "      <th>3</th>\n",
              "      <td>300</td>\n",
              "      <td>301</td>\n",
              "      <td>302</td>\n",
              "      <td>303</td>\n",
              "      <td>304</td>\n",
              "      <td>305</td>\n",
              "      <td>306</td>\n",
              "      <td>307</td>\n",
              "      <td>308</td>\n",
              "      <td>309</td>\n",
              "      <td>310</td>\n",
              "      <td>311</td>\n",
              "      <td>312</td>\n",
              "      <td>313</td>\n",
              "      <td>314</td>\n",
              "      <td>315</td>\n",
              "      <td>316</td>\n",
              "      <td>317</td>\n",
              "      <td>318</td>\n",
              "      <td>319</td>\n",
              "      <td>320</td>\n",
              "      <td>321</td>\n",
              "      <td>322</td>\n",
              "      <td>323</td>\n",
              "      <td>324</td>\n",
              "      <td>325</td>\n",
              "      <td>326</td>\n",
              "      <td>327</td>\n",
              "      <td>328</td>\n",
              "      <td>329</td>\n",
              "      <td>330</td>\n",
              "      <td>331</td>\n",
              "      <td>332</td>\n",
              "      <td>333</td>\n",
              "      <td>334</td>\n",
              "      <td>335</td>\n",
              "      <td>336</td>\n",
              "      <td>337</td>\n",
              "      <td>338</td>\n",
              "      <td>339</td>\n",
              "      <td>340</td>\n",
              "      <td>341</td>\n",
              "      <td>342</td>\n",
              "      <td>343</td>\n",
              "      <td>344</td>\n",
              "      <td>345</td>\n",
              "      <td>346</td>\n",
              "      <td>347</td>\n",
              "      <td>348</td>\n",
              "      <td>349</td>\n",
              "      <td>350</td>\n",
              "      <td>351</td>\n",
              "      <td>352</td>\n",
              "      <td>353</td>\n",
              "      <td>354</td>\n",
              "      <td>355</td>\n",
              "      <td>356</td>\n",
              "      <td>357</td>\n",
              "      <td>358</td>\n",
              "      <td>359</td>\n",
              "      <td>360</td>\n",
              "      <td>361</td>\n",
              "      <td>362</td>\n",
              "      <td>363</td>\n",
              "      <td>364</td>\n",
              "      <td>365</td>\n",
              "      <td>366</td>\n",
              "      <td>367</td>\n",
              "      <td>368</td>\n",
              "      <td>369</td>\n",
              "      <td>370</td>\n",
              "      <td>371</td>\n",
              "      <td>372</td>\n",
              "      <td>373</td>\n",
              "      <td>374</td>\n",
              "      <td>375</td>\n",
              "      <td>376</td>\n",
              "      <td>377</td>\n",
              "      <td>378</td>\n",
              "      <td>379</td>\n",
              "      <td>380</td>\n",
              "      <td>381</td>\n",
              "      <td>382</td>\n",
              "      <td>383</td>\n",
              "      <td>384</td>\n",
              "      <td>385</td>\n",
              "      <td>386</td>\n",
              "      <td>387</td>\n",
              "      <td>388</td>\n",
              "      <td>389</td>\n",
              "      <td>390</td>\n",
              "      <td>391</td>\n",
              "      <td>392</td>\n",
              "      <td>393</td>\n",
              "      <td>394</td>\n",
              "      <td>395</td>\n",
              "      <td>396</td>\n",
              "      <td>397</td>\n",
              "      <td>398</td>\n",
              "      <td>399</td>\n",
              "    </tr>\n",
              "    <tr>\n",
              "      <th>4</th>\n",
              "      <td>400</td>\n",
              "      <td>401</td>\n",
              "      <td>402</td>\n",
              "      <td>403</td>\n",
              "      <td>404</td>\n",
              "      <td>405</td>\n",
              "      <td>406</td>\n",
              "      <td>407</td>\n",
              "      <td>408</td>\n",
              "      <td>409</td>\n",
              "      <td>410</td>\n",
              "      <td>411</td>\n",
              "      <td>412</td>\n",
              "      <td>413</td>\n",
              "      <td>414</td>\n",
              "      <td>415</td>\n",
              "      <td>416</td>\n",
              "      <td>417</td>\n",
              "      <td>418</td>\n",
              "      <td>419</td>\n",
              "      <td>420</td>\n",
              "      <td>421</td>\n",
              "      <td>422</td>\n",
              "      <td>423</td>\n",
              "      <td>424</td>\n",
              "      <td>425</td>\n",
              "      <td>426</td>\n",
              "      <td>427</td>\n",
              "      <td>428</td>\n",
              "      <td>429</td>\n",
              "      <td>430</td>\n",
              "      <td>431</td>\n",
              "      <td>432</td>\n",
              "      <td>433</td>\n",
              "      <td>434</td>\n",
              "      <td>435</td>\n",
              "      <td>436</td>\n",
              "      <td>437</td>\n",
              "      <td>438</td>\n",
              "      <td>439</td>\n",
              "      <td>440</td>\n",
              "      <td>441</td>\n",
              "      <td>442</td>\n",
              "      <td>443</td>\n",
              "      <td>444</td>\n",
              "      <td>445</td>\n",
              "      <td>446</td>\n",
              "      <td>447</td>\n",
              "      <td>448</td>\n",
              "      <td>449</td>\n",
              "      <td>450</td>\n",
              "      <td>451</td>\n",
              "      <td>452</td>\n",
              "      <td>453</td>\n",
              "      <td>454</td>\n",
              "      <td>455</td>\n",
              "      <td>456</td>\n",
              "      <td>457</td>\n",
              "      <td>458</td>\n",
              "      <td>459</td>\n",
              "      <td>460</td>\n",
              "      <td>461</td>\n",
              "      <td>462</td>\n",
              "      <td>463</td>\n",
              "      <td>464</td>\n",
              "      <td>465</td>\n",
              "      <td>466</td>\n",
              "      <td>467</td>\n",
              "      <td>468</td>\n",
              "      <td>469</td>\n",
              "      <td>470</td>\n",
              "      <td>471</td>\n",
              "      <td>472</td>\n",
              "      <td>473</td>\n",
              "      <td>474</td>\n",
              "      <td>475</td>\n",
              "      <td>476</td>\n",
              "      <td>477</td>\n",
              "      <td>478</td>\n",
              "      <td>479</td>\n",
              "      <td>480</td>\n",
              "      <td>481</td>\n",
              "      <td>482</td>\n",
              "      <td>483</td>\n",
              "      <td>484</td>\n",
              "      <td>485</td>\n",
              "      <td>486</td>\n",
              "      <td>487</td>\n",
              "      <td>488</td>\n",
              "      <td>489</td>\n",
              "      <td>490</td>\n",
              "      <td>491</td>\n",
              "      <td>492</td>\n",
              "      <td>493</td>\n",
              "      <td>494</td>\n",
              "      <td>495</td>\n",
              "      <td>496</td>\n",
              "      <td>497</td>\n",
              "      <td>498</td>\n",
              "      <td>499</td>\n",
              "    </tr>\n",
              "    <tr>\n",
              "      <th>...</th>\n",
              "      <td>...</td>\n",
              "      <td>...</td>\n",
              "      <td>...</td>\n",
              "      <td>...</td>\n",
              "      <td>...</td>\n",
              "      <td>...</td>\n",
              "      <td>...</td>\n",
              "      <td>...</td>\n",
              "      <td>...</td>\n",
              "      <td>...</td>\n",
              "      <td>...</td>\n",
              "      <td>...</td>\n",
              "      <td>...</td>\n",
              "      <td>...</td>\n",
              "      <td>...</td>\n",
              "      <td>...</td>\n",
              "      <td>...</td>\n",
              "      <td>...</td>\n",
              "      <td>...</td>\n",
              "      <td>...</td>\n",
              "      <td>...</td>\n",
              "      <td>...</td>\n",
              "      <td>...</td>\n",
              "      <td>...</td>\n",
              "      <td>...</td>\n",
              "      <td>...</td>\n",
              "      <td>...</td>\n",
              "      <td>...</td>\n",
              "      <td>...</td>\n",
              "      <td>...</td>\n",
              "      <td>...</td>\n",
              "      <td>...</td>\n",
              "      <td>...</td>\n",
              "      <td>...</td>\n",
              "      <td>...</td>\n",
              "      <td>...</td>\n",
              "      <td>...</td>\n",
              "      <td>...</td>\n",
              "      <td>...</td>\n",
              "      <td>...</td>\n",
              "      <td>...</td>\n",
              "      <td>...</td>\n",
              "      <td>...</td>\n",
              "      <td>...</td>\n",
              "      <td>...</td>\n",
              "      <td>...</td>\n",
              "      <td>...</td>\n",
              "      <td>...</td>\n",
              "      <td>...</td>\n",
              "      <td>...</td>\n",
              "      <td>...</td>\n",
              "      <td>...</td>\n",
              "      <td>...</td>\n",
              "      <td>...</td>\n",
              "      <td>...</td>\n",
              "      <td>...</td>\n",
              "      <td>...</td>\n",
              "      <td>...</td>\n",
              "      <td>...</td>\n",
              "      <td>...</td>\n",
              "      <td>...</td>\n",
              "      <td>...</td>\n",
              "      <td>...</td>\n",
              "      <td>...</td>\n",
              "      <td>...</td>\n",
              "      <td>...</td>\n",
              "      <td>...</td>\n",
              "      <td>...</td>\n",
              "      <td>...</td>\n",
              "      <td>...</td>\n",
              "      <td>...</td>\n",
              "      <td>...</td>\n",
              "      <td>...</td>\n",
              "      <td>...</td>\n",
              "      <td>...</td>\n",
              "      <td>...</td>\n",
              "      <td>...</td>\n",
              "      <td>...</td>\n",
              "      <td>...</td>\n",
              "      <td>...</td>\n",
              "      <td>...</td>\n",
              "      <td>...</td>\n",
              "      <td>...</td>\n",
              "      <td>...</td>\n",
              "      <td>...</td>\n",
              "      <td>...</td>\n",
              "      <td>...</td>\n",
              "      <td>...</td>\n",
              "      <td>...</td>\n",
              "      <td>...</td>\n",
              "      <td>...</td>\n",
              "      <td>...</td>\n",
              "      <td>...</td>\n",
              "      <td>...</td>\n",
              "      <td>...</td>\n",
              "      <td>...</td>\n",
              "      <td>...</td>\n",
              "      <td>...</td>\n",
              "      <td>...</td>\n",
              "      <td>...</td>\n",
              "    </tr>\n",
              "    <tr>\n",
              "      <th>95</th>\n",
              "      <td>9500</td>\n",
              "      <td>9501</td>\n",
              "      <td>9502</td>\n",
              "      <td>9503</td>\n",
              "      <td>9504</td>\n",
              "      <td>9505</td>\n",
              "      <td>9506</td>\n",
              "      <td>9507</td>\n",
              "      <td>9508</td>\n",
              "      <td>9509</td>\n",
              "      <td>9510</td>\n",
              "      <td>9511</td>\n",
              "      <td>9512</td>\n",
              "      <td>9513</td>\n",
              "      <td>9514</td>\n",
              "      <td>9515</td>\n",
              "      <td>9516</td>\n",
              "      <td>9517</td>\n",
              "      <td>9518</td>\n",
              "      <td>9519</td>\n",
              "      <td>9520</td>\n",
              "      <td>9521</td>\n",
              "      <td>9522</td>\n",
              "      <td>9523</td>\n",
              "      <td>9524</td>\n",
              "      <td>9525</td>\n",
              "      <td>9526</td>\n",
              "      <td>9527</td>\n",
              "      <td>9528</td>\n",
              "      <td>9529</td>\n",
              "      <td>9530</td>\n",
              "      <td>9531</td>\n",
              "      <td>9532</td>\n",
              "      <td>9533</td>\n",
              "      <td>9534</td>\n",
              "      <td>9535</td>\n",
              "      <td>9536</td>\n",
              "      <td>9537</td>\n",
              "      <td>9538</td>\n",
              "      <td>9539</td>\n",
              "      <td>9540</td>\n",
              "      <td>9541</td>\n",
              "      <td>9542</td>\n",
              "      <td>9543</td>\n",
              "      <td>9544</td>\n",
              "      <td>9545</td>\n",
              "      <td>9546</td>\n",
              "      <td>9547</td>\n",
              "      <td>9548</td>\n",
              "      <td>9549</td>\n",
              "      <td>9550</td>\n",
              "      <td>9551</td>\n",
              "      <td>9552</td>\n",
              "      <td>9553</td>\n",
              "      <td>9554</td>\n",
              "      <td>9555</td>\n",
              "      <td>9556</td>\n",
              "      <td>9557</td>\n",
              "      <td>9558</td>\n",
              "      <td>9559</td>\n",
              "      <td>9560</td>\n",
              "      <td>9561</td>\n",
              "      <td>9562</td>\n",
              "      <td>9563</td>\n",
              "      <td>9564</td>\n",
              "      <td>9565</td>\n",
              "      <td>9566</td>\n",
              "      <td>9567</td>\n",
              "      <td>9568</td>\n",
              "      <td>9569</td>\n",
              "      <td>9570</td>\n",
              "      <td>9571</td>\n",
              "      <td>9572</td>\n",
              "      <td>9573</td>\n",
              "      <td>9574</td>\n",
              "      <td>9575</td>\n",
              "      <td>9576</td>\n",
              "      <td>9577</td>\n",
              "      <td>9578</td>\n",
              "      <td>9579</td>\n",
              "      <td>9580</td>\n",
              "      <td>9581</td>\n",
              "      <td>9582</td>\n",
              "      <td>9583</td>\n",
              "      <td>9584</td>\n",
              "      <td>9585</td>\n",
              "      <td>9586</td>\n",
              "      <td>9587</td>\n",
              "      <td>9588</td>\n",
              "      <td>9589</td>\n",
              "      <td>9590</td>\n",
              "      <td>9591</td>\n",
              "      <td>9592</td>\n",
              "      <td>9593</td>\n",
              "      <td>9594</td>\n",
              "      <td>9595</td>\n",
              "      <td>9596</td>\n",
              "      <td>9597</td>\n",
              "      <td>9598</td>\n",
              "      <td>9599</td>\n",
              "    </tr>\n",
              "    <tr>\n",
              "      <th>96</th>\n",
              "      <td>9600</td>\n",
              "      <td>9601</td>\n",
              "      <td>9602</td>\n",
              "      <td>9603</td>\n",
              "      <td>9604</td>\n",
              "      <td>9605</td>\n",
              "      <td>9606</td>\n",
              "      <td>9607</td>\n",
              "      <td>9608</td>\n",
              "      <td>9609</td>\n",
              "      <td>9610</td>\n",
              "      <td>9611</td>\n",
              "      <td>9612</td>\n",
              "      <td>9613</td>\n",
              "      <td>9614</td>\n",
              "      <td>9615</td>\n",
              "      <td>9616</td>\n",
              "      <td>9617</td>\n",
              "      <td>9618</td>\n",
              "      <td>9619</td>\n",
              "      <td>9620</td>\n",
              "      <td>9621</td>\n",
              "      <td>9622</td>\n",
              "      <td>9623</td>\n",
              "      <td>9624</td>\n",
              "      <td>9625</td>\n",
              "      <td>9626</td>\n",
              "      <td>9627</td>\n",
              "      <td>9628</td>\n",
              "      <td>9629</td>\n",
              "      <td>9630</td>\n",
              "      <td>9631</td>\n",
              "      <td>9632</td>\n",
              "      <td>9633</td>\n",
              "      <td>9634</td>\n",
              "      <td>9635</td>\n",
              "      <td>9636</td>\n",
              "      <td>9637</td>\n",
              "      <td>9638</td>\n",
              "      <td>9639</td>\n",
              "      <td>9640</td>\n",
              "      <td>9641</td>\n",
              "      <td>9642</td>\n",
              "      <td>9643</td>\n",
              "      <td>9644</td>\n",
              "      <td>9645</td>\n",
              "      <td>9646</td>\n",
              "      <td>9647</td>\n",
              "      <td>9648</td>\n",
              "      <td>9649</td>\n",
              "      <td>9650</td>\n",
              "      <td>9651</td>\n",
              "      <td>9652</td>\n",
              "      <td>9653</td>\n",
              "      <td>9654</td>\n",
              "      <td>9655</td>\n",
              "      <td>9656</td>\n",
              "      <td>9657</td>\n",
              "      <td>9658</td>\n",
              "      <td>9659</td>\n",
              "      <td>9660</td>\n",
              "      <td>9661</td>\n",
              "      <td>9662</td>\n",
              "      <td>9663</td>\n",
              "      <td>9664</td>\n",
              "      <td>9665</td>\n",
              "      <td>9666</td>\n",
              "      <td>9667</td>\n",
              "      <td>9668</td>\n",
              "      <td>9669</td>\n",
              "      <td>9670</td>\n",
              "      <td>9671</td>\n",
              "      <td>9672</td>\n",
              "      <td>9673</td>\n",
              "      <td>9674</td>\n",
              "      <td>9675</td>\n",
              "      <td>9676</td>\n",
              "      <td>9677</td>\n",
              "      <td>9678</td>\n",
              "      <td>9679</td>\n",
              "      <td>9680</td>\n",
              "      <td>9681</td>\n",
              "      <td>9682</td>\n",
              "      <td>9683</td>\n",
              "      <td>9684</td>\n",
              "      <td>9685</td>\n",
              "      <td>9686</td>\n",
              "      <td>9687</td>\n",
              "      <td>9688</td>\n",
              "      <td>9689</td>\n",
              "      <td>9690</td>\n",
              "      <td>9691</td>\n",
              "      <td>9692</td>\n",
              "      <td>9693</td>\n",
              "      <td>9694</td>\n",
              "      <td>9695</td>\n",
              "      <td>9696</td>\n",
              "      <td>9697</td>\n",
              "      <td>9698</td>\n",
              "      <td>9699</td>\n",
              "    </tr>\n",
              "    <tr>\n",
              "      <th>97</th>\n",
              "      <td>9700</td>\n",
              "      <td>9701</td>\n",
              "      <td>9702</td>\n",
              "      <td>9703</td>\n",
              "      <td>9704</td>\n",
              "      <td>9705</td>\n",
              "      <td>9706</td>\n",
              "      <td>9707</td>\n",
              "      <td>9708</td>\n",
              "      <td>9709</td>\n",
              "      <td>9710</td>\n",
              "      <td>9711</td>\n",
              "      <td>9712</td>\n",
              "      <td>9713</td>\n",
              "      <td>9714</td>\n",
              "      <td>9715</td>\n",
              "      <td>9716</td>\n",
              "      <td>9717</td>\n",
              "      <td>9718</td>\n",
              "      <td>9719</td>\n",
              "      <td>9720</td>\n",
              "      <td>9721</td>\n",
              "      <td>9722</td>\n",
              "      <td>9723</td>\n",
              "      <td>9724</td>\n",
              "      <td>9725</td>\n",
              "      <td>9726</td>\n",
              "      <td>9727</td>\n",
              "      <td>9728</td>\n",
              "      <td>9729</td>\n",
              "      <td>9730</td>\n",
              "      <td>9731</td>\n",
              "      <td>9732</td>\n",
              "      <td>9733</td>\n",
              "      <td>9734</td>\n",
              "      <td>9735</td>\n",
              "      <td>9736</td>\n",
              "      <td>9737</td>\n",
              "      <td>9738</td>\n",
              "      <td>9739</td>\n",
              "      <td>9740</td>\n",
              "      <td>9741</td>\n",
              "      <td>9742</td>\n",
              "      <td>9743</td>\n",
              "      <td>9744</td>\n",
              "      <td>9745</td>\n",
              "      <td>9746</td>\n",
              "      <td>9747</td>\n",
              "      <td>9748</td>\n",
              "      <td>9749</td>\n",
              "      <td>9750</td>\n",
              "      <td>9751</td>\n",
              "      <td>9752</td>\n",
              "      <td>9753</td>\n",
              "      <td>9754</td>\n",
              "      <td>9755</td>\n",
              "      <td>9756</td>\n",
              "      <td>9757</td>\n",
              "      <td>9758</td>\n",
              "      <td>9759</td>\n",
              "      <td>9760</td>\n",
              "      <td>9761</td>\n",
              "      <td>9762</td>\n",
              "      <td>9763</td>\n",
              "      <td>9764</td>\n",
              "      <td>9765</td>\n",
              "      <td>9766</td>\n",
              "      <td>9767</td>\n",
              "      <td>9768</td>\n",
              "      <td>9769</td>\n",
              "      <td>9770</td>\n",
              "      <td>9771</td>\n",
              "      <td>9772</td>\n",
              "      <td>9773</td>\n",
              "      <td>9774</td>\n",
              "      <td>9775</td>\n",
              "      <td>9776</td>\n",
              "      <td>9777</td>\n",
              "      <td>9778</td>\n",
              "      <td>9779</td>\n",
              "      <td>9780</td>\n",
              "      <td>9781</td>\n",
              "      <td>9782</td>\n",
              "      <td>9783</td>\n",
              "      <td>9784</td>\n",
              "      <td>9785</td>\n",
              "      <td>9786</td>\n",
              "      <td>9787</td>\n",
              "      <td>9788</td>\n",
              "      <td>9789</td>\n",
              "      <td>9790</td>\n",
              "      <td>9791</td>\n",
              "      <td>9792</td>\n",
              "      <td>9793</td>\n",
              "      <td>9794</td>\n",
              "      <td>9795</td>\n",
              "      <td>9796</td>\n",
              "      <td>9797</td>\n",
              "      <td>9798</td>\n",
              "      <td>9799</td>\n",
              "    </tr>\n",
              "    <tr>\n",
              "      <th>98</th>\n",
              "      <td>9800</td>\n",
              "      <td>9801</td>\n",
              "      <td>9802</td>\n",
              "      <td>9803</td>\n",
              "      <td>9804</td>\n",
              "      <td>9805</td>\n",
              "      <td>9806</td>\n",
              "      <td>9807</td>\n",
              "      <td>9808</td>\n",
              "      <td>9809</td>\n",
              "      <td>9810</td>\n",
              "      <td>9811</td>\n",
              "      <td>9812</td>\n",
              "      <td>9813</td>\n",
              "      <td>9814</td>\n",
              "      <td>9815</td>\n",
              "      <td>9816</td>\n",
              "      <td>9817</td>\n",
              "      <td>9818</td>\n",
              "      <td>9819</td>\n",
              "      <td>9820</td>\n",
              "      <td>9821</td>\n",
              "      <td>9822</td>\n",
              "      <td>9823</td>\n",
              "      <td>9824</td>\n",
              "      <td>9825</td>\n",
              "      <td>9826</td>\n",
              "      <td>9827</td>\n",
              "      <td>9828</td>\n",
              "      <td>9829</td>\n",
              "      <td>9830</td>\n",
              "      <td>9831</td>\n",
              "      <td>9832</td>\n",
              "      <td>9833</td>\n",
              "      <td>9834</td>\n",
              "      <td>9835</td>\n",
              "      <td>9836</td>\n",
              "      <td>9837</td>\n",
              "      <td>9838</td>\n",
              "      <td>9839</td>\n",
              "      <td>9840</td>\n",
              "      <td>9841</td>\n",
              "      <td>9842</td>\n",
              "      <td>9843</td>\n",
              "      <td>9844</td>\n",
              "      <td>9845</td>\n",
              "      <td>9846</td>\n",
              "      <td>9847</td>\n",
              "      <td>9848</td>\n",
              "      <td>9849</td>\n",
              "      <td>9850</td>\n",
              "      <td>9851</td>\n",
              "      <td>9852</td>\n",
              "      <td>9853</td>\n",
              "      <td>9854</td>\n",
              "      <td>9855</td>\n",
              "      <td>9856</td>\n",
              "      <td>9857</td>\n",
              "      <td>9858</td>\n",
              "      <td>9859</td>\n",
              "      <td>9860</td>\n",
              "      <td>9861</td>\n",
              "      <td>9862</td>\n",
              "      <td>9863</td>\n",
              "      <td>9864</td>\n",
              "      <td>9865</td>\n",
              "      <td>9866</td>\n",
              "      <td>9867</td>\n",
              "      <td>9868</td>\n",
              "      <td>9869</td>\n",
              "      <td>9870</td>\n",
              "      <td>9871</td>\n",
              "      <td>9872</td>\n",
              "      <td>9873</td>\n",
              "      <td>9874</td>\n",
              "      <td>9875</td>\n",
              "      <td>9876</td>\n",
              "      <td>9877</td>\n",
              "      <td>9878</td>\n",
              "      <td>9879</td>\n",
              "      <td>9880</td>\n",
              "      <td>9881</td>\n",
              "      <td>9882</td>\n",
              "      <td>9883</td>\n",
              "      <td>9884</td>\n",
              "      <td>9885</td>\n",
              "      <td>9886</td>\n",
              "      <td>9887</td>\n",
              "      <td>9888</td>\n",
              "      <td>9889</td>\n",
              "      <td>9890</td>\n",
              "      <td>9891</td>\n",
              "      <td>9892</td>\n",
              "      <td>9893</td>\n",
              "      <td>9894</td>\n",
              "      <td>9895</td>\n",
              "      <td>9896</td>\n",
              "      <td>9897</td>\n",
              "      <td>9898</td>\n",
              "      <td>9899</td>\n",
              "    </tr>\n",
              "    <tr>\n",
              "      <th>99</th>\n",
              "      <td>9900</td>\n",
              "      <td>9901</td>\n",
              "      <td>9902</td>\n",
              "      <td>9903</td>\n",
              "      <td>9904</td>\n",
              "      <td>9905</td>\n",
              "      <td>9906</td>\n",
              "      <td>9907</td>\n",
              "      <td>9908</td>\n",
              "      <td>9909</td>\n",
              "      <td>9910</td>\n",
              "      <td>9911</td>\n",
              "      <td>9912</td>\n",
              "      <td>9913</td>\n",
              "      <td>9914</td>\n",
              "      <td>9915</td>\n",
              "      <td>9916</td>\n",
              "      <td>9917</td>\n",
              "      <td>9918</td>\n",
              "      <td>9919</td>\n",
              "      <td>9920</td>\n",
              "      <td>9921</td>\n",
              "      <td>9922</td>\n",
              "      <td>9923</td>\n",
              "      <td>9924</td>\n",
              "      <td>9925</td>\n",
              "      <td>9926</td>\n",
              "      <td>9927</td>\n",
              "      <td>9928</td>\n",
              "      <td>9929</td>\n",
              "      <td>9930</td>\n",
              "      <td>9931</td>\n",
              "      <td>9932</td>\n",
              "      <td>9933</td>\n",
              "      <td>9934</td>\n",
              "      <td>9935</td>\n",
              "      <td>9936</td>\n",
              "      <td>9937</td>\n",
              "      <td>9938</td>\n",
              "      <td>9939</td>\n",
              "      <td>9940</td>\n",
              "      <td>9941</td>\n",
              "      <td>9942</td>\n",
              "      <td>9943</td>\n",
              "      <td>9944</td>\n",
              "      <td>9945</td>\n",
              "      <td>9946</td>\n",
              "      <td>9947</td>\n",
              "      <td>9948</td>\n",
              "      <td>9949</td>\n",
              "      <td>9950</td>\n",
              "      <td>9951</td>\n",
              "      <td>9952</td>\n",
              "      <td>9953</td>\n",
              "      <td>9954</td>\n",
              "      <td>9955</td>\n",
              "      <td>9956</td>\n",
              "      <td>9957</td>\n",
              "      <td>9958</td>\n",
              "      <td>9959</td>\n",
              "      <td>9960</td>\n",
              "      <td>9961</td>\n",
              "      <td>9962</td>\n",
              "      <td>9963</td>\n",
              "      <td>9964</td>\n",
              "      <td>9965</td>\n",
              "      <td>9966</td>\n",
              "      <td>9967</td>\n",
              "      <td>9968</td>\n",
              "      <td>9969</td>\n",
              "      <td>9970</td>\n",
              "      <td>9971</td>\n",
              "      <td>9972</td>\n",
              "      <td>9973</td>\n",
              "      <td>9974</td>\n",
              "      <td>9975</td>\n",
              "      <td>9976</td>\n",
              "      <td>9977</td>\n",
              "      <td>9978</td>\n",
              "      <td>9979</td>\n",
              "      <td>9980</td>\n",
              "      <td>9981</td>\n",
              "      <td>9982</td>\n",
              "      <td>9983</td>\n",
              "      <td>9984</td>\n",
              "      <td>9985</td>\n",
              "      <td>9986</td>\n",
              "      <td>9987</td>\n",
              "      <td>9988</td>\n",
              "      <td>9989</td>\n",
              "      <td>9990</td>\n",
              "      <td>9991</td>\n",
              "      <td>9992</td>\n",
              "      <td>9993</td>\n",
              "      <td>9994</td>\n",
              "      <td>9995</td>\n",
              "      <td>9996</td>\n",
              "      <td>9997</td>\n",
              "      <td>9998</td>\n",
              "      <td>9999</td>\n",
              "    </tr>\n",
              "  </tbody>\n",
              "</table>\n",
              "<p>100 rows × 100 columns</p>\n",
              "</div>\n",
              "      <button class=\"colab-df-convert\" onclick=\"convertToInteractive('df-7b0e8e48-25f7-419b-8e96-8e34f61c4606')\"\n",
              "              title=\"Convert this dataframe to an interactive table.\"\n",
              "              style=\"display:none;\">\n",
              "        \n",
              "  <svg xmlns=\"http://www.w3.org/2000/svg\" height=\"24px\"viewBox=\"0 0 24 24\"\n",
              "       width=\"24px\">\n",
              "    <path d=\"M0 0h24v24H0V0z\" fill=\"none\"/>\n",
              "    <path d=\"M18.56 5.44l.94 2.06.94-2.06 2.06-.94-2.06-.94-.94-2.06-.94 2.06-2.06.94zm-11 1L8.5 8.5l.94-2.06 2.06-.94-2.06-.94L8.5 2.5l-.94 2.06-2.06.94zm10 10l.94 2.06.94-2.06 2.06-.94-2.06-.94-.94-2.06-.94 2.06-2.06.94z\"/><path d=\"M17.41 7.96l-1.37-1.37c-.4-.4-.92-.59-1.43-.59-.52 0-1.04.2-1.43.59L10.3 9.45l-7.72 7.72c-.78.78-.78 2.05 0 2.83L4 21.41c.39.39.9.59 1.41.59.51 0 1.02-.2 1.41-.59l7.78-7.78 2.81-2.81c.8-.78.8-2.07 0-2.86zM5.41 20L4 18.59l7.72-7.72 1.47 1.35L5.41 20z\"/>\n",
              "  </svg>\n",
              "      </button>\n",
              "      \n",
              "  <style>\n",
              "    .colab-df-container {\n",
              "      display:flex;\n",
              "      flex-wrap:wrap;\n",
              "      gap: 12px;\n",
              "    }\n",
              "\n",
              "    .colab-df-convert {\n",
              "      background-color: #E8F0FE;\n",
              "      border: none;\n",
              "      border-radius: 50%;\n",
              "      cursor: pointer;\n",
              "      display: none;\n",
              "      fill: #1967D2;\n",
              "      height: 32px;\n",
              "      padding: 0 0 0 0;\n",
              "      width: 32px;\n",
              "    }\n",
              "\n",
              "    .colab-df-convert:hover {\n",
              "      background-color: #E2EBFA;\n",
              "      box-shadow: 0px 1px 2px rgba(60, 64, 67, 0.3), 0px 1px 3px 1px rgba(60, 64, 67, 0.15);\n",
              "      fill: #174EA6;\n",
              "    }\n",
              "\n",
              "    [theme=dark] .colab-df-convert {\n",
              "      background-color: #3B4455;\n",
              "      fill: #D2E3FC;\n",
              "    }\n",
              "\n",
              "    [theme=dark] .colab-df-convert:hover {\n",
              "      background-color: #434B5C;\n",
              "      box-shadow: 0px 1px 3px 1px rgba(0, 0, 0, 0.15);\n",
              "      filter: drop-shadow(0px 1px 2px rgba(0, 0, 0, 0.3));\n",
              "      fill: #FFFFFF;\n",
              "    }\n",
              "  </style>\n",
              "\n",
              "      <script>\n",
              "        const buttonEl =\n",
              "          document.querySelector('#df-7b0e8e48-25f7-419b-8e96-8e34f61c4606 button.colab-df-convert');\n",
              "        buttonEl.style.display =\n",
              "          google.colab.kernel.accessAllowed ? 'block' : 'none';\n",
              "\n",
              "        async function convertToInteractive(key) {\n",
              "          const element = document.querySelector('#df-7b0e8e48-25f7-419b-8e96-8e34f61c4606');\n",
              "          const dataTable =\n",
              "            await google.colab.kernel.invokeFunction('convertToInteractive',\n",
              "                                                     [key], {});\n",
              "          if (!dataTable) return;\n",
              "\n",
              "          const docLinkHtml = 'Like what you see? Visit the ' +\n",
              "            '<a target=\"_blank\" href=https://colab.research.google.com/notebooks/data_table.ipynb>data table notebook</a>'\n",
              "            + ' to learn more about interactive tables.';\n",
              "          element.innerHTML = '';\n",
              "          dataTable['output_type'] = 'display_data';\n",
              "          await google.colab.output.renderOutput(dataTable, element);\n",
              "          const docLink = document.createElement('div');\n",
              "          docLink.innerHTML = docLinkHtml;\n",
              "          element.appendChild(docLink);\n",
              "        }\n",
              "      </script>\n",
              "    </div>\n",
              "  </div>\n",
              "  "
            ]
          },
          "metadata": {},
          "execution_count": 17
        }
      ],
      "source": [
        "df"
      ]
    },
    {
      "cell_type": "markdown",
      "metadata": {
        "id": "43QYxdBWevgT"
      },
      "source": [
        "## Carregando os dados"
      ]
    },
    {
      "cell_type": "markdown",
      "metadata": {
        "id": "votr38ZYevgT"
      },
      "source": [
        "### Arquivos JSON - `read_json`\n",
        "\n",
        "[Documentação](https://pandas.pydata.org/pandas-docs/stable/reference/api/pandas.read_json.html)\n",
        "\n",
        "## JSON\n",
        "\n",
        "JSON (**J**ava**S**cript **O**bject **N**otation - Notação de Objetos JavaScript) é uma formatação leve de troca de dados. Para seres humanos, é fácil de ler e escrever. Para máquinas, é fácil de interpretar e gerar. Está baseado em um subconjunto da linguagem de programação JavaScript, Standard ECMA-262 3a Edição - Dezembro - 1999. JSON é em formato texto e completamente independente de linguagem, pois usa convenções que são familiares às linguagens C e familiares, incluindo C++, C#, Java, JavaScript, Perl, Python e muitas outras. Estas propriedades fazem com que JSON seja um formato ideal de troca de dados.\n",
        "\n",
        "[fonte](https://www.json.org/json-pt.html)\n",
        "\n",
        "[Online JSON Viewer](http://jsonviewer.stack.hu/)"
      ]
    },
    {
      "cell_type": "code",
      "execution_count": 18,
      "metadata": {
        "id": "mqhtwsPSevgU",
        "colab": {
          "base_uri": "https://localhost:8080/",
          "height": 35
        },
        "outputId": "7dc7ff71-5d27-4481-deab-d0be539046fa"
      },
      "outputs": [
        {
          "output_type": "execute_result",
          "data": {
            "text/plain": [
              "'{\"A\": [1,2,3,4], \"B\": [5,6,7,8], \"C\": [9,10,11,12]}'"
            ],
            "application/vnd.google.colaboratory.intrinsic+json": {
              "type": "string"
            }
          },
          "metadata": {},
          "execution_count": 18
        }
      ],
      "source": [
        "data_json = '{\"A\": [1,2,3,4], \"B\": [5,6,7,8], \"C\": [9,10,11,12]}'\n",
        "data_json"
      ]
    },
    {
      "cell_type": "code",
      "execution_count": 20,
      "metadata": {
        "id": "9QbVDt0LevgU",
        "colab": {
          "base_uri": "https://localhost:8080/",
          "height": 143
        },
        "outputId": "6e826886-9fbe-4ff1-8e07-19c73a380372"
      },
      "outputs": [
        {
          "output_type": "execute_result",
          "data": {
            "text/plain": [
              "   0   1   2   3\n",
              "A  1   2   3   4\n",
              "B  5   6   7   8\n",
              "C  9  10  11  12"
            ],
            "text/html": [
              "\n",
              "  <div id=\"df-4a0dcda1-b210-4873-85dd-f1c8efbe8be1\">\n",
              "    <div class=\"colab-df-container\">\n",
              "      <div>\n",
              "<style scoped>\n",
              "    .dataframe tbody tr th:only-of-type {\n",
              "        vertical-align: middle;\n",
              "    }\n",
              "\n",
              "    .dataframe tbody tr th {\n",
              "        vertical-align: top;\n",
              "    }\n",
              "\n",
              "    .dataframe thead th {\n",
              "        text-align: right;\n",
              "    }\n",
              "</style>\n",
              "<table border=\"1\" class=\"dataframe\">\n",
              "  <thead>\n",
              "    <tr style=\"text-align: right;\">\n",
              "      <th></th>\n",
              "      <th>0</th>\n",
              "      <th>1</th>\n",
              "      <th>2</th>\n",
              "      <th>3</th>\n",
              "    </tr>\n",
              "  </thead>\n",
              "  <tbody>\n",
              "    <tr>\n",
              "      <th>A</th>\n",
              "      <td>1</td>\n",
              "      <td>2</td>\n",
              "      <td>3</td>\n",
              "      <td>4</td>\n",
              "    </tr>\n",
              "    <tr>\n",
              "      <th>B</th>\n",
              "      <td>5</td>\n",
              "      <td>6</td>\n",
              "      <td>7</td>\n",
              "      <td>8</td>\n",
              "    </tr>\n",
              "    <tr>\n",
              "      <th>C</th>\n",
              "      <td>9</td>\n",
              "      <td>10</td>\n",
              "      <td>11</td>\n",
              "      <td>12</td>\n",
              "    </tr>\n",
              "  </tbody>\n",
              "</table>\n",
              "</div>\n",
              "      <button class=\"colab-df-convert\" onclick=\"convertToInteractive('df-4a0dcda1-b210-4873-85dd-f1c8efbe8be1')\"\n",
              "              title=\"Convert this dataframe to an interactive table.\"\n",
              "              style=\"display:none;\">\n",
              "        \n",
              "  <svg xmlns=\"http://www.w3.org/2000/svg\" height=\"24px\"viewBox=\"0 0 24 24\"\n",
              "       width=\"24px\">\n",
              "    <path d=\"M0 0h24v24H0V0z\" fill=\"none\"/>\n",
              "    <path d=\"M18.56 5.44l.94 2.06.94-2.06 2.06-.94-2.06-.94-.94-2.06-.94 2.06-2.06.94zm-11 1L8.5 8.5l.94-2.06 2.06-.94-2.06-.94L8.5 2.5l-.94 2.06-2.06.94zm10 10l.94 2.06.94-2.06 2.06-.94-2.06-.94-.94-2.06-.94 2.06-2.06.94z\"/><path d=\"M17.41 7.96l-1.37-1.37c-.4-.4-.92-.59-1.43-.59-.52 0-1.04.2-1.43.59L10.3 9.45l-7.72 7.72c-.78.78-.78 2.05 0 2.83L4 21.41c.39.39.9.59 1.41.59.51 0 1.02-.2 1.41-.59l7.78-7.78 2.81-2.81c.8-.78.8-2.07 0-2.86zM5.41 20L4 18.59l7.72-7.72 1.47 1.35L5.41 20z\"/>\n",
              "  </svg>\n",
              "      </button>\n",
              "      \n",
              "  <style>\n",
              "    .colab-df-container {\n",
              "      display:flex;\n",
              "      flex-wrap:wrap;\n",
              "      gap: 12px;\n",
              "    }\n",
              "\n",
              "    .colab-df-convert {\n",
              "      background-color: #E8F0FE;\n",
              "      border: none;\n",
              "      border-radius: 50%;\n",
              "      cursor: pointer;\n",
              "      display: none;\n",
              "      fill: #1967D2;\n",
              "      height: 32px;\n",
              "      padding: 0 0 0 0;\n",
              "      width: 32px;\n",
              "    }\n",
              "\n",
              "    .colab-df-convert:hover {\n",
              "      background-color: #E2EBFA;\n",
              "      box-shadow: 0px 1px 2px rgba(60, 64, 67, 0.3), 0px 1px 3px 1px rgba(60, 64, 67, 0.15);\n",
              "      fill: #174EA6;\n",
              "    }\n",
              "\n",
              "    [theme=dark] .colab-df-convert {\n",
              "      background-color: #3B4455;\n",
              "      fill: #D2E3FC;\n",
              "    }\n",
              "\n",
              "    [theme=dark] .colab-df-convert:hover {\n",
              "      background-color: #434B5C;\n",
              "      box-shadow: 0px 1px 3px 1px rgba(0, 0, 0, 0.15);\n",
              "      filter: drop-shadow(0px 1px 2px rgba(0, 0, 0, 0.3));\n",
              "      fill: #FFFFFF;\n",
              "    }\n",
              "  </style>\n",
              "\n",
              "      <script>\n",
              "        const buttonEl =\n",
              "          document.querySelector('#df-4a0dcda1-b210-4873-85dd-f1c8efbe8be1 button.colab-df-convert');\n",
              "        buttonEl.style.display =\n",
              "          google.colab.kernel.accessAllowed ? 'block' : 'none';\n",
              "\n",
              "        async function convertToInteractive(key) {\n",
              "          const element = document.querySelector('#df-4a0dcda1-b210-4873-85dd-f1c8efbe8be1');\n",
              "          const dataTable =\n",
              "            await google.colab.kernel.invokeFunction('convertToInteractive',\n",
              "                                                     [key], {});\n",
              "          if (!dataTable) return;\n",
              "\n",
              "          const docLinkHtml = 'Like what you see? Visit the ' +\n",
              "            '<a target=\"_blank\" href=https://colab.research.google.com/notebooks/data_table.ipynb>data table notebook</a>'\n",
              "            + ' to learn more about interactive tables.';\n",
              "          element.innerHTML = '';\n",
              "          dataTable['output_type'] = 'display_data';\n",
              "          await google.colab.output.renderOutput(dataTable, element);\n",
              "          const docLink = document.createElement('div');\n",
              "          docLink.innerHTML = docLinkHtml;\n",
              "          element.appendChild(docLink);\n",
              "        }\n",
              "      </script>\n",
              "    </div>\n",
              "  </div>\n",
              "  "
            ]
          },
          "metadata": {},
          "execution_count": 20
        }
      ],
      "source": [
        "dados = pd.read_json(\n",
        "    path_or_buf=data_json,\n",
        "    orient='index' # assume que as chaves do json serão as linhas\n",
        "  )\n",
        "dados"
      ]
    },
    {
      "cell_type": "code",
      "execution_count": 21,
      "metadata": {
        "id": "FU7LgMbAevgU",
        "colab": {
          "base_uri": "https://localhost:8080/",
          "height": 175
        },
        "outputId": "8c8f6698-d0f3-44c7-bf76-49ae2c6a93a5"
      },
      "outputs": [
        {
          "output_type": "execute_result",
          "data": {
            "text/plain": [
              "   A  B   C\n",
              "0  1  5   9\n",
              "1  2  6  10\n",
              "2  3  7  11\n",
              "3  4  8  12"
            ],
            "text/html": [
              "\n",
              "  <div id=\"df-dde44512-49f2-4200-a537-8d1aeabd55fb\">\n",
              "    <div class=\"colab-df-container\">\n",
              "      <div>\n",
              "<style scoped>\n",
              "    .dataframe tbody tr th:only-of-type {\n",
              "        vertical-align: middle;\n",
              "    }\n",
              "\n",
              "    .dataframe tbody tr th {\n",
              "        vertical-align: top;\n",
              "    }\n",
              "\n",
              "    .dataframe thead th {\n",
              "        text-align: right;\n",
              "    }\n",
              "</style>\n",
              "<table border=\"1\" class=\"dataframe\">\n",
              "  <thead>\n",
              "    <tr style=\"text-align: right;\">\n",
              "      <th></th>\n",
              "      <th>A</th>\n",
              "      <th>B</th>\n",
              "      <th>C</th>\n",
              "    </tr>\n",
              "  </thead>\n",
              "  <tbody>\n",
              "    <tr>\n",
              "      <th>0</th>\n",
              "      <td>1</td>\n",
              "      <td>5</td>\n",
              "      <td>9</td>\n",
              "    </tr>\n",
              "    <tr>\n",
              "      <th>1</th>\n",
              "      <td>2</td>\n",
              "      <td>6</td>\n",
              "      <td>10</td>\n",
              "    </tr>\n",
              "    <tr>\n",
              "      <th>2</th>\n",
              "      <td>3</td>\n",
              "      <td>7</td>\n",
              "      <td>11</td>\n",
              "    </tr>\n",
              "    <tr>\n",
              "      <th>3</th>\n",
              "      <td>4</td>\n",
              "      <td>8</td>\n",
              "      <td>12</td>\n",
              "    </tr>\n",
              "  </tbody>\n",
              "</table>\n",
              "</div>\n",
              "      <button class=\"colab-df-convert\" onclick=\"convertToInteractive('df-dde44512-49f2-4200-a537-8d1aeabd55fb')\"\n",
              "              title=\"Convert this dataframe to an interactive table.\"\n",
              "              style=\"display:none;\">\n",
              "        \n",
              "  <svg xmlns=\"http://www.w3.org/2000/svg\" height=\"24px\"viewBox=\"0 0 24 24\"\n",
              "       width=\"24px\">\n",
              "    <path d=\"M0 0h24v24H0V0z\" fill=\"none\"/>\n",
              "    <path d=\"M18.56 5.44l.94 2.06.94-2.06 2.06-.94-2.06-.94-.94-2.06-.94 2.06-2.06.94zm-11 1L8.5 8.5l.94-2.06 2.06-.94-2.06-.94L8.5 2.5l-.94 2.06-2.06.94zm10 10l.94 2.06.94-2.06 2.06-.94-2.06-.94-.94-2.06-.94 2.06-2.06.94z\"/><path d=\"M17.41 7.96l-1.37-1.37c-.4-.4-.92-.59-1.43-.59-.52 0-1.04.2-1.43.59L10.3 9.45l-7.72 7.72c-.78.78-.78 2.05 0 2.83L4 21.41c.39.39.9.59 1.41.59.51 0 1.02-.2 1.41-.59l7.78-7.78 2.81-2.81c.8-.78.8-2.07 0-2.86zM5.41 20L4 18.59l7.72-7.72 1.47 1.35L5.41 20z\"/>\n",
              "  </svg>\n",
              "      </button>\n",
              "      \n",
              "  <style>\n",
              "    .colab-df-container {\n",
              "      display:flex;\n",
              "      flex-wrap:wrap;\n",
              "      gap: 12px;\n",
              "    }\n",
              "\n",
              "    .colab-df-convert {\n",
              "      background-color: #E8F0FE;\n",
              "      border: none;\n",
              "      border-radius: 50%;\n",
              "      cursor: pointer;\n",
              "      display: none;\n",
              "      fill: #1967D2;\n",
              "      height: 32px;\n",
              "      padding: 0 0 0 0;\n",
              "      width: 32px;\n",
              "    }\n",
              "\n",
              "    .colab-df-convert:hover {\n",
              "      background-color: #E2EBFA;\n",
              "      box-shadow: 0px 1px 2px rgba(60, 64, 67, 0.3), 0px 1px 3px 1px rgba(60, 64, 67, 0.15);\n",
              "      fill: #174EA6;\n",
              "    }\n",
              "\n",
              "    [theme=dark] .colab-df-convert {\n",
              "      background-color: #3B4455;\n",
              "      fill: #D2E3FC;\n",
              "    }\n",
              "\n",
              "    [theme=dark] .colab-df-convert:hover {\n",
              "      background-color: #434B5C;\n",
              "      box-shadow: 0px 1px 3px 1px rgba(0, 0, 0, 0.15);\n",
              "      filter: drop-shadow(0px 1px 2px rgba(0, 0, 0, 0.3));\n",
              "      fill: #FFFFFF;\n",
              "    }\n",
              "  </style>\n",
              "\n",
              "      <script>\n",
              "        const buttonEl =\n",
              "          document.querySelector('#df-dde44512-49f2-4200-a537-8d1aeabd55fb button.colab-df-convert');\n",
              "        buttonEl.style.display =\n",
              "          google.colab.kernel.accessAllowed ? 'block' : 'none';\n",
              "\n",
              "        async function convertToInteractive(key) {\n",
              "          const element = document.querySelector('#df-dde44512-49f2-4200-a537-8d1aeabd55fb');\n",
              "          const dataTable =\n",
              "            await google.colab.kernel.invokeFunction('convertToInteractive',\n",
              "                                                     [key], {});\n",
              "          if (!dataTable) return;\n",
              "\n",
              "          const docLinkHtml = 'Like what you see? Visit the ' +\n",
              "            '<a target=\"_blank\" href=https://colab.research.google.com/notebooks/data_table.ipynb>data table notebook</a>'\n",
              "            + ' to learn more about interactive tables.';\n",
              "          element.innerHTML = '';\n",
              "          dataTable['output_type'] = 'display_data';\n",
              "          await google.colab.output.renderOutput(dataTable, element);\n",
              "          const docLink = document.createElement('div');\n",
              "          docLink.innerHTML = docLinkHtml;\n",
              "          element.appendChild(docLink);\n",
              "        }\n",
              "      </script>\n",
              "    </div>\n",
              "  </div>\n",
              "  "
            ]
          },
          "metadata": {},
          "execution_count": 21
        }
      ],
      "source": [
        "dados = pd.read_json(\n",
        "    path_or_buf=data_json,\n",
        "    orient='columns'\n",
        "  )\n",
        "dados"
      ]
    },
    {
      "cell_type": "code",
      "execution_count": 24,
      "metadata": {
        "id": "xqMteeCFevgU",
        "colab": {
          "base_uri": "https://localhost:8080/",
          "height": 81
        },
        "outputId": "f3f851f8-937c-433f-fc9c-79577288ba50"
      },
      "outputs": [
        {
          "output_type": "execute_result",
          "data": {
            "text/plain": [
              "                                                   normal  \\\n",
              "output  {'listings': [{'imovel': {'tipos': {'proprieda...   \n",
              "\n",
              "                                               highlights  \n",
              "output  {'listings': [{'imovel': {'tipos': {'proprieda...  "
            ],
            "text/html": [
              "\n",
              "  <div id=\"df-3e6a989f-4eae-45b5-8065-95e80987e251\">\n",
              "    <div class=\"colab-df-container\">\n",
              "      <div>\n",
              "<style scoped>\n",
              "    .dataframe tbody tr th:only-of-type {\n",
              "        vertical-align: middle;\n",
              "    }\n",
              "\n",
              "    .dataframe tbody tr th {\n",
              "        vertical-align: top;\n",
              "    }\n",
              "\n",
              "    .dataframe thead th {\n",
              "        text-align: right;\n",
              "    }\n",
              "</style>\n",
              "<table border=\"1\" class=\"dataframe\">\n",
              "  <thead>\n",
              "    <tr style=\"text-align: right;\">\n",
              "      <th></th>\n",
              "      <th>normal</th>\n",
              "      <th>highlights</th>\n",
              "    </tr>\n",
              "  </thead>\n",
              "  <tbody>\n",
              "    <tr>\n",
              "      <th>output</th>\n",
              "      <td>{'listings': [{'imovel': {'tipos': {'proprieda...</td>\n",
              "      <td>{'listings': [{'imovel': {'tipos': {'proprieda...</td>\n",
              "    </tr>\n",
              "  </tbody>\n",
              "</table>\n",
              "</div>\n",
              "      <button class=\"colab-df-convert\" onclick=\"convertToInteractive('df-3e6a989f-4eae-45b5-8065-95e80987e251')\"\n",
              "              title=\"Convert this dataframe to an interactive table.\"\n",
              "              style=\"display:none;\">\n",
              "        \n",
              "  <svg xmlns=\"http://www.w3.org/2000/svg\" height=\"24px\"viewBox=\"0 0 24 24\"\n",
              "       width=\"24px\">\n",
              "    <path d=\"M0 0h24v24H0V0z\" fill=\"none\"/>\n",
              "    <path d=\"M18.56 5.44l.94 2.06.94-2.06 2.06-.94-2.06-.94-.94-2.06-.94 2.06-2.06.94zm-11 1L8.5 8.5l.94-2.06 2.06-.94-2.06-.94L8.5 2.5l-.94 2.06-2.06.94zm10 10l.94 2.06.94-2.06 2.06-.94-2.06-.94-.94-2.06-.94 2.06-2.06.94z\"/><path d=\"M17.41 7.96l-1.37-1.37c-.4-.4-.92-.59-1.43-.59-.52 0-1.04.2-1.43.59L10.3 9.45l-7.72 7.72c-.78.78-.78 2.05 0 2.83L4 21.41c.39.39.9.59 1.41.59.51 0 1.02-.2 1.41-.59l7.78-7.78 2.81-2.81c.8-.78.8-2.07 0-2.86zM5.41 20L4 18.59l7.72-7.72 1.47 1.35L5.41 20z\"/>\n",
              "  </svg>\n",
              "      </button>\n",
              "      \n",
              "  <style>\n",
              "    .colab-df-container {\n",
              "      display:flex;\n",
              "      flex-wrap:wrap;\n",
              "      gap: 12px;\n",
              "    }\n",
              "\n",
              "    .colab-df-convert {\n",
              "      background-color: #E8F0FE;\n",
              "      border: none;\n",
              "      border-radius: 50%;\n",
              "      cursor: pointer;\n",
              "      display: none;\n",
              "      fill: #1967D2;\n",
              "      height: 32px;\n",
              "      padding: 0 0 0 0;\n",
              "      width: 32px;\n",
              "    }\n",
              "\n",
              "    .colab-df-convert:hover {\n",
              "      background-color: #E2EBFA;\n",
              "      box-shadow: 0px 1px 2px rgba(60, 64, 67, 0.3), 0px 1px 3px 1px rgba(60, 64, 67, 0.15);\n",
              "      fill: #174EA6;\n",
              "    }\n",
              "\n",
              "    [theme=dark] .colab-df-convert {\n",
              "      background-color: #3B4455;\n",
              "      fill: #D2E3FC;\n",
              "    }\n",
              "\n",
              "    [theme=dark] .colab-df-convert:hover {\n",
              "      background-color: #434B5C;\n",
              "      box-shadow: 0px 1px 3px 1px rgba(0, 0, 0, 0.15);\n",
              "      filter: drop-shadow(0px 1px 2px rgba(0, 0, 0, 0.3));\n",
              "      fill: #FFFFFF;\n",
              "    }\n",
              "  </style>\n",
              "\n",
              "      <script>\n",
              "        const buttonEl =\n",
              "          document.querySelector('#df-3e6a989f-4eae-45b5-8065-95e80987e251 button.colab-df-convert');\n",
              "        buttonEl.style.display =\n",
              "          google.colab.kernel.accessAllowed ? 'block' : 'none';\n",
              "\n",
              "        async function convertToInteractive(key) {\n",
              "          const element = document.querySelector('#df-3e6a989f-4eae-45b5-8065-95e80987e251');\n",
              "          const dataTable =\n",
              "            await google.colab.kernel.invokeFunction('convertToInteractive',\n",
              "                                                     [key], {});\n",
              "          if (!dataTable) return;\n",
              "\n",
              "          const docLinkHtml = 'Like what you see? Visit the ' +\n",
              "            '<a target=\"_blank\" href=https://colab.research.google.com/notebooks/data_table.ipynb>data table notebook</a>'\n",
              "            + ' to learn more about interactive tables.';\n",
              "          element.innerHTML = '';\n",
              "          dataTable['output_type'] = 'display_data';\n",
              "          await google.colab.output.renderOutput(dataTable, element);\n",
              "          const docLink = document.createElement('div');\n",
              "          docLink.innerHTML = docLinkHtml;\n",
              "          element.appendChild(docLink);\n",
              "        }\n",
              "      </script>\n",
              "    </div>\n",
              "  </div>\n",
              "  "
            ]
          },
          "metadata": {},
          "execution_count": 24
        }
      ],
      "source": [
        "dados = pd.read_json(\n",
        "    path_or_buf='realestates.json',\n",
        "    orient='columns'\n",
        ")\n",
        "dados"
      ]
    },
    {
      "cell_type": "markdown",
      "metadata": {
        "id": "Q0coCxxrevgU"
      },
      "source": [
        "### Arquivos EXCEL - `read_excel`\n",
        "\n",
        "[Documentação](https://pandas.pydata.org/pandas-docs/stable/reference/api/pandas.read_excel.html)"
      ]
    },
    {
      "cell_type": "code",
      "execution_count": 25,
      "metadata": {
        "id": "xoSV41cTevgV",
        "scrolled": true,
        "colab": {
          "base_uri": "https://localhost:8080/",
          "height": 455
        },
        "outputId": "3d45519a-f0a3-4b62-ee06-a9c86283414c"
      },
      "outputs": [
        {
          "output_type": "execute_result",
          "data": {
            "text/plain": [
              "                                valor_m2_bairro\n",
              "bairros       tipo                             \n",
              "São Cristóvão Casa                        13793\n",
              "              Apartamento                  6306\n",
              "              Cobertura                   11695\n",
              "              Consultório                  6991\n",
              "              Imóvel Comercial            19633\n",
              "...                                         ...\n",
              "Vista Alegre  Cobertura                   16567\n",
              "              Consultório                  5812\n",
              "              Imóvel Comercial            12895\n",
              "              Loja                         6182\n",
              "              Sala Comercial               3377\n",
              "\n",
              "[1127 rows x 1 columns]"
            ],
            "text/html": [
              "\n",
              "  <div id=\"df-ebb859b2-5dc5-4897-8ab2-b8732f701b1b\">\n",
              "    <div class=\"colab-df-container\">\n",
              "      <div>\n",
              "<style scoped>\n",
              "    .dataframe tbody tr th:only-of-type {\n",
              "        vertical-align: middle;\n",
              "    }\n",
              "\n",
              "    .dataframe tbody tr th {\n",
              "        vertical-align: top;\n",
              "    }\n",
              "\n",
              "    .dataframe thead th {\n",
              "        text-align: right;\n",
              "    }\n",
              "</style>\n",
              "<table border=\"1\" class=\"dataframe\">\n",
              "  <thead>\n",
              "    <tr style=\"text-align: right;\">\n",
              "      <th></th>\n",
              "      <th></th>\n",
              "      <th>valor_m2_bairro</th>\n",
              "    </tr>\n",
              "    <tr>\n",
              "      <th>bairros</th>\n",
              "      <th>tipo</th>\n",
              "      <th></th>\n",
              "    </tr>\n",
              "  </thead>\n",
              "  <tbody>\n",
              "    <tr>\n",
              "      <th rowspan=\"5\" valign=\"top\">São Cristóvão</th>\n",
              "      <th>Casa</th>\n",
              "      <td>13793</td>\n",
              "    </tr>\n",
              "    <tr>\n",
              "      <th>Apartamento</th>\n",
              "      <td>6306</td>\n",
              "    </tr>\n",
              "    <tr>\n",
              "      <th>Cobertura</th>\n",
              "      <td>11695</td>\n",
              "    </tr>\n",
              "    <tr>\n",
              "      <th>Consultório</th>\n",
              "      <td>6991</td>\n",
              "    </tr>\n",
              "    <tr>\n",
              "      <th>Imóvel Comercial</th>\n",
              "      <td>19633</td>\n",
              "    </tr>\n",
              "    <tr>\n",
              "      <th>...</th>\n",
              "      <th>...</th>\n",
              "      <td>...</td>\n",
              "    </tr>\n",
              "    <tr>\n",
              "      <th rowspan=\"5\" valign=\"top\">Vista Alegre</th>\n",
              "      <th>Cobertura</th>\n",
              "      <td>16567</td>\n",
              "    </tr>\n",
              "    <tr>\n",
              "      <th>Consultório</th>\n",
              "      <td>5812</td>\n",
              "    </tr>\n",
              "    <tr>\n",
              "      <th>Imóvel Comercial</th>\n",
              "      <td>12895</td>\n",
              "    </tr>\n",
              "    <tr>\n",
              "      <th>Loja</th>\n",
              "      <td>6182</td>\n",
              "    </tr>\n",
              "    <tr>\n",
              "      <th>Sala Comercial</th>\n",
              "      <td>3377</td>\n",
              "    </tr>\n",
              "  </tbody>\n",
              "</table>\n",
              "<p>1127 rows × 1 columns</p>\n",
              "</div>\n",
              "      <button class=\"colab-df-convert\" onclick=\"convertToInteractive('df-ebb859b2-5dc5-4897-8ab2-b8732f701b1b')\"\n",
              "              title=\"Convert this dataframe to an interactive table.\"\n",
              "              style=\"display:none;\">\n",
              "        \n",
              "  <svg xmlns=\"http://www.w3.org/2000/svg\" height=\"24px\"viewBox=\"0 0 24 24\"\n",
              "       width=\"24px\">\n",
              "    <path d=\"M0 0h24v24H0V0z\" fill=\"none\"/>\n",
              "    <path d=\"M18.56 5.44l.94 2.06.94-2.06 2.06-.94-2.06-.94-.94-2.06-.94 2.06-2.06.94zm-11 1L8.5 8.5l.94-2.06 2.06-.94-2.06-.94L8.5 2.5l-.94 2.06-2.06.94zm10 10l.94 2.06.94-2.06 2.06-.94-2.06-.94-.94-2.06-.94 2.06-2.06.94z\"/><path d=\"M17.41 7.96l-1.37-1.37c-.4-.4-.92-.59-1.43-.59-.52 0-1.04.2-1.43.59L10.3 9.45l-7.72 7.72c-.78.78-.78 2.05 0 2.83L4 21.41c.39.39.9.59 1.41.59.51 0 1.02-.2 1.41-.59l7.78-7.78 2.81-2.81c.8-.78.8-2.07 0-2.86zM5.41 20L4 18.59l7.72-7.72 1.47 1.35L5.41 20z\"/>\n",
              "  </svg>\n",
              "      </button>\n",
              "      \n",
              "  <style>\n",
              "    .colab-df-container {\n",
              "      display:flex;\n",
              "      flex-wrap:wrap;\n",
              "      gap: 12px;\n",
              "    }\n",
              "\n",
              "    .colab-df-convert {\n",
              "      background-color: #E8F0FE;\n",
              "      border: none;\n",
              "      border-radius: 50%;\n",
              "      cursor: pointer;\n",
              "      display: none;\n",
              "      fill: #1967D2;\n",
              "      height: 32px;\n",
              "      padding: 0 0 0 0;\n",
              "      width: 32px;\n",
              "    }\n",
              "\n",
              "    .colab-df-convert:hover {\n",
              "      background-color: #E2EBFA;\n",
              "      box-shadow: 0px 1px 2px rgba(60, 64, 67, 0.3), 0px 1px 3px 1px rgba(60, 64, 67, 0.15);\n",
              "      fill: #174EA6;\n",
              "    }\n",
              "\n",
              "    [theme=dark] .colab-df-convert {\n",
              "      background-color: #3B4455;\n",
              "      fill: #D2E3FC;\n",
              "    }\n",
              "\n",
              "    [theme=dark] .colab-df-convert:hover {\n",
              "      background-color: #434B5C;\n",
              "      box-shadow: 0px 1px 3px 1px rgba(0, 0, 0, 0.15);\n",
              "      filter: drop-shadow(0px 1px 2px rgba(0, 0, 0, 0.3));\n",
              "      fill: #FFFFFF;\n",
              "    }\n",
              "  </style>\n",
              "\n",
              "      <script>\n",
              "        const buttonEl =\n",
              "          document.querySelector('#df-ebb859b2-5dc5-4897-8ab2-b8732f701b1b button.colab-df-convert');\n",
              "        buttonEl.style.display =\n",
              "          google.colab.kernel.accessAllowed ? 'block' : 'none';\n",
              "\n",
              "        async function convertToInteractive(key) {\n",
              "          const element = document.querySelector('#df-ebb859b2-5dc5-4897-8ab2-b8732f701b1b');\n",
              "          const dataTable =\n",
              "            await google.colab.kernel.invokeFunction('convertToInteractive',\n",
              "                                                     [key], {});\n",
              "          if (!dataTable) return;\n",
              "\n",
              "          const docLinkHtml = 'Like what you see? Visit the ' +\n",
              "            '<a target=\"_blank\" href=https://colab.research.google.com/notebooks/data_table.ipynb>data table notebook</a>'\n",
              "            + ' to learn more about interactive tables.';\n",
              "          element.innerHTML = '';\n",
              "          dataTable['output_type'] = 'display_data';\n",
              "          await google.colab.output.renderOutput(dataTable, element);\n",
              "          const docLink = document.createElement('div');\n",
              "          docLink.innerHTML = docLinkHtml;\n",
              "          element.appendChild(docLink);\n",
              "        }\n",
              "      </script>\n",
              "    </div>\n",
              "  </div>\n",
              "  "
            ]
          },
          "metadata": {},
          "execution_count": 25
        }
      ],
      "source": [
        "bairros = pd.read_excel(\n",
        "    io = 'bairros.xlsx',\n",
        "    sheet_name='Preço médio por tipo',\n",
        "    usecols=\"C:E\", # em quais colunas está (da C até a E, no exemplo)\n",
        "    header = 2, # em qual linha começa o header (indexação python, começando em zero)\n",
        "    index_col = [0, 1],\n",
        "    names = ['bairros', 'tipo', 'valor_m2_bairro']\n",
        ")\n",
        "bairros"
      ]
    },
    {
      "cell_type": "markdown",
      "metadata": {
        "id": "A05bkoTPevgV"
      },
      "source": [
        "# TRANSFORMANDO E TRATANDO OS DADOS\n",
        "---"
      ]
    },
    {
      "cell_type": "markdown",
      "metadata": {
        "id": "Wy7HvxaZevgV"
      },
      "source": [
        "## Transformando dados no formato JSON para uma tabela"
      ]
    },
    {
      "cell_type": "code",
      "execution_count": 26,
      "metadata": {
        "id": "g0533aVtevgV",
        "colab": {
          "base_uri": "https://localhost:8080/",
          "height": 81
        },
        "outputId": "429110e3-101c-4eb1-f028-8f1f30d186f3"
      },
      "outputs": [
        {
          "output_type": "execute_result",
          "data": {
            "text/plain": [
              "                                                   normal  \\\n",
              "output  {'listings': [{'imovel': {'tipos': {'proprieda...   \n",
              "\n",
              "                                               highlights  \n",
              "output  {'listings': [{'imovel': {'tipos': {'proprieda...  "
            ],
            "text/html": [
              "\n",
              "  <div id=\"df-39970427-ef6f-4cbf-a93b-a3ebfb113896\">\n",
              "    <div class=\"colab-df-container\">\n",
              "      <div>\n",
              "<style scoped>\n",
              "    .dataframe tbody tr th:only-of-type {\n",
              "        vertical-align: middle;\n",
              "    }\n",
              "\n",
              "    .dataframe tbody tr th {\n",
              "        vertical-align: top;\n",
              "    }\n",
              "\n",
              "    .dataframe thead th {\n",
              "        text-align: right;\n",
              "    }\n",
              "</style>\n",
              "<table border=\"1\" class=\"dataframe\">\n",
              "  <thead>\n",
              "    <tr style=\"text-align: right;\">\n",
              "      <th></th>\n",
              "      <th>normal</th>\n",
              "      <th>highlights</th>\n",
              "    </tr>\n",
              "  </thead>\n",
              "  <tbody>\n",
              "    <tr>\n",
              "      <th>output</th>\n",
              "      <td>{'listings': [{'imovel': {'tipos': {'proprieda...</td>\n",
              "      <td>{'listings': [{'imovel': {'tipos': {'proprieda...</td>\n",
              "    </tr>\n",
              "  </tbody>\n",
              "</table>\n",
              "</div>\n",
              "      <button class=\"colab-df-convert\" onclick=\"convertToInteractive('df-39970427-ef6f-4cbf-a93b-a3ebfb113896')\"\n",
              "              title=\"Convert this dataframe to an interactive table.\"\n",
              "              style=\"display:none;\">\n",
              "        \n",
              "  <svg xmlns=\"http://www.w3.org/2000/svg\" height=\"24px\"viewBox=\"0 0 24 24\"\n",
              "       width=\"24px\">\n",
              "    <path d=\"M0 0h24v24H0V0z\" fill=\"none\"/>\n",
              "    <path d=\"M18.56 5.44l.94 2.06.94-2.06 2.06-.94-2.06-.94-.94-2.06-.94 2.06-2.06.94zm-11 1L8.5 8.5l.94-2.06 2.06-.94-2.06-.94L8.5 2.5l-.94 2.06-2.06.94zm10 10l.94 2.06.94-2.06 2.06-.94-2.06-.94-.94-2.06-.94 2.06-2.06.94z\"/><path d=\"M17.41 7.96l-1.37-1.37c-.4-.4-.92-.59-1.43-.59-.52 0-1.04.2-1.43.59L10.3 9.45l-7.72 7.72c-.78.78-.78 2.05 0 2.83L4 21.41c.39.39.9.59 1.41.59.51 0 1.02-.2 1.41-.59l7.78-7.78 2.81-2.81c.8-.78.8-2.07 0-2.86zM5.41 20L4 18.59l7.72-7.72 1.47 1.35L5.41 20z\"/>\n",
              "  </svg>\n",
              "      </button>\n",
              "      \n",
              "  <style>\n",
              "    .colab-df-container {\n",
              "      display:flex;\n",
              "      flex-wrap:wrap;\n",
              "      gap: 12px;\n",
              "    }\n",
              "\n",
              "    .colab-df-convert {\n",
              "      background-color: #E8F0FE;\n",
              "      border: none;\n",
              "      border-radius: 50%;\n",
              "      cursor: pointer;\n",
              "      display: none;\n",
              "      fill: #1967D2;\n",
              "      height: 32px;\n",
              "      padding: 0 0 0 0;\n",
              "      width: 32px;\n",
              "    }\n",
              "\n",
              "    .colab-df-convert:hover {\n",
              "      background-color: #E2EBFA;\n",
              "      box-shadow: 0px 1px 2px rgba(60, 64, 67, 0.3), 0px 1px 3px 1px rgba(60, 64, 67, 0.15);\n",
              "      fill: #174EA6;\n",
              "    }\n",
              "\n",
              "    [theme=dark] .colab-df-convert {\n",
              "      background-color: #3B4455;\n",
              "      fill: #D2E3FC;\n",
              "    }\n",
              "\n",
              "    [theme=dark] .colab-df-convert:hover {\n",
              "      background-color: #434B5C;\n",
              "      box-shadow: 0px 1px 3px 1px rgba(0, 0, 0, 0.15);\n",
              "      filter: drop-shadow(0px 1px 2px rgba(0, 0, 0, 0.3));\n",
              "      fill: #FFFFFF;\n",
              "    }\n",
              "  </style>\n",
              "\n",
              "      <script>\n",
              "        const buttonEl =\n",
              "          document.querySelector('#df-39970427-ef6f-4cbf-a93b-a3ebfb113896 button.colab-df-convert');\n",
              "        buttonEl.style.display =\n",
              "          google.colab.kernel.accessAllowed ? 'block' : 'none';\n",
              "\n",
              "        async function convertToInteractive(key) {\n",
              "          const element = document.querySelector('#df-39970427-ef6f-4cbf-a93b-a3ebfb113896');\n",
              "          const dataTable =\n",
              "            await google.colab.kernel.invokeFunction('convertToInteractive',\n",
              "                                                     [key], {});\n",
              "          if (!dataTable) return;\n",
              "\n",
              "          const docLinkHtml = 'Like what you see? Visit the ' +\n",
              "            '<a target=\"_blank\" href=https://colab.research.google.com/notebooks/data_table.ipynb>data table notebook</a>'\n",
              "            + ' to learn more about interactive tables.';\n",
              "          element.innerHTML = '';\n",
              "          dataTable['output_type'] = 'display_data';\n",
              "          await google.colab.output.renderOutput(dataTable, element);\n",
              "          const docLink = document.createElement('div');\n",
              "          docLink.innerHTML = docLinkHtml;\n",
              "          element.appendChild(docLink);\n",
              "        }\n",
              "      </script>\n",
              "    </div>\n",
              "  </div>\n",
              "  "
            ]
          },
          "metadata": {},
          "execution_count": 26
        }
      ],
      "source": [
        "dados"
      ]
    },
    {
      "cell_type": "markdown",
      "metadata": {
        "id": "bLn7laG1evgV"
      },
      "source": [
        "### `json_normalize`\n",
        "\n",
        "[Documentação](https://pandas.pydata.org/pandas-docs/stable/reference/api/pandas.json_normalize.html)"
      ]
    },
    {
      "cell_type": "code",
      "execution_count": 29,
      "metadata": {
        "id": "NqBTVXNKevgW",
        "colab": {
          "base_uri": "https://localhost:8080/",
          "height": 81
        },
        "outputId": "a1482d49-2445-4c08-a6e3-0cdb92327707"
      },
      "outputs": [
        {
          "output_type": "execute_result",
          "data": {
            "text/plain": [
              "                                            listings\n",
              "0  [{'imovel': {'tipos': {'propriedade': 'Casa'},..."
            ],
            "text/html": [
              "\n",
              "  <div id=\"df-f399a1f6-4258-4935-ae39-7c5a7576d0ec\">\n",
              "    <div class=\"colab-df-container\">\n",
              "      <div>\n",
              "<style scoped>\n",
              "    .dataframe tbody tr th:only-of-type {\n",
              "        vertical-align: middle;\n",
              "    }\n",
              "\n",
              "    .dataframe tbody tr th {\n",
              "        vertical-align: top;\n",
              "    }\n",
              "\n",
              "    .dataframe thead th {\n",
              "        text-align: right;\n",
              "    }\n",
              "</style>\n",
              "<table border=\"1\" class=\"dataframe\">\n",
              "  <thead>\n",
              "    <tr style=\"text-align: right;\">\n",
              "      <th></th>\n",
              "      <th>listings</th>\n",
              "    </tr>\n",
              "  </thead>\n",
              "  <tbody>\n",
              "    <tr>\n",
              "      <th>0</th>\n",
              "      <td>[{'imovel': {'tipos': {'propriedade': 'Casa'},...</td>\n",
              "    </tr>\n",
              "  </tbody>\n",
              "</table>\n",
              "</div>\n",
              "      <button class=\"colab-df-convert\" onclick=\"convertToInteractive('df-f399a1f6-4258-4935-ae39-7c5a7576d0ec')\"\n",
              "              title=\"Convert this dataframe to an interactive table.\"\n",
              "              style=\"display:none;\">\n",
              "        \n",
              "  <svg xmlns=\"http://www.w3.org/2000/svg\" height=\"24px\"viewBox=\"0 0 24 24\"\n",
              "       width=\"24px\">\n",
              "    <path d=\"M0 0h24v24H0V0z\" fill=\"none\"/>\n",
              "    <path d=\"M18.56 5.44l.94 2.06.94-2.06 2.06-.94-2.06-.94-.94-2.06-.94 2.06-2.06.94zm-11 1L8.5 8.5l.94-2.06 2.06-.94-2.06-.94L8.5 2.5l-.94 2.06-2.06.94zm10 10l.94 2.06.94-2.06 2.06-.94-2.06-.94-.94-2.06-.94 2.06-2.06.94z\"/><path d=\"M17.41 7.96l-1.37-1.37c-.4-.4-.92-.59-1.43-.59-.52 0-1.04.2-1.43.59L10.3 9.45l-7.72 7.72c-.78.78-.78 2.05 0 2.83L4 21.41c.39.39.9.59 1.41.59.51 0 1.02-.2 1.41-.59l7.78-7.78 2.81-2.81c.8-.78.8-2.07 0-2.86zM5.41 20L4 18.59l7.72-7.72 1.47 1.35L5.41 20z\"/>\n",
              "  </svg>\n",
              "      </button>\n",
              "      \n",
              "  <style>\n",
              "    .colab-df-container {\n",
              "      display:flex;\n",
              "      flex-wrap:wrap;\n",
              "      gap: 12px;\n",
              "    }\n",
              "\n",
              "    .colab-df-convert {\n",
              "      background-color: #E8F0FE;\n",
              "      border: none;\n",
              "      border-radius: 50%;\n",
              "      cursor: pointer;\n",
              "      display: none;\n",
              "      fill: #1967D2;\n",
              "      height: 32px;\n",
              "      padding: 0 0 0 0;\n",
              "      width: 32px;\n",
              "    }\n",
              "\n",
              "    .colab-df-convert:hover {\n",
              "      background-color: #E2EBFA;\n",
              "      box-shadow: 0px 1px 2px rgba(60, 64, 67, 0.3), 0px 1px 3px 1px rgba(60, 64, 67, 0.15);\n",
              "      fill: #174EA6;\n",
              "    }\n",
              "\n",
              "    [theme=dark] .colab-df-convert {\n",
              "      background-color: #3B4455;\n",
              "      fill: #D2E3FC;\n",
              "    }\n",
              "\n",
              "    [theme=dark] .colab-df-convert:hover {\n",
              "      background-color: #434B5C;\n",
              "      box-shadow: 0px 1px 3px 1px rgba(0, 0, 0, 0.15);\n",
              "      filter: drop-shadow(0px 1px 2px rgba(0, 0, 0, 0.3));\n",
              "      fill: #FFFFFF;\n",
              "    }\n",
              "  </style>\n",
              "\n",
              "      <script>\n",
              "        const buttonEl =\n",
              "          document.querySelector('#df-f399a1f6-4258-4935-ae39-7c5a7576d0ec button.colab-df-convert');\n",
              "        buttonEl.style.display =\n",
              "          google.colab.kernel.accessAllowed ? 'block' : 'none';\n",
              "\n",
              "        async function convertToInteractive(key) {\n",
              "          const element = document.querySelector('#df-f399a1f6-4258-4935-ae39-7c5a7576d0ec');\n",
              "          const dataTable =\n",
              "            await google.colab.kernel.invokeFunction('convertToInteractive',\n",
              "                                                     [key], {});\n",
              "          if (!dataTable) return;\n",
              "\n",
              "          const docLinkHtml = 'Like what you see? Visit the ' +\n",
              "            '<a target=\"_blank\" href=https://colab.research.google.com/notebooks/data_table.ipynb>data table notebook</a>'\n",
              "            + ' to learn more about interactive tables.';\n",
              "          element.innerHTML = '';\n",
              "          dataTable['output_type'] = 'display_data';\n",
              "          await google.colab.output.renderOutput(dataTable, element);\n",
              "          const docLink = document.createElement('div');\n",
              "          docLink.innerHTML = docLinkHtml;\n",
              "          element.appendChild(docLink);\n",
              "        }\n",
              "      </script>\n",
              "    </div>\n",
              "  </div>\n",
              "  "
            ]
          },
          "metadata": {},
          "execution_count": 29
        }
      ],
      "source": [
        "dados_normal = pd.json_normalize(data=dados.normal)\n",
        "dados_normal"
      ]
    },
    {
      "cell_type": "code",
      "execution_count": null,
      "metadata": {
        "id": "Tq_44heHevgW"
      },
      "outputs": [],
      "source": [
        "dados_normal['listings'].iloc[0]"
      ]
    },
    {
      "cell_type": "code",
      "execution_count": 31,
      "metadata": {
        "id": "NyQdnK6tevgW",
        "colab": {
          "base_uri": "https://localhost:8080/"
        },
        "outputId": "028e1304-2b63-4ff8-c52b-5807ce710be0"
      },
      "outputs": [
        {
          "output_type": "execute_result",
          "data": {
            "text/plain": [
              "list"
            ]
          },
          "metadata": {},
          "execution_count": 31
        }
      ],
      "source": [
        "type(dados_normal['listings'].iloc[0])"
      ]
    },
    {
      "cell_type": "code",
      "execution_count": 32,
      "metadata": {
        "id": "Sz6n0-4gevgW",
        "scrolled": true,
        "colab": {
          "base_uri": "https://localhost:8080/"
        },
        "outputId": "69d87dea-707c-4d7b-d727-d5b1e669a122"
      },
      "outputs": [
        {
          "output_type": "execute_result",
          "data": {
            "text/plain": [
              "50"
            ]
          },
          "metadata": {},
          "execution_count": 32
        }
      ],
      "source": [
        "len(dados_normal['listings'].iloc[0])"
      ]
    },
    {
      "cell_type": "code",
      "execution_count": 38,
      "metadata": {
        "id": "nyYi0xgEevgW",
        "colab": {
          "base_uri": "https://localhost:8080/",
          "height": 444
        },
        "outputId": "c66025a6-b19c-4653-bb4c-ae9070fc9bfe"
      },
      "outputs": [
        {
          "output_type": "execute_result",
          "data": {
            "text/plain": [
              "  imovel_tipos_propriedade imovel_endereco_bairro  \\\n",
              "0                     Casa        Barra da Tijuca   \n",
              "1              Apartamento           Campo Grande   \n",
              "2                Cobertura        Barra da Tijuca   \n",
              "3                Cobertura        Barra da Tijuca   \n",
              "4           Sala Comercial                 Glória   \n",
              "\n",
              "                         imovel_endereco_localizacao  imovel_vagasGaragem  \\\n",
              "0  {'type': 'Point', 'coordinates': [-43.3039086,...                    4   \n",
              "1           {'type': 'Point', 'coordinates': [0, 0]}                    1   \n",
              "2  {'type': 'Point', 'coordinates': [-43.3037186,...                    2   \n",
              "3  {'type': 'Point', 'coordinates': [-43.3548121,...                    1   \n",
              "4  {'type': 'Point', 'coordinates': [-43.1779703,...                    1   \n",
              "\n",
              "   imovel_area                 imovel_caracteristicas_propriedade  \\\n",
              "0          279  ['Área de Serviço', 'Terraço', 'Churrasqueira'...   \n",
              "1           60                                          ['Sauna']   \n",
              "2          380  ['Acessibilidade', 'Área de Serviço', 'Sauna',...   \n",
              "3           73  ['Vista Panorâmica', 'Piscina', 'Sauna', 'Clos...   \n",
              "4           32                            ['Armários Planejados']   \n",
              "\n",
              "                   imovel_caracteristicas_condominio  \\\n",
              "0  ['Churrasqueira', 'Salão de Jogos', 'Sauna', '...   \n",
              "1  ['Elevador', 'Playground', 'Salão de Festas', ...   \n",
              "2  ['Sauna', 'Playground', 'Quadra Poliesportiva'...   \n",
              "3  ['Quadra Poliesportiva', 'Aceita Pet', 'Playgr...   \n",
              "4  ['Quadra Poliesportiva', 'Porteiro 24 Horas', ...   \n",
              "\n",
              "                      imovel_caracteristicas_entorno anuncio_tipos_publicacao  \\\n",
              "0  ['Próximo a Escola Particular', 'Próximo ao Me...                   Padrão   \n",
              "1  ['Próximo ao Shopping', 'Próximo a Áreas de La...                   Padrão   \n",
              "2                    ['Próximo a Escola Particular']                  Premium   \n",
              "3  ['Próximo a Farmácia', 'Próximo a Academia', '...                   Padrão   \n",
              "4  ['Próximo a Centro Empresarial', 'Próximo a Ár...                   Padrão   \n",
              "\n",
              "  anuncio_tipos_listagem  anuncio_valores_venda  anuncio_valores_aluguel  \\\n",
              "0             Lançamento              2400000.0                      0.0   \n",
              "1                  Usado               200000.0                      0.0   \n",
              "2                  Usado              4400000.0                      0.0   \n",
              "3                  Usado              1100000.0                      0.0   \n",
              "4                  Usado               260000.0                      0.0   \n",
              "\n",
              "   anuncio_valores_condominio  anuncio_valores_iptu  \\\n",
              "0                       790.0                5700.0   \n",
              "1                         0.0                   0.0   \n",
              "2                      1200.0                 850.0   \n",
              "3                      1300.0                 364.0   \n",
              "4                       450.0                 800.0   \n",
              "\n",
              "                                   anuncio_descricao  \n",
              "0  Amplo imóvel para venda com 3 quartos, sendo 1...  \n",
              "1  Amplo imóvel para venda com 2 quartos, sendo 0...  \n",
              "2  Amplo imóvel para venda com 5 quartos, sendo 4...  \n",
              "3  Amplo imóvel para venda com 2 quartos, sendo 1...  \n",
              "4  Amplo imóvel para venda com 0 quartos, sendo 0...  "
            ],
            "text/html": [
              "\n",
              "  <div id=\"df-6bd09fc7-c555-4998-ad56-e4abcca60b41\">\n",
              "    <div class=\"colab-df-container\">\n",
              "      <div>\n",
              "<style scoped>\n",
              "    .dataframe tbody tr th:only-of-type {\n",
              "        vertical-align: middle;\n",
              "    }\n",
              "\n",
              "    .dataframe tbody tr th {\n",
              "        vertical-align: top;\n",
              "    }\n",
              "\n",
              "    .dataframe thead th {\n",
              "        text-align: right;\n",
              "    }\n",
              "</style>\n",
              "<table border=\"1\" class=\"dataframe\">\n",
              "  <thead>\n",
              "    <tr style=\"text-align: right;\">\n",
              "      <th></th>\n",
              "      <th>imovel_tipos_propriedade</th>\n",
              "      <th>imovel_endereco_bairro</th>\n",
              "      <th>imovel_endereco_localizacao</th>\n",
              "      <th>imovel_vagasGaragem</th>\n",
              "      <th>imovel_area</th>\n",
              "      <th>imovel_caracteristicas_propriedade</th>\n",
              "      <th>imovel_caracteristicas_condominio</th>\n",
              "      <th>imovel_caracteristicas_entorno</th>\n",
              "      <th>anuncio_tipos_publicacao</th>\n",
              "      <th>anuncio_tipos_listagem</th>\n",
              "      <th>anuncio_valores_venda</th>\n",
              "      <th>anuncio_valores_aluguel</th>\n",
              "      <th>anuncio_valores_condominio</th>\n",
              "      <th>anuncio_valores_iptu</th>\n",
              "      <th>anuncio_descricao</th>\n",
              "    </tr>\n",
              "  </thead>\n",
              "  <tbody>\n",
              "    <tr>\n",
              "      <th>0</th>\n",
              "      <td>Casa</td>\n",
              "      <td>Barra da Tijuca</td>\n",
              "      <td>{'type': 'Point', 'coordinates': [-43.3039086,...</td>\n",
              "      <td>4</td>\n",
              "      <td>279</td>\n",
              "      <td>['Área de Serviço', 'Terraço', 'Churrasqueira'...</td>\n",
              "      <td>['Churrasqueira', 'Salão de Jogos', 'Sauna', '...</td>\n",
              "      <td>['Próximo a Escola Particular', 'Próximo ao Me...</td>\n",
              "      <td>Padrão</td>\n",
              "      <td>Lançamento</td>\n",
              "      <td>2400000.0</td>\n",
              "      <td>0.0</td>\n",
              "      <td>790.0</td>\n",
              "      <td>5700.0</td>\n",
              "      <td>Amplo imóvel para venda com 3 quartos, sendo 1...</td>\n",
              "    </tr>\n",
              "    <tr>\n",
              "      <th>1</th>\n",
              "      <td>Apartamento</td>\n",
              "      <td>Campo Grande</td>\n",
              "      <td>{'type': 'Point', 'coordinates': [0, 0]}</td>\n",
              "      <td>1</td>\n",
              "      <td>60</td>\n",
              "      <td>['Sauna']</td>\n",
              "      <td>['Elevador', 'Playground', 'Salão de Festas', ...</td>\n",
              "      <td>['Próximo ao Shopping', 'Próximo a Áreas de La...</td>\n",
              "      <td>Padrão</td>\n",
              "      <td>Usado</td>\n",
              "      <td>200000.0</td>\n",
              "      <td>0.0</td>\n",
              "      <td>0.0</td>\n",
              "      <td>0.0</td>\n",
              "      <td>Amplo imóvel para venda com 2 quartos, sendo 0...</td>\n",
              "    </tr>\n",
              "    <tr>\n",
              "      <th>2</th>\n",
              "      <td>Cobertura</td>\n",
              "      <td>Barra da Tijuca</td>\n",
              "      <td>{'type': 'Point', 'coordinates': [-43.3037186,...</td>\n",
              "      <td>2</td>\n",
              "      <td>380</td>\n",
              "      <td>['Acessibilidade', 'Área de Serviço', 'Sauna',...</td>\n",
              "      <td>['Sauna', 'Playground', 'Quadra Poliesportiva'...</td>\n",
              "      <td>['Próximo a Escola Particular']</td>\n",
              "      <td>Premium</td>\n",
              "      <td>Usado</td>\n",
              "      <td>4400000.0</td>\n",
              "      <td>0.0</td>\n",
              "      <td>1200.0</td>\n",
              "      <td>850.0</td>\n",
              "      <td>Amplo imóvel para venda com 5 quartos, sendo 4...</td>\n",
              "    </tr>\n",
              "    <tr>\n",
              "      <th>3</th>\n",
              "      <td>Cobertura</td>\n",
              "      <td>Barra da Tijuca</td>\n",
              "      <td>{'type': 'Point', 'coordinates': [-43.3548121,...</td>\n",
              "      <td>1</td>\n",
              "      <td>73</td>\n",
              "      <td>['Vista Panorâmica', 'Piscina', 'Sauna', 'Clos...</td>\n",
              "      <td>['Quadra Poliesportiva', 'Aceita Pet', 'Playgr...</td>\n",
              "      <td>['Próximo a Farmácia', 'Próximo a Academia', '...</td>\n",
              "      <td>Padrão</td>\n",
              "      <td>Usado</td>\n",
              "      <td>1100000.0</td>\n",
              "      <td>0.0</td>\n",
              "      <td>1300.0</td>\n",
              "      <td>364.0</td>\n",
              "      <td>Amplo imóvel para venda com 2 quartos, sendo 1...</td>\n",
              "    </tr>\n",
              "    <tr>\n",
              "      <th>4</th>\n",
              "      <td>Sala Comercial</td>\n",
              "      <td>Glória</td>\n",
              "      <td>{'type': 'Point', 'coordinates': [-43.1779703,...</td>\n",
              "      <td>1</td>\n",
              "      <td>32</td>\n",
              "      <td>['Armários Planejados']</td>\n",
              "      <td>['Quadra Poliesportiva', 'Porteiro 24 Horas', ...</td>\n",
              "      <td>['Próximo a Centro Empresarial', 'Próximo a Ár...</td>\n",
              "      <td>Padrão</td>\n",
              "      <td>Usado</td>\n",
              "      <td>260000.0</td>\n",
              "      <td>0.0</td>\n",
              "      <td>450.0</td>\n",
              "      <td>800.0</td>\n",
              "      <td>Amplo imóvel para venda com 0 quartos, sendo 0...</td>\n",
              "    </tr>\n",
              "  </tbody>\n",
              "</table>\n",
              "</div>\n",
              "      <button class=\"colab-df-convert\" onclick=\"convertToInteractive('df-6bd09fc7-c555-4998-ad56-e4abcca60b41')\"\n",
              "              title=\"Convert this dataframe to an interactive table.\"\n",
              "              style=\"display:none;\">\n",
              "        \n",
              "  <svg xmlns=\"http://www.w3.org/2000/svg\" height=\"24px\"viewBox=\"0 0 24 24\"\n",
              "       width=\"24px\">\n",
              "    <path d=\"M0 0h24v24H0V0z\" fill=\"none\"/>\n",
              "    <path d=\"M18.56 5.44l.94 2.06.94-2.06 2.06-.94-2.06-.94-.94-2.06-.94 2.06-2.06.94zm-11 1L8.5 8.5l.94-2.06 2.06-.94-2.06-.94L8.5 2.5l-.94 2.06-2.06.94zm10 10l.94 2.06.94-2.06 2.06-.94-2.06-.94-.94-2.06-.94 2.06-2.06.94z\"/><path d=\"M17.41 7.96l-1.37-1.37c-.4-.4-.92-.59-1.43-.59-.52 0-1.04.2-1.43.59L10.3 9.45l-7.72 7.72c-.78.78-.78 2.05 0 2.83L4 21.41c.39.39.9.59 1.41.59.51 0 1.02-.2 1.41-.59l7.78-7.78 2.81-2.81c.8-.78.8-2.07 0-2.86zM5.41 20L4 18.59l7.72-7.72 1.47 1.35L5.41 20z\"/>\n",
              "  </svg>\n",
              "      </button>\n",
              "      \n",
              "  <style>\n",
              "    .colab-df-container {\n",
              "      display:flex;\n",
              "      flex-wrap:wrap;\n",
              "      gap: 12px;\n",
              "    }\n",
              "\n",
              "    .colab-df-convert {\n",
              "      background-color: #E8F0FE;\n",
              "      border: none;\n",
              "      border-radius: 50%;\n",
              "      cursor: pointer;\n",
              "      display: none;\n",
              "      fill: #1967D2;\n",
              "      height: 32px;\n",
              "      padding: 0 0 0 0;\n",
              "      width: 32px;\n",
              "    }\n",
              "\n",
              "    .colab-df-convert:hover {\n",
              "      background-color: #E2EBFA;\n",
              "      box-shadow: 0px 1px 2px rgba(60, 64, 67, 0.3), 0px 1px 3px 1px rgba(60, 64, 67, 0.15);\n",
              "      fill: #174EA6;\n",
              "    }\n",
              "\n",
              "    [theme=dark] .colab-df-convert {\n",
              "      background-color: #3B4455;\n",
              "      fill: #D2E3FC;\n",
              "    }\n",
              "\n",
              "    [theme=dark] .colab-df-convert:hover {\n",
              "      background-color: #434B5C;\n",
              "      box-shadow: 0px 1px 3px 1px rgba(0, 0, 0, 0.15);\n",
              "      filter: drop-shadow(0px 1px 2px rgba(0, 0, 0, 0.3));\n",
              "      fill: #FFFFFF;\n",
              "    }\n",
              "  </style>\n",
              "\n",
              "      <script>\n",
              "        const buttonEl =\n",
              "          document.querySelector('#df-6bd09fc7-c555-4998-ad56-e4abcca60b41 button.colab-df-convert');\n",
              "        buttonEl.style.display =\n",
              "          google.colab.kernel.accessAllowed ? 'block' : 'none';\n",
              "\n",
              "        async function convertToInteractive(key) {\n",
              "          const element = document.querySelector('#df-6bd09fc7-c555-4998-ad56-e4abcca60b41');\n",
              "          const dataTable =\n",
              "            await google.colab.kernel.invokeFunction('convertToInteractive',\n",
              "                                                     [key], {});\n",
              "          if (!dataTable) return;\n",
              "\n",
              "          const docLinkHtml = 'Like what you see? Visit the ' +\n",
              "            '<a target=\"_blank\" href=https://colab.research.google.com/notebooks/data_table.ipynb>data table notebook</a>'\n",
              "            + ' to learn more about interactive tables.';\n",
              "          element.innerHTML = '';\n",
              "          dataTable['output_type'] = 'display_data';\n",
              "          await google.colab.output.renderOutput(dataTable, element);\n",
              "          const docLink = document.createElement('div');\n",
              "          docLink.innerHTML = docLinkHtml;\n",
              "          element.appendChild(docLink);\n",
              "        }\n",
              "      </script>\n",
              "    </div>\n",
              "  </div>\n",
              "  "
            ]
          },
          "metadata": {},
          "execution_count": 38
        }
      ],
      "source": [
        "# max_level serve para limitar a varredura nas listas internas do json\n",
        "dados_normal_listings = pd.json_normalize(data=dados_normal['listings'].iloc[0], sep='_', max_level=2)\n",
        "dados_normal_listings.head()"
      ]
    },
    {
      "cell_type": "code",
      "execution_count": 40,
      "metadata": {
        "id": "DJqqVu0YevgX",
        "colab": {
          "base_uri": "https://localhost:8080/",
          "height": 444
        },
        "outputId": "66734dbc-dc98-4670-a17f-272604a4c24d"
      },
      "outputs": [
        {
          "output_type": "execute_result",
          "data": {
            "text/plain": [
              "  imovel_tipos_propriedade imovel_endereco_bairro  \\\n",
              "0                     Casa        Barra da Tijuca   \n",
              "1              Apartamento           Campo Grande   \n",
              "2                Cobertura        Barra da Tijuca   \n",
              "3                Cobertura        Barra da Tijuca   \n",
              "4           Sala Comercial                 Glória   \n",
              "\n",
              "  imovel_endereco_localizacao_type imovel_endereco_localizacao_coordinates  \\\n",
              "0                            Point              [-43.3039086, -23.0139692]   \n",
              "1                            Point                                  [0, 0]   \n",
              "2                            Point              [-43.3037186, -22.9951304]   \n",
              "3                            Point              [-43.3548121, -23.0097423]   \n",
              "4                            Point              [-43.1779703, -22.9174894]   \n",
              "\n",
              "   imovel_vagasGaragem  imovel_area  \\\n",
              "0                    4          279   \n",
              "1                    1           60   \n",
              "2                    2          380   \n",
              "3                    1           73   \n",
              "4                    1           32   \n",
              "\n",
              "                  imovel_caracteristicas_propriedade  \\\n",
              "0  ['Área de Serviço', 'Terraço', 'Churrasqueira'...   \n",
              "1                                          ['Sauna']   \n",
              "2  ['Acessibilidade', 'Área de Serviço', 'Sauna',...   \n",
              "3  ['Vista Panorâmica', 'Piscina', 'Sauna', 'Clos...   \n",
              "4                            ['Armários Planejados']   \n",
              "\n",
              "                   imovel_caracteristicas_condominio  \\\n",
              "0  ['Churrasqueira', 'Salão de Jogos', 'Sauna', '...   \n",
              "1  ['Elevador', 'Playground', 'Salão de Festas', ...   \n",
              "2  ['Sauna', 'Playground', 'Quadra Poliesportiva'...   \n",
              "3  ['Quadra Poliesportiva', 'Aceita Pet', 'Playgr...   \n",
              "4  ['Quadra Poliesportiva', 'Porteiro 24 Horas', ...   \n",
              "\n",
              "                      imovel_caracteristicas_entorno anuncio_tipos_publicacao  \\\n",
              "0  ['Próximo a Escola Particular', 'Próximo ao Me...                   Padrão   \n",
              "1  ['Próximo ao Shopping', 'Próximo a Áreas de La...                   Padrão   \n",
              "2                    ['Próximo a Escola Particular']                  Premium   \n",
              "3  ['Próximo a Farmácia', 'Próximo a Academia', '...                   Padrão   \n",
              "4  ['Próximo a Centro Empresarial', 'Próximo a Ár...                   Padrão   \n",
              "\n",
              "  anuncio_tipos_listagem  anuncio_valores_venda  anuncio_valores_aluguel  \\\n",
              "0             Lançamento              2400000.0                      0.0   \n",
              "1                  Usado               200000.0                      0.0   \n",
              "2                  Usado              4400000.0                      0.0   \n",
              "3                  Usado              1100000.0                      0.0   \n",
              "4                  Usado               260000.0                      0.0   \n",
              "\n",
              "   anuncio_valores_condominio  anuncio_valores_iptu  \\\n",
              "0                       790.0                5700.0   \n",
              "1                         0.0                   0.0   \n",
              "2                      1200.0                 850.0   \n",
              "3                      1300.0                 364.0   \n",
              "4                       450.0                 800.0   \n",
              "\n",
              "                                   anuncio_descricao  \n",
              "0  Amplo imóvel para venda com 3 quartos, sendo 1...  \n",
              "1  Amplo imóvel para venda com 2 quartos, sendo 0...  \n",
              "2  Amplo imóvel para venda com 5 quartos, sendo 4...  \n",
              "3  Amplo imóvel para venda com 2 quartos, sendo 1...  \n",
              "4  Amplo imóvel para venda com 0 quartos, sendo 0...  "
            ],
            "text/html": [
              "\n",
              "  <div id=\"df-64460f25-49ce-49eb-95e7-d79554cb74b3\">\n",
              "    <div class=\"colab-df-container\">\n",
              "      <div>\n",
              "<style scoped>\n",
              "    .dataframe tbody tr th:only-of-type {\n",
              "        vertical-align: middle;\n",
              "    }\n",
              "\n",
              "    .dataframe tbody tr th {\n",
              "        vertical-align: top;\n",
              "    }\n",
              "\n",
              "    .dataframe thead th {\n",
              "        text-align: right;\n",
              "    }\n",
              "</style>\n",
              "<table border=\"1\" class=\"dataframe\">\n",
              "  <thead>\n",
              "    <tr style=\"text-align: right;\">\n",
              "      <th></th>\n",
              "      <th>imovel_tipos_propriedade</th>\n",
              "      <th>imovel_endereco_bairro</th>\n",
              "      <th>imovel_endereco_localizacao_type</th>\n",
              "      <th>imovel_endereco_localizacao_coordinates</th>\n",
              "      <th>imovel_vagasGaragem</th>\n",
              "      <th>imovel_area</th>\n",
              "      <th>imovel_caracteristicas_propriedade</th>\n",
              "      <th>imovel_caracteristicas_condominio</th>\n",
              "      <th>imovel_caracteristicas_entorno</th>\n",
              "      <th>anuncio_tipos_publicacao</th>\n",
              "      <th>anuncio_tipos_listagem</th>\n",
              "      <th>anuncio_valores_venda</th>\n",
              "      <th>anuncio_valores_aluguel</th>\n",
              "      <th>anuncio_valores_condominio</th>\n",
              "      <th>anuncio_valores_iptu</th>\n",
              "      <th>anuncio_descricao</th>\n",
              "    </tr>\n",
              "  </thead>\n",
              "  <tbody>\n",
              "    <tr>\n",
              "      <th>0</th>\n",
              "      <td>Casa</td>\n",
              "      <td>Barra da Tijuca</td>\n",
              "      <td>Point</td>\n",
              "      <td>[-43.3039086, -23.0139692]</td>\n",
              "      <td>4</td>\n",
              "      <td>279</td>\n",
              "      <td>['Área de Serviço', 'Terraço', 'Churrasqueira'...</td>\n",
              "      <td>['Churrasqueira', 'Salão de Jogos', 'Sauna', '...</td>\n",
              "      <td>['Próximo a Escola Particular', 'Próximo ao Me...</td>\n",
              "      <td>Padrão</td>\n",
              "      <td>Lançamento</td>\n",
              "      <td>2400000.0</td>\n",
              "      <td>0.0</td>\n",
              "      <td>790.0</td>\n",
              "      <td>5700.0</td>\n",
              "      <td>Amplo imóvel para venda com 3 quartos, sendo 1...</td>\n",
              "    </tr>\n",
              "    <tr>\n",
              "      <th>1</th>\n",
              "      <td>Apartamento</td>\n",
              "      <td>Campo Grande</td>\n",
              "      <td>Point</td>\n",
              "      <td>[0, 0]</td>\n",
              "      <td>1</td>\n",
              "      <td>60</td>\n",
              "      <td>['Sauna']</td>\n",
              "      <td>['Elevador', 'Playground', 'Salão de Festas', ...</td>\n",
              "      <td>['Próximo ao Shopping', 'Próximo a Áreas de La...</td>\n",
              "      <td>Padrão</td>\n",
              "      <td>Usado</td>\n",
              "      <td>200000.0</td>\n",
              "      <td>0.0</td>\n",
              "      <td>0.0</td>\n",
              "      <td>0.0</td>\n",
              "      <td>Amplo imóvel para venda com 2 quartos, sendo 0...</td>\n",
              "    </tr>\n",
              "    <tr>\n",
              "      <th>2</th>\n",
              "      <td>Cobertura</td>\n",
              "      <td>Barra da Tijuca</td>\n",
              "      <td>Point</td>\n",
              "      <td>[-43.3037186, -22.9951304]</td>\n",
              "      <td>2</td>\n",
              "      <td>380</td>\n",
              "      <td>['Acessibilidade', 'Área de Serviço', 'Sauna',...</td>\n",
              "      <td>['Sauna', 'Playground', 'Quadra Poliesportiva'...</td>\n",
              "      <td>['Próximo a Escola Particular']</td>\n",
              "      <td>Premium</td>\n",
              "      <td>Usado</td>\n",
              "      <td>4400000.0</td>\n",
              "      <td>0.0</td>\n",
              "      <td>1200.0</td>\n",
              "      <td>850.0</td>\n",
              "      <td>Amplo imóvel para venda com 5 quartos, sendo 4...</td>\n",
              "    </tr>\n",
              "    <tr>\n",
              "      <th>3</th>\n",
              "      <td>Cobertura</td>\n",
              "      <td>Barra da Tijuca</td>\n",
              "      <td>Point</td>\n",
              "      <td>[-43.3548121, -23.0097423]</td>\n",
              "      <td>1</td>\n",
              "      <td>73</td>\n",
              "      <td>['Vista Panorâmica', 'Piscina', 'Sauna', 'Clos...</td>\n",
              "      <td>['Quadra Poliesportiva', 'Aceita Pet', 'Playgr...</td>\n",
              "      <td>['Próximo a Farmácia', 'Próximo a Academia', '...</td>\n",
              "      <td>Padrão</td>\n",
              "      <td>Usado</td>\n",
              "      <td>1100000.0</td>\n",
              "      <td>0.0</td>\n",
              "      <td>1300.0</td>\n",
              "      <td>364.0</td>\n",
              "      <td>Amplo imóvel para venda com 2 quartos, sendo 1...</td>\n",
              "    </tr>\n",
              "    <tr>\n",
              "      <th>4</th>\n",
              "      <td>Sala Comercial</td>\n",
              "      <td>Glória</td>\n",
              "      <td>Point</td>\n",
              "      <td>[-43.1779703, -22.9174894]</td>\n",
              "      <td>1</td>\n",
              "      <td>32</td>\n",
              "      <td>['Armários Planejados']</td>\n",
              "      <td>['Quadra Poliesportiva', 'Porteiro 24 Horas', ...</td>\n",
              "      <td>['Próximo a Centro Empresarial', 'Próximo a Ár...</td>\n",
              "      <td>Padrão</td>\n",
              "      <td>Usado</td>\n",
              "      <td>260000.0</td>\n",
              "      <td>0.0</td>\n",
              "      <td>450.0</td>\n",
              "      <td>800.0</td>\n",
              "      <td>Amplo imóvel para venda com 0 quartos, sendo 0...</td>\n",
              "    </tr>\n",
              "  </tbody>\n",
              "</table>\n",
              "</div>\n",
              "      <button class=\"colab-df-convert\" onclick=\"convertToInteractive('df-64460f25-49ce-49eb-95e7-d79554cb74b3')\"\n",
              "              title=\"Convert this dataframe to an interactive table.\"\n",
              "              style=\"display:none;\">\n",
              "        \n",
              "  <svg xmlns=\"http://www.w3.org/2000/svg\" height=\"24px\"viewBox=\"0 0 24 24\"\n",
              "       width=\"24px\">\n",
              "    <path d=\"M0 0h24v24H0V0z\" fill=\"none\"/>\n",
              "    <path d=\"M18.56 5.44l.94 2.06.94-2.06 2.06-.94-2.06-.94-.94-2.06-.94 2.06-2.06.94zm-11 1L8.5 8.5l.94-2.06 2.06-.94-2.06-.94L8.5 2.5l-.94 2.06-2.06.94zm10 10l.94 2.06.94-2.06 2.06-.94-2.06-.94-.94-2.06-.94 2.06-2.06.94z\"/><path d=\"M17.41 7.96l-1.37-1.37c-.4-.4-.92-.59-1.43-.59-.52 0-1.04.2-1.43.59L10.3 9.45l-7.72 7.72c-.78.78-.78 2.05 0 2.83L4 21.41c.39.39.9.59 1.41.59.51 0 1.02-.2 1.41-.59l7.78-7.78 2.81-2.81c.8-.78.8-2.07 0-2.86zM5.41 20L4 18.59l7.72-7.72 1.47 1.35L5.41 20z\"/>\n",
              "  </svg>\n",
              "      </button>\n",
              "      \n",
              "  <style>\n",
              "    .colab-df-container {\n",
              "      display:flex;\n",
              "      flex-wrap:wrap;\n",
              "      gap: 12px;\n",
              "    }\n",
              "\n",
              "    .colab-df-convert {\n",
              "      background-color: #E8F0FE;\n",
              "      border: none;\n",
              "      border-radius: 50%;\n",
              "      cursor: pointer;\n",
              "      display: none;\n",
              "      fill: #1967D2;\n",
              "      height: 32px;\n",
              "      padding: 0 0 0 0;\n",
              "      width: 32px;\n",
              "    }\n",
              "\n",
              "    .colab-df-convert:hover {\n",
              "      background-color: #E2EBFA;\n",
              "      box-shadow: 0px 1px 2px rgba(60, 64, 67, 0.3), 0px 1px 3px 1px rgba(60, 64, 67, 0.15);\n",
              "      fill: #174EA6;\n",
              "    }\n",
              "\n",
              "    [theme=dark] .colab-df-convert {\n",
              "      background-color: #3B4455;\n",
              "      fill: #D2E3FC;\n",
              "    }\n",
              "\n",
              "    [theme=dark] .colab-df-convert:hover {\n",
              "      background-color: #434B5C;\n",
              "      box-shadow: 0px 1px 3px 1px rgba(0, 0, 0, 0.15);\n",
              "      filter: drop-shadow(0px 1px 2px rgba(0, 0, 0, 0.3));\n",
              "      fill: #FFFFFF;\n",
              "    }\n",
              "  </style>\n",
              "\n",
              "      <script>\n",
              "        const buttonEl =\n",
              "          document.querySelector('#df-64460f25-49ce-49eb-95e7-d79554cb74b3 button.colab-df-convert');\n",
              "        buttonEl.style.display =\n",
              "          google.colab.kernel.accessAllowed ? 'block' : 'none';\n",
              "\n",
              "        async function convertToInteractive(key) {\n",
              "          const element = document.querySelector('#df-64460f25-49ce-49eb-95e7-d79554cb74b3');\n",
              "          const dataTable =\n",
              "            await google.colab.kernel.invokeFunction('convertToInteractive',\n",
              "                                                     [key], {});\n",
              "          if (!dataTable) return;\n",
              "\n",
              "          const docLinkHtml = 'Like what you see? Visit the ' +\n",
              "            '<a target=\"_blank\" href=https://colab.research.google.com/notebooks/data_table.ipynb>data table notebook</a>'\n",
              "            + ' to learn more about interactive tables.';\n",
              "          element.innerHTML = '';\n",
              "          dataTable['output_type'] = 'display_data';\n",
              "          await google.colab.output.renderOutput(dataTable, element);\n",
              "          const docLink = document.createElement('div');\n",
              "          docLink.innerHTML = docLinkHtml;\n",
              "          element.appendChild(docLink);\n",
              "        }\n",
              "      </script>\n",
              "    </div>\n",
              "  </div>\n",
              "  "
            ]
          },
          "metadata": {},
          "execution_count": 40
        }
      ],
      "source": [
        "# outra maneira de tratar o json com menos passos\n",
        "dados_normal_listings = pd.json_normalize(data=dados.normal, sep='_', record_path=['listings'])\n",
        "dados_normal_listings.head()"
      ]
    },
    {
      "cell_type": "code",
      "execution_count": 42,
      "metadata": {
        "id": "x4ZlYa3vevgX",
        "scrolled": true,
        "colab": {
          "base_uri": "https://localhost:8080/",
          "height": 444
        },
        "outputId": "3c02d667-35c9-4cc1-d3ef-492d2e95d132"
      },
      "outputs": [
        {
          "output_type": "execute_result",
          "data": {
            "text/plain": [
              "  imovel_tipos_propriedade imovel_endereco_bairro  \\\n",
              "0                     Casa           Engenho Novo   \n",
              "1                Cobertura          Vargem Grande   \n",
              "2         Imóvel Comercial                Ribeira   \n",
              "3              Apartamento             Praça Seca   \n",
              "4              Apartamento         Honório Gurgel   \n",
              "\n",
              "  imovel_endereco_localizacao_type imovel_endereco_localizacao_coordinates  \\\n",
              "0                            Point              [-43.2634918, -22.8971768]   \n",
              "1                            Point               [-43.4907917, -22.988122]   \n",
              "2                            Point              [-43.1690005, -22.8239272]   \n",
              "3                            Point                                  [0, 0]   \n",
              "4                            Point              [-43.3614243, -22.8416031]   \n",
              "\n",
              "   imovel_vagasGaragem  imovel_area  \\\n",
              "0                    0            0   \n",
              "1                    1           61   \n",
              "2                    4          180   \n",
              "3                    1           50   \n",
              "4                    0          148   \n",
              "\n",
              "                  imovel_caracteristicas_propriedade  \\\n",
              "0  ['Sauna', 'Terraço', 'Acessibilidade', 'Mobili...   \n",
              "1                                                 []   \n",
              "2  ['Vista Panorâmica', 'Acessibilidade', 'Área d...   \n",
              "3                   ['Sauna', 'Quarto/WC Empregada']   \n",
              "4  ['Terraço', 'Piscina', 'Gás Encanado', 'Acessi...   \n",
              "\n",
              "                   imovel_caracteristicas_condominio  \\\n",
              "0  ['Estacionamento Coberto', 'Estacionamento Vis...   \n",
              "1  ['Estacionamento Visitantes', 'Estacionamento ...   \n",
              "2  ['Segurança Interna', 'Salão de Festas', 'Acad...   \n",
              "3  ['Salão de Jogos', 'Segurança Interna', 'Estac...   \n",
              "4  ['Sauna', 'Bicicletário', 'Academia', 'Serviço...   \n",
              "\n",
              "                      imovel_caracteristicas_entorno anuncio_tipos_publicacao  \\\n",
              "0  ['Próximo a Serviços de Saúde', 'Próximo ao Sh...                   Padrão   \n",
              "1  ['Próximo ao Metrô', 'Próximo a Praia', 'Próxi...                 Destaque   \n",
              "2  ['Próximo a Restaurante', 'Próximo a Praia', '...                   Padrão   \n",
              "3  ['Próximo ao Shopping', 'Próximo a Escola Part...                   Padrão   \n",
              "4  ['Próximo a Serviços de Saúde', 'Próximo a Far...                 Destaque   \n",
              "\n",
              "  anuncio_tipos_listagem  anuncio_valores_venda  anuncio_valores_aluguel  \\\n",
              "0                  Usado               195772.0                      0.0   \n",
              "1                  Usado               305000.0                      0.0   \n",
              "2                  Usado              1050000.0                      0.0   \n",
              "3                  Usado               250000.0                      0.0   \n",
              "4             Lançamento               165000.0                      0.0   \n",
              "\n",
              "   anuncio_valores_condominio  anuncio_valores_iptu  \\\n",
              "0                         0.0                   0.0   \n",
              "1                       667.0                 162.0   \n",
              "2                         0.0                 315.0   \n",
              "3                       350.0                 150.0   \n",
              "4                       270.0                   0.0   \n",
              "\n",
              "                                   anuncio_descricao  \n",
              "0  Amplo imóvel para venda com 0 quartos, sendo 0...  \n",
              "1  Amplo imóvel para venda com 2 quartos, sendo 0...  \n",
              "2  Amplo imóvel para venda com 3 quartos, sendo 1...  \n",
              "3  Amplo imóvel para venda com 2 quartos, sendo 0...  \n",
              "4  Amplo imóvel para venda com 2 quartos, sendo 0...  "
            ],
            "text/html": [
              "\n",
              "  <div id=\"df-67786da1-0139-4c5f-a1af-9696ec568452\">\n",
              "    <div class=\"colab-df-container\">\n",
              "      <div>\n",
              "<style scoped>\n",
              "    .dataframe tbody tr th:only-of-type {\n",
              "        vertical-align: middle;\n",
              "    }\n",
              "\n",
              "    .dataframe tbody tr th {\n",
              "        vertical-align: top;\n",
              "    }\n",
              "\n",
              "    .dataframe thead th {\n",
              "        text-align: right;\n",
              "    }\n",
              "</style>\n",
              "<table border=\"1\" class=\"dataframe\">\n",
              "  <thead>\n",
              "    <tr style=\"text-align: right;\">\n",
              "      <th></th>\n",
              "      <th>imovel_tipos_propriedade</th>\n",
              "      <th>imovel_endereco_bairro</th>\n",
              "      <th>imovel_endereco_localizacao_type</th>\n",
              "      <th>imovel_endereco_localizacao_coordinates</th>\n",
              "      <th>imovel_vagasGaragem</th>\n",
              "      <th>imovel_area</th>\n",
              "      <th>imovel_caracteristicas_propriedade</th>\n",
              "      <th>imovel_caracteristicas_condominio</th>\n",
              "      <th>imovel_caracteristicas_entorno</th>\n",
              "      <th>anuncio_tipos_publicacao</th>\n",
              "      <th>anuncio_tipos_listagem</th>\n",
              "      <th>anuncio_valores_venda</th>\n",
              "      <th>anuncio_valores_aluguel</th>\n",
              "      <th>anuncio_valores_condominio</th>\n",
              "      <th>anuncio_valores_iptu</th>\n",
              "      <th>anuncio_descricao</th>\n",
              "    </tr>\n",
              "  </thead>\n",
              "  <tbody>\n",
              "    <tr>\n",
              "      <th>0</th>\n",
              "      <td>Casa</td>\n",
              "      <td>Engenho Novo</td>\n",
              "      <td>Point</td>\n",
              "      <td>[-43.2634918, -22.8971768]</td>\n",
              "      <td>0</td>\n",
              "      <td>0</td>\n",
              "      <td>['Sauna', 'Terraço', 'Acessibilidade', 'Mobili...</td>\n",
              "      <td>['Estacionamento Coberto', 'Estacionamento Vis...</td>\n",
              "      <td>['Próximo a Serviços de Saúde', 'Próximo ao Sh...</td>\n",
              "      <td>Padrão</td>\n",
              "      <td>Usado</td>\n",
              "      <td>195772.0</td>\n",
              "      <td>0.0</td>\n",
              "      <td>0.0</td>\n",
              "      <td>0.0</td>\n",
              "      <td>Amplo imóvel para venda com 0 quartos, sendo 0...</td>\n",
              "    </tr>\n",
              "    <tr>\n",
              "      <th>1</th>\n",
              "      <td>Cobertura</td>\n",
              "      <td>Vargem Grande</td>\n",
              "      <td>Point</td>\n",
              "      <td>[-43.4907917, -22.988122]</td>\n",
              "      <td>1</td>\n",
              "      <td>61</td>\n",
              "      <td>[]</td>\n",
              "      <td>['Estacionamento Visitantes', 'Estacionamento ...</td>\n",
              "      <td>['Próximo ao Metrô', 'Próximo a Praia', 'Próxi...</td>\n",
              "      <td>Destaque</td>\n",
              "      <td>Usado</td>\n",
              "      <td>305000.0</td>\n",
              "      <td>0.0</td>\n",
              "      <td>667.0</td>\n",
              "      <td>162.0</td>\n",
              "      <td>Amplo imóvel para venda com 2 quartos, sendo 0...</td>\n",
              "    </tr>\n",
              "    <tr>\n",
              "      <th>2</th>\n",
              "      <td>Imóvel Comercial</td>\n",
              "      <td>Ribeira</td>\n",
              "      <td>Point</td>\n",
              "      <td>[-43.1690005, -22.8239272]</td>\n",
              "      <td>4</td>\n",
              "      <td>180</td>\n",
              "      <td>['Vista Panorâmica', 'Acessibilidade', 'Área d...</td>\n",
              "      <td>['Segurança Interna', 'Salão de Festas', 'Acad...</td>\n",
              "      <td>['Próximo a Restaurante', 'Próximo a Praia', '...</td>\n",
              "      <td>Padrão</td>\n",
              "      <td>Usado</td>\n",
              "      <td>1050000.0</td>\n",
              "      <td>0.0</td>\n",
              "      <td>0.0</td>\n",
              "      <td>315.0</td>\n",
              "      <td>Amplo imóvel para venda com 3 quartos, sendo 1...</td>\n",
              "    </tr>\n",
              "    <tr>\n",
              "      <th>3</th>\n",
              "      <td>Apartamento</td>\n",
              "      <td>Praça Seca</td>\n",
              "      <td>Point</td>\n",
              "      <td>[0, 0]</td>\n",
              "      <td>1</td>\n",
              "      <td>50</td>\n",
              "      <td>['Sauna', 'Quarto/WC Empregada']</td>\n",
              "      <td>['Salão de Jogos', 'Segurança Interna', 'Estac...</td>\n",
              "      <td>['Próximo ao Shopping', 'Próximo a Escola Part...</td>\n",
              "      <td>Padrão</td>\n",
              "      <td>Usado</td>\n",
              "      <td>250000.0</td>\n",
              "      <td>0.0</td>\n",
              "      <td>350.0</td>\n",
              "      <td>150.0</td>\n",
              "      <td>Amplo imóvel para venda com 2 quartos, sendo 0...</td>\n",
              "    </tr>\n",
              "    <tr>\n",
              "      <th>4</th>\n",
              "      <td>Apartamento</td>\n",
              "      <td>Honório Gurgel</td>\n",
              "      <td>Point</td>\n",
              "      <td>[-43.3614243, -22.8416031]</td>\n",
              "      <td>0</td>\n",
              "      <td>148</td>\n",
              "      <td>['Terraço', 'Piscina', 'Gás Encanado', 'Acessi...</td>\n",
              "      <td>['Sauna', 'Bicicletário', 'Academia', 'Serviço...</td>\n",
              "      <td>['Próximo a Serviços de Saúde', 'Próximo a Far...</td>\n",
              "      <td>Destaque</td>\n",
              "      <td>Lançamento</td>\n",
              "      <td>165000.0</td>\n",
              "      <td>0.0</td>\n",
              "      <td>270.0</td>\n",
              "      <td>0.0</td>\n",
              "      <td>Amplo imóvel para venda com 2 quartos, sendo 0...</td>\n",
              "    </tr>\n",
              "  </tbody>\n",
              "</table>\n",
              "</div>\n",
              "      <button class=\"colab-df-convert\" onclick=\"convertToInteractive('df-67786da1-0139-4c5f-a1af-9696ec568452')\"\n",
              "              title=\"Convert this dataframe to an interactive table.\"\n",
              "              style=\"display:none;\">\n",
              "        \n",
              "  <svg xmlns=\"http://www.w3.org/2000/svg\" height=\"24px\"viewBox=\"0 0 24 24\"\n",
              "       width=\"24px\">\n",
              "    <path d=\"M0 0h24v24H0V0z\" fill=\"none\"/>\n",
              "    <path d=\"M18.56 5.44l.94 2.06.94-2.06 2.06-.94-2.06-.94-.94-2.06-.94 2.06-2.06.94zm-11 1L8.5 8.5l.94-2.06 2.06-.94-2.06-.94L8.5 2.5l-.94 2.06-2.06.94zm10 10l.94 2.06.94-2.06 2.06-.94-2.06-.94-.94-2.06-.94 2.06-2.06.94z\"/><path d=\"M17.41 7.96l-1.37-1.37c-.4-.4-.92-.59-1.43-.59-.52 0-1.04.2-1.43.59L10.3 9.45l-7.72 7.72c-.78.78-.78 2.05 0 2.83L4 21.41c.39.39.9.59 1.41.59.51 0 1.02-.2 1.41-.59l7.78-7.78 2.81-2.81c.8-.78.8-2.07 0-2.86zM5.41 20L4 18.59l7.72-7.72 1.47 1.35L5.41 20z\"/>\n",
              "  </svg>\n",
              "      </button>\n",
              "      \n",
              "  <style>\n",
              "    .colab-df-container {\n",
              "      display:flex;\n",
              "      flex-wrap:wrap;\n",
              "      gap: 12px;\n",
              "    }\n",
              "\n",
              "    .colab-df-convert {\n",
              "      background-color: #E8F0FE;\n",
              "      border: none;\n",
              "      border-radius: 50%;\n",
              "      cursor: pointer;\n",
              "      display: none;\n",
              "      fill: #1967D2;\n",
              "      height: 32px;\n",
              "      padding: 0 0 0 0;\n",
              "      width: 32px;\n",
              "    }\n",
              "\n",
              "    .colab-df-convert:hover {\n",
              "      background-color: #E2EBFA;\n",
              "      box-shadow: 0px 1px 2px rgba(60, 64, 67, 0.3), 0px 1px 3px 1px rgba(60, 64, 67, 0.15);\n",
              "      fill: #174EA6;\n",
              "    }\n",
              "\n",
              "    [theme=dark] .colab-df-convert {\n",
              "      background-color: #3B4455;\n",
              "      fill: #D2E3FC;\n",
              "    }\n",
              "\n",
              "    [theme=dark] .colab-df-convert:hover {\n",
              "      background-color: #434B5C;\n",
              "      box-shadow: 0px 1px 3px 1px rgba(0, 0, 0, 0.15);\n",
              "      filter: drop-shadow(0px 1px 2px rgba(0, 0, 0, 0.3));\n",
              "      fill: #FFFFFF;\n",
              "    }\n",
              "  </style>\n",
              "\n",
              "      <script>\n",
              "        const buttonEl =\n",
              "          document.querySelector('#df-67786da1-0139-4c5f-a1af-9696ec568452 button.colab-df-convert');\n",
              "        buttonEl.style.display =\n",
              "          google.colab.kernel.accessAllowed ? 'block' : 'none';\n",
              "\n",
              "        async function convertToInteractive(key) {\n",
              "          const element = document.querySelector('#df-67786da1-0139-4c5f-a1af-9696ec568452');\n",
              "          const dataTable =\n",
              "            await google.colab.kernel.invokeFunction('convertToInteractive',\n",
              "                                                     [key], {});\n",
              "          if (!dataTable) return;\n",
              "\n",
              "          const docLinkHtml = 'Like what you see? Visit the ' +\n",
              "            '<a target=\"_blank\" href=https://colab.research.google.com/notebooks/data_table.ipynb>data table notebook</a>'\n",
              "            + ' to learn more about interactive tables.';\n",
              "          element.innerHTML = '';\n",
              "          dataTable['output_type'] = 'display_data';\n",
              "          await google.colab.output.renderOutput(dataTable, element);\n",
              "          const docLink = document.createElement('div');\n",
              "          docLink.innerHTML = docLinkHtml;\n",
              "          element.appendChild(docLink);\n",
              "        }\n",
              "      </script>\n",
              "    </div>\n",
              "  </div>\n",
              "  "
            ]
          },
          "metadata": {},
          "execution_count": 42
        }
      ],
      "source": [
        "dados_highlights_listings = pd.json_normalize(data=dados.highlights, sep='_', record_path=['listings'])\n",
        "dados_highlights_listings.head()"
      ]
    },
    {
      "cell_type": "code",
      "execution_count": null,
      "metadata": {
        "id": "arGcoQHuevgX",
        "scrolled": true
      },
      "outputs": [],
      "source": []
    },
    {
      "cell_type": "markdown",
      "metadata": {
        "id": "cpaDGnecevgX"
      },
      "source": [
        "## Trabalhando com dados textuais"
      ]
    },
    {
      "cell_type": "markdown",
      "metadata": {
        "id": "CMgPdhFNevgX"
      },
      "source": [
        "### Transformando *strings* em listas do Python"
      ]
    },
    {
      "cell_type": "code",
      "execution_count": null,
      "metadata": {
        "id": "vJmnnHZ_evgY",
        "scrolled": true
      },
      "outputs": [],
      "source": []
    },
    {
      "cell_type": "code",
      "execution_count": null,
      "metadata": {
        "id": "karvMBcBifJf"
      },
      "outputs": [],
      "source": []
    },
    {
      "cell_type": "code",
      "execution_count": null,
      "metadata": {
        "id": "Cw5aR9T4ifJg"
      },
      "outputs": [],
      "source": []
    },
    {
      "cell_type": "markdown",
      "metadata": {
        "id": "cYPl0qylifJj"
      },
      "source": [
        "#### Métodos de *strings*\n",
        "\n",
        "[Documentação](https://docs.python.org/3.6/library/stdtypes.html#string-methods)"
      ]
    },
    {
      "cell_type": "code",
      "execution_count": null,
      "metadata": {
        "id": "IYEo2u_bifJl"
      },
      "outputs": [],
      "source": []
    },
    {
      "cell_type": "code",
      "execution_count": null,
      "metadata": {
        "id": "QEy7_TWJevgZ"
      },
      "outputs": [],
      "source": []
    },
    {
      "cell_type": "code",
      "execution_count": null,
      "metadata": {
        "id": "lFO8yF2QifJt"
      },
      "outputs": [],
      "source": []
    },
    {
      "cell_type": "code",
      "execution_count": null,
      "metadata": {
        "id": "-b5SugvuifJv"
      },
      "outputs": [],
      "source": []
    },
    {
      "cell_type": "code",
      "execution_count": null,
      "metadata": {
        "id": "OagOgk64ifJx"
      },
      "outputs": [],
      "source": []
    },
    {
      "cell_type": "code",
      "execution_count": null,
      "metadata": {
        "id": "Ek6sMqhsifJz"
      },
      "outputs": [],
      "source": []
    },
    {
      "cell_type": "code",
      "execution_count": null,
      "metadata": {
        "id": "oRWEteJKifJ1"
      },
      "outputs": [],
      "source": []
    },
    {
      "cell_type": "markdown",
      "metadata": {
        "id": "8Ak250BYevga"
      },
      "source": [
        "#### `str`\n",
        "\n",
        "[Documentação](https://pandas.pydata.org/pandas-docs/stable/reference/api/pandas.Series.str.html)"
      ]
    },
    {
      "cell_type": "code",
      "execution_count": null,
      "metadata": {
        "id": "6vv8s40ievga"
      },
      "outputs": [],
      "source": []
    },
    {
      "cell_type": "code",
      "execution_count": null,
      "metadata": {
        "id": "GKIZLU9_ifJ3"
      },
      "outputs": [],
      "source": []
    },
    {
      "cell_type": "code",
      "execution_count": null,
      "metadata": {
        "id": "j5ZntTzAifJ5"
      },
      "outputs": [],
      "source": []
    },
    {
      "cell_type": "code",
      "execution_count": null,
      "metadata": {
        "id": "TJpsQdSPifJ9"
      },
      "outputs": [],
      "source": []
    },
    {
      "cell_type": "code",
      "execution_count": null,
      "metadata": {
        "id": "-diMtJl7ifKA"
      },
      "outputs": [],
      "source": []
    },
    {
      "cell_type": "code",
      "execution_count": null,
      "metadata": {
        "id": "yM8GML9yifKC"
      },
      "outputs": [],
      "source": []
    },
    {
      "cell_type": "code",
      "execution_count": null,
      "metadata": {
        "id": "-yHC8F6fifKF"
      },
      "outputs": [],
      "source": []
    },
    {
      "cell_type": "code",
      "execution_count": null,
      "metadata": {
        "id": "TOZJO0GRifKG"
      },
      "outputs": [],
      "source": []
    },
    {
      "cell_type": "markdown",
      "metadata": {
        "id": "udrVGc3_evgb"
      },
      "source": [
        "#### `filter`\n",
        "\n",
        "[Documentação](https://pandas.pydata.org/pandas-docs/stable/reference/api/pandas.DataFrame.filter.html)"
      ]
    },
    {
      "cell_type": "code",
      "execution_count": null,
      "metadata": {
        "id": "7uNZ9jOCevgc"
      },
      "outputs": [],
      "source": []
    },
    {
      "cell_type": "code",
      "execution_count": null,
      "metadata": {
        "id": "S1vRA6-pifKN",
        "scrolled": true
      },
      "outputs": [],
      "source": []
    },
    {
      "cell_type": "markdown",
      "metadata": {
        "id": "1NRyywesevgc"
      },
      "source": [
        "# COMBINANDO CONJUNTOS DE DADOS\n",
        "---"
      ]
    },
    {
      "cell_type": "code",
      "execution_count": null,
      "metadata": {
        "id": "fVukYp7wevgc"
      },
      "outputs": [],
      "source": []
    },
    {
      "cell_type": "code",
      "execution_count": null,
      "metadata": {
        "id": "ssxgfqonevgc"
      },
      "outputs": [],
      "source": []
    },
    {
      "cell_type": "markdown",
      "metadata": {
        "id": "rZgiUKLdevgc"
      },
      "source": [
        "## Empilhando *DataFrames*"
      ]
    },
    {
      "cell_type": "markdown",
      "metadata": {
        "id": "-h32tlhVevgd"
      },
      "source": [
        "### `append`\n",
        "\n",
        "[Documentação](https://pandas.pydata.org/pandas-docs/stable/reference/api/pandas.DataFrame.append.html)"
      ]
    },
    {
      "cell_type": "code",
      "execution_count": null,
      "metadata": {
        "id": "LHCKRDJ_evgd",
        "scrolled": true
      },
      "outputs": [],
      "source": []
    },
    {
      "cell_type": "code",
      "execution_count": null,
      "metadata": {
        "id": "tF1g0sR2evgd",
        "scrolled": true
      },
      "outputs": [],
      "source": []
    },
    {
      "cell_type": "code",
      "execution_count": null,
      "metadata": {
        "id": "bbBmb6dRevgd"
      },
      "outputs": [],
      "source": []
    },
    {
      "cell_type": "code",
      "execution_count": null,
      "metadata": {
        "id": "i9p8pJONevgd",
        "scrolled": true
      },
      "outputs": [],
      "source": []
    },
    {
      "cell_type": "markdown",
      "metadata": {
        "id": "r2--u5uMevgd"
      },
      "source": [
        "### `concat`\n",
        "\n",
        "[Documentação](https://pandas.pydata.org/pandas-docs/stable/reference/api/pandas.concat.html)"
      ]
    },
    {
      "cell_type": "code",
      "execution_count": null,
      "metadata": {
        "id": "Slce5RQdevge"
      },
      "outputs": [],
      "source": []
    },
    {
      "cell_type": "code",
      "execution_count": null,
      "metadata": {
        "id": "44uiNz8Oevge"
      },
      "outputs": [],
      "source": []
    },
    {
      "cell_type": "markdown",
      "metadata": {
        "id": "GJbtme1Gevge"
      },
      "source": [
        "## Combinando *DataFrames* a partir de uma chave de ligação"
      ]
    },
    {
      "cell_type": "code",
      "execution_count": null,
      "metadata": {
        "id": "-wKGhtQ0evge"
      },
      "outputs": [],
      "source": []
    },
    {
      "cell_type": "code",
      "execution_count": null,
      "metadata": {
        "id": "JphM_Y6Vevge"
      },
      "outputs": [],
      "source": []
    },
    {
      "cell_type": "markdown",
      "metadata": {
        "id": "iWSZcYnuevgf"
      },
      "source": [
        "### Tratando a variável de ligação"
      ]
    },
    {
      "cell_type": "markdown",
      "metadata": {
        "id": "EnAauv0Qevgf"
      },
      "source": [
        "#### Selecionando a variável de ligação nos dois *DataFrames*"
      ]
    },
    {
      "cell_type": "code",
      "execution_count": null,
      "metadata": {
        "id": "9ZROypsOevgf"
      },
      "outputs": [],
      "source": []
    },
    {
      "cell_type": "markdown",
      "metadata": {
        "id": "l38MglWkevgf"
      },
      "source": [
        "[Documentação: `get_level_values`](https://pandas.pydata.org/pandas-docs/stable/reference/api/pandas.MultiIndex.get_level_values.html)"
      ]
    },
    {
      "cell_type": "code",
      "execution_count": null,
      "metadata": {
        "id": "PqOX0cVRevgf"
      },
      "outputs": [],
      "source": []
    },
    {
      "cell_type": "markdown",
      "metadata": {
        "id": "mQQGRwbVevgg"
      },
      "source": [
        "#### Identificando e eliminando valores duplicados - `nunique` e `unique`\n",
        "\n",
        "[Documentação: `nunique`](https://pandas.pydata.org/pandas-docs/stable/reference/api/pandas.Series.nunique.html)\n",
        "\n",
        "[Documentação: `unique`](https://pandas.pydata.org/pandas-docs/stable/reference/api/pandas.Series.unique.html)"
      ]
    },
    {
      "cell_type": "code",
      "execution_count": null,
      "metadata": {
        "id": "oQ7JrM4oevgg"
      },
      "outputs": [],
      "source": []
    },
    {
      "cell_type": "code",
      "execution_count": null,
      "metadata": {
        "id": "3EseTUMGevgg"
      },
      "outputs": [],
      "source": []
    },
    {
      "cell_type": "code",
      "execution_count": null,
      "metadata": {
        "id": "wTzTjSG4evgg"
      },
      "outputs": [],
      "source": []
    },
    {
      "cell_type": "code",
      "execution_count": null,
      "metadata": {
        "id": "phexF7SWevgg"
      },
      "outputs": [],
      "source": []
    },
    {
      "cell_type": "code",
      "execution_count": null,
      "metadata": {
        "id": "P8IO0v72evgh",
        "scrolled": true
      },
      "outputs": [],
      "source": []
    },
    {
      "cell_type": "markdown",
      "metadata": {
        "id": "SzEMZcrBevgh"
      },
      "source": [
        "---"
      ]
    },
    {
      "cell_type": "code",
      "execution_count": null,
      "metadata": {
        "id": "QDoTILAcevgh"
      },
      "outputs": [],
      "source": []
    },
    {
      "cell_type": "code",
      "execution_count": null,
      "metadata": {
        "id": "P8VPy0fmevgh"
      },
      "outputs": [],
      "source": []
    },
    {
      "cell_type": "code",
      "execution_count": null,
      "metadata": {
        "id": "d2r54C34evgi",
        "scrolled": true
      },
      "outputs": [],
      "source": []
    },
    {
      "cell_type": "markdown",
      "metadata": {
        "id": "ivrVtUQlevgi"
      },
      "source": [
        "#### Verificando se existe correspondência entre as variáveis de ligação\n",
        "\n",
        "[Documentação](https://pandas.pydata.org/pandas-docs/stable/reference/api/pandas.Series.isin.html)"
      ]
    },
    {
      "cell_type": "code",
      "execution_count": null,
      "metadata": {
        "id": "RCPjMO2levgi",
        "scrolled": false
      },
      "outputs": [],
      "source": []
    },
    {
      "cell_type": "code",
      "execution_count": null,
      "metadata": {
        "id": "IFWWnS4Kevgi",
        "scrolled": true
      },
      "outputs": [],
      "source": []
    },
    {
      "cell_type": "code",
      "execution_count": null,
      "metadata": {
        "id": "uiacZ9lnevgi"
      },
      "outputs": [],
      "source": []
    },
    {
      "cell_type": "code",
      "execution_count": null,
      "metadata": {
        "id": "HSpGW6vdevgj"
      },
      "outputs": [],
      "source": []
    },
    {
      "cell_type": "markdown",
      "metadata": {
        "id": "poxpGTtuevgj"
      },
      "source": [
        "#### Ajustando os valores\n",
        "\n",
        "[Documentação](https://pandas.pydata.org/pandas-docs/stable/reference/api/pandas.Series.replace.html)"
      ]
    },
    {
      "cell_type": "code",
      "execution_count": null,
      "metadata": {
        "id": "XTDo7AvYevgk"
      },
      "outputs": [],
      "source": []
    },
    {
      "cell_type": "code",
      "execution_count": null,
      "metadata": {
        "id": "NAqMX05Yevgk",
        "scrolled": true
      },
      "outputs": [],
      "source": []
    },
    {
      "cell_type": "code",
      "execution_count": null,
      "metadata": {
        "id": "iGudgRQ6evgk",
        "scrolled": false
      },
      "outputs": [],
      "source": []
    },
    {
      "cell_type": "markdown",
      "metadata": {
        "id": "3btbFOGeevgl"
      },
      "source": [
        "### Combinando os *DataFrames*"
      ]
    },
    {
      "cell_type": "markdown",
      "metadata": {
        "id": "CBTdNyc1evgl"
      },
      "source": [
        "#### `merge`\n",
        "\n",
        "[Documentação](https://pandas.pydata.org/pandas-docs/stable/reference/api/pandas.merge.html)\n",
        "\n",
        "```\n",
        "pandas.merge(left, right, how='inner', on=None, left_on=None, right_on=None, left_index=False, right_index=False, sort=False, suffixes='_x', '_y', copy=True, indicator=False, validate=None)\n",
        "```\n",
        "\n",
        "**Parameters**\n",
        "\n",
        "- **left**: DataFrame\n",
        "\n",
        "\n",
        "- **right**: DataFrame\n",
        "    \n",
        "\n",
        "- **how**: {‘left’, ‘right’, ‘outer’, ‘inner’}, *default* ‘inner’\n",
        "\n",
        "        Tipo de junção que será realizada.\n",
        "\n",
        "        - left: usa apenas as chaves do DataFrame especificado no parâmetro left.\n",
        "\n",
        "        - right: usa apenas as chaves do DataFrame especificado no parâmetro right.\n",
        "\n",
        "        - outer: considera todos os registros dos DataFrames especificados nos parâmetros left e right, isto é, faz a união das chaves.\n",
        "\n",
        "        - inner: considera apenas a interseção das chaves dos DataFrames especificados nos parâmetros left e right.\n",
        "    \n",
        "\n",
        "- **on**: label ou list\n",
        "\n",
        "        Nomes das colunas ou dos índices que serão utilizados na junção. Estes devem ser encontrados em ambos os DataFrames.\n",
        "        \n",
        "\n",
        "- **left_on**: label ou list, or array-like\n",
        "\n",
        "        Nomes das colunas ou dos índices do DataFrame especificado em left que serão utilizados na junção.\n",
        "        \n",
        "\n",
        "- **right_on**: label or list, or array-like\n",
        "\n",
        "        Nomes das colunas ou dos índices do DataFrame especificado em right que serão utilizados na junção.\n",
        "    \n",
        "\n",
        "- **left_index**: bool, *default False*\n",
        "\n",
        "        Indica se o índice do DataFrame especificado no parâmetro left deve ser utilizado como chave de junção.\n",
        "        \n",
        "\n",
        "- **right_index**: bool, *default False*\n",
        "\n",
        "        Indica se o índice do DataFrame especificado no parâmetro right deve ser utilizado como chave de junção."
      ]
    },
    {
      "cell_type": "code",
      "execution_count": null,
      "metadata": {
        "id": "wo8ttXKcevgn",
        "scrolled": true
      },
      "outputs": [],
      "source": []
    },
    {
      "cell_type": "markdown",
      "metadata": {
        "id": "ymrhrLaYevgn"
      },
      "source": [
        "# ADICIONANDO INFORMAÇÕES\n",
        "---"
      ]
    },
    {
      "cell_type": "markdown",
      "metadata": {
        "id": "4aqxo4l-evgn"
      },
      "source": [
        "## Criando as colunas `quartos`, `suites` e `banheiros`"
      ]
    },
    {
      "cell_type": "code",
      "execution_count": null,
      "metadata": {
        "id": "giBGU4gOevgs"
      },
      "outputs": [],
      "source": []
    },
    {
      "cell_type": "markdown",
      "metadata": {
        "id": "nya9Yy7Kevgs"
      },
      "source": [
        "### `str.extractall`\n",
        "\n",
        "[Documentação](https://pandas.pydata.org/pandas-docs/stable/reference/api/pandas.Series.str.extractall.html)"
      ]
    },
    {
      "cell_type": "code",
      "execution_count": null,
      "metadata": {
        "id": "Toi4yfM-evgs",
        "scrolled": true
      },
      "outputs": [],
      "source": []
    },
    {
      "cell_type": "markdown",
      "metadata": {
        "id": "p2bibVe9evgs"
      },
      "source": [
        "### `unstack`\n",
        "\n",
        "[Documentação](https://pandas.pydata.org/pandas-docs/stable/reference/api/pandas.DataFrame.unstack.html)"
      ]
    },
    {
      "cell_type": "code",
      "execution_count": null,
      "metadata": {
        "id": "QXWYy2h8evgt"
      },
      "outputs": [],
      "source": []
    },
    {
      "cell_type": "code",
      "execution_count": null,
      "metadata": {
        "id": "FktwCtLTevgt"
      },
      "outputs": [],
      "source": []
    },
    {
      "cell_type": "markdown",
      "metadata": {
        "id": "-jVhoVI-evgt"
      },
      "source": [
        "### `droplevel`\n",
        "\n",
        "[Documentação](https://pandas.pydata.org/pandas-docs/stable/reference/api/pandas.DataFrame.droplevel.html)"
      ]
    },
    {
      "cell_type": "code",
      "execution_count": null,
      "metadata": {
        "id": "TSojRmn9evgt"
      },
      "outputs": [],
      "source": []
    },
    {
      "cell_type": "code",
      "execution_count": null,
      "metadata": {
        "id": "ac4wLkEGevgt",
        "scrolled": true
      },
      "outputs": [],
      "source": []
    },
    {
      "cell_type": "markdown",
      "metadata": {
        "id": "m2CS8xkuevgu"
      },
      "source": [
        "## Criando novas classificações"
      ]
    },
    {
      "cell_type": "markdown",
      "metadata": {
        "id": "bJqulTItevgu"
      },
      "source": [
        "### Com dados categóricos - `map`\n",
        "\n",
        "[Documentação](https://pandas.pydata.org/pandas-docs/stable/reference/api/pandas.Series.map.html)"
      ]
    },
    {
      "cell_type": "code",
      "execution_count": null,
      "metadata": {
        "id": "_l0qDgFzevgu"
      },
      "outputs": [],
      "source": [
        "tipo_uso = {\n",
        "    'Apartamento': 'Residencial',\n",
        "    'Casa': 'Residencial',\n",
        "    'Cobertura': 'Residencial',\n",
        "    'Consultório': 'Comercial',\n",
        "    'Imóvel Comercial': 'Comercial',\n",
        "    'Loja': 'Comercial',\n",
        "    'Sala Comercial': 'Comercial'\n",
        "}"
      ]
    },
    {
      "cell_type": "code",
      "execution_count": null,
      "metadata": {
        "id": "DwyFjomsevgu",
        "scrolled": true
      },
      "outputs": [],
      "source": []
    },
    {
      "cell_type": "code",
      "execution_count": null,
      "metadata": {
        "id": "X3B_8DLvevgv"
      },
      "outputs": [],
      "source": []
    },
    {
      "cell_type": "markdown",
      "metadata": {
        "id": "995hOzHhevgv"
      },
      "source": [
        "#### `insert`\n",
        "\n",
        "[Documentação](https://pandas.pydata.org/pandas-docs/stable/reference/api/pandas.DataFrame.insert.html)"
      ]
    },
    {
      "cell_type": "code",
      "execution_count": null,
      "metadata": {
        "id": "tuPwv1JTevgv"
      },
      "outputs": [],
      "source": []
    },
    {
      "cell_type": "code",
      "execution_count": null,
      "metadata": {
        "id": "IMSZeeIhevgw",
        "scrolled": true
      },
      "outputs": [],
      "source": []
    },
    {
      "cell_type": "markdown",
      "metadata": {
        "id": "1CRwFHsfevgw"
      },
      "source": [
        "### Com dados numéricos - `cut`\n",
        "\n",
        "[Documentação](https://pandas.pydata.org/pandas-docs/stable/reference/api/pandas.cut.html)"
      ]
    },
    {
      "cell_type": "markdown",
      "metadata": {
        "id": "2g4jSmX1evgw"
      },
      "source": [
        "#### Utilizando classes fixas"
      ]
    },
    {
      "cell_type": "code",
      "execution_count": null,
      "metadata": {
        "id": "0KTpjlnhevgx"
      },
      "outputs": [],
      "source": []
    },
    {
      "cell_type": "code",
      "execution_count": null,
      "metadata": {
        "id": "zapsO_NJAoj7"
      },
      "outputs": [],
      "source": []
    },
    {
      "cell_type": "code",
      "execution_count": null,
      "metadata": {
        "id": "ztdhjZ2mevgx"
      },
      "outputs": [],
      "source": []
    },
    {
      "cell_type": "code",
      "execution_count": null,
      "metadata": {
        "id": "je6VWPuYevgx",
        "scrolled": true
      },
      "outputs": [],
      "source": []
    },
    {
      "cell_type": "code",
      "execution_count": null,
      "metadata": {
        "id": "vY7d-5z5ceWO",
        "scrolled": true
      },
      "outputs": [],
      "source": []
    },
    {
      "cell_type": "code",
      "execution_count": null,
      "metadata": {
        "id": "q1ENkBM0evgy"
      },
      "outputs": [],
      "source": []
    },
    {
      "cell_type": "markdown",
      "metadata": {
        "id": "hGo5UyTsevgy"
      },
      "source": [
        "#### Utilizando classes personalizadas"
      ]
    },
    {
      "cell_type": "code",
      "execution_count": null,
      "metadata": {
        "id": "XzoW4Hasb8q7"
      },
      "outputs": [],
      "source": []
    },
    {
      "cell_type": "code",
      "execution_count": null,
      "metadata": {
        "id": "I65cC8pkevgz",
        "scrolled": true
      },
      "outputs": [],
      "source": []
    },
    {
      "cell_type": "code",
      "execution_count": null,
      "metadata": {
        "id": "mfZ0S5b0evgz",
        "scrolled": true
      },
      "outputs": [],
      "source": []
    },
    {
      "cell_type": "code",
      "execution_count": null,
      "metadata": {
        "id": "iHDPvSAPevgz"
      },
      "outputs": [],
      "source": []
    },
    {
      "cell_type": "markdown",
      "metadata": {
        "id": "zWGPxzcuevg0"
      },
      "source": [
        "## Novas colunas derivadas das informações existentes"
      ]
    },
    {
      "cell_type": "markdown",
      "metadata": {
        "id": "LLxPnrTHevg0"
      },
      "source": [
        "### Valor por m²"
      ]
    },
    {
      "cell_type": "code",
      "execution_count": null,
      "metadata": {
        "id": "ucf8dkBzevg0",
        "scrolled": true
      },
      "outputs": [],
      "source": []
    },
    {
      "cell_type": "code",
      "execution_count": null,
      "metadata": {
        "id": "RAPOfBHgevg0"
      },
      "outputs": [],
      "source": []
    },
    {
      "cell_type": "markdown",
      "metadata": {
        "id": "JxaCGr1Devg1"
      },
      "source": [
        "#### `apply`\n",
        "\n",
        "[Documentação](https://pandas.pydata.org/pandas-docs/stable/reference/api/pandas.DataFrame.apply.html)"
      ]
    },
    {
      "cell_type": "code",
      "execution_count": null,
      "metadata": {
        "id": "yNmvRWLievg1"
      },
      "outputs": [],
      "source": []
    },
    {
      "cell_type": "code",
      "execution_count": null,
      "metadata": {
        "id": "Xeqd609_evg1"
      },
      "outputs": [],
      "source": []
    },
    {
      "cell_type": "code",
      "execution_count": null,
      "metadata": {
        "id": "ZEvfUpFoevg2"
      },
      "outputs": [],
      "source": []
    },
    {
      "cell_type": "markdown",
      "metadata": {
        "id": "1Pcx255bevg2"
      },
      "source": [
        "### Piscina?"
      ]
    },
    {
      "cell_type": "code",
      "execution_count": null,
      "metadata": {
        "id": "U6z63nqXevg2"
      },
      "outputs": [],
      "source": []
    },
    {
      "cell_type": "markdown",
      "metadata": {
        "id": "KNSWnriMevg2"
      },
      "source": [
        "# TABULAÇÕES E SUMARIZAÇÕES\n",
        "---"
      ]
    },
    {
      "cell_type": "markdown",
      "metadata": {
        "id": "eiFZz3Gcevg2"
      },
      "source": [
        "## Agrupamentos"
      ]
    },
    {
      "cell_type": "code",
      "execution_count": null,
      "metadata": {
        "id": "GepN60rgevg2"
      },
      "outputs": [],
      "source": []
    },
    {
      "cell_type": "markdown",
      "metadata": {
        "id": "4VGAbY3Sevg3"
      },
      "source": [
        "### `aggregate`\n",
        "\n",
        "[Documentação](https://pandas.pydata.org/pandas-docs/stable/reference/api/pandas.DataFrame.aggregate.html)"
      ]
    },
    {
      "cell_type": "code",
      "execution_count": null,
      "metadata": {
        "id": "CJopCPinevg3"
      },
      "outputs": [],
      "source": []
    },
    {
      "cell_type": "code",
      "execution_count": null,
      "metadata": {
        "id": "fiQc4618evg3"
      },
      "outputs": [],
      "source": []
    },
    {
      "cell_type": "markdown",
      "metadata": {
        "id": "Y_T5j1Dkevg3"
      },
      "source": [
        "### `groupby`\n",
        "\n",
        "[Documentação](https://pandas.pydata.org/pandas-docs/stable/reference/api/pandas.DataFrame.groupby.html)"
      ]
    },
    {
      "cell_type": "code",
      "execution_count": null,
      "metadata": {
        "id": "Zu9QU8XYevg3"
      },
      "outputs": [],
      "source": []
    },
    {
      "cell_type": "code",
      "execution_count": null,
      "metadata": {
        "id": "UVdqyITfevg4"
      },
      "outputs": [],
      "source": []
    },
    {
      "cell_type": "code",
      "execution_count": null,
      "metadata": {
        "id": "QNe-9qufevg4"
      },
      "outputs": [],
      "source": []
    },
    {
      "cell_type": "code",
      "execution_count": null,
      "metadata": {
        "id": "2mF_L8cAevg4"
      },
      "outputs": [],
      "source": []
    },
    {
      "cell_type": "code",
      "execution_count": null,
      "metadata": {
        "id": "cafTo2wUevg4"
      },
      "outputs": [],
      "source": []
    },
    {
      "cell_type": "code",
      "execution_count": null,
      "metadata": {
        "id": "zVu7oxvYevg5"
      },
      "outputs": [],
      "source": []
    },
    {
      "cell_type": "markdown",
      "metadata": {
        "id": "AUBj_APUevg5"
      },
      "source": [
        "### `value_counts`\n",
        "\n",
        "[Documentação](https://pandas.pydata.org/pandas-docs/stable/reference/api/pandas.DataFrame.value_counts.html)"
      ]
    },
    {
      "cell_type": "code",
      "execution_count": null,
      "metadata": {
        "id": "EF2L8WmHevg5"
      },
      "outputs": [],
      "source": []
    },
    {
      "cell_type": "code",
      "execution_count": null,
      "metadata": {
        "id": "IOZ1Fb0Tevg5"
      },
      "outputs": [],
      "source": []
    },
    {
      "cell_type": "code",
      "execution_count": null,
      "metadata": {
        "id": "irStjJUvevg5"
      },
      "outputs": [],
      "source": []
    },
    {
      "cell_type": "markdown",
      "metadata": {
        "id": "KJtrt3l5evg6"
      },
      "source": [
        "#### `to_frame`\n",
        "\n",
        "[Documentação](https://pandas.pydata.org/pandas-docs/stable/reference/api/pandas.Series.to_frame.html)"
      ]
    },
    {
      "cell_type": "code",
      "execution_count": null,
      "metadata": {
        "id": "86UZBXs9evg6"
      },
      "outputs": [],
      "source": []
    },
    {
      "cell_type": "markdown",
      "metadata": {
        "id": "zfIcPdHpevg6"
      },
      "source": [
        "## Mudando o formato de um *DataFrame*"
      ]
    },
    {
      "cell_type": "markdown",
      "metadata": {
        "id": "FMI3APPqevg6"
      },
      "source": [
        "### `unstack`\n",
        "\n",
        "Faz a rotação ou o pivoteamento das linhas para as colunas.\n",
        "\n",
        "[Documentação](https://pandas.pydata.org/pandas-docs/stable/reference/api/pandas.DataFrame.unstack.html)"
      ]
    },
    {
      "cell_type": "code",
      "execution_count": null,
      "metadata": {
        "id": "ihUiFlUoevg6"
      },
      "outputs": [],
      "source": []
    },
    {
      "cell_type": "code",
      "execution_count": null,
      "metadata": {
        "id": "QJ4pCdlnevg6"
      },
      "outputs": [],
      "source": []
    },
    {
      "cell_type": "code",
      "execution_count": null,
      "metadata": {
        "id": "v_n21a8cevg7"
      },
      "outputs": [],
      "source": []
    },
    {
      "cell_type": "markdown",
      "metadata": {
        "id": "se1knkwkevg7"
      },
      "source": [
        "### `stack`\n",
        "\n",
        "Faz a rotação ou o pivoteamento das colunas de um *DataFrame* para as linhas.\n",
        "\n",
        "[Documentação](https://pandas.pydata.org/pandas-docs/stable/reference/api/pandas.DataFrame.stack.html)"
      ]
    },
    {
      "cell_type": "code",
      "execution_count": null,
      "metadata": {
        "id": "xJRpaXH_evg7"
      },
      "outputs": [],
      "source": []
    },
    {
      "cell_type": "code",
      "execution_count": null,
      "metadata": {
        "id": "QkWRUW1Hevg7"
      },
      "outputs": [],
      "source": []
    },
    {
      "cell_type": "code",
      "execution_count": null,
      "metadata": {
        "id": "dGE9_h4Eevg7",
        "scrolled": true
      },
      "outputs": [],
      "source": []
    },
    {
      "cell_type": "code",
      "execution_count": null,
      "metadata": {
        "id": "SYBirwOQevg7",
        "scrolled": true
      },
      "outputs": [],
      "source": []
    },
    {
      "cell_type": "markdown",
      "metadata": {
        "id": "721L30DGevg8"
      },
      "source": [
        "## Criando tabelas dinâmicas"
      ]
    },
    {
      "cell_type": "markdown",
      "metadata": {
        "id": "MT9R7ULTevg8"
      },
      "source": [
        "### `pivot`\n",
        "\n",
        "[Documentação](https://pandas.pydata.org/pandas-docs/stable/reference/api/pandas.DataFrame.pivot.html)"
      ]
    },
    {
      "cell_type": "code",
      "execution_count": null,
      "metadata": {
        "id": "TxCjxASHevg8"
      },
      "outputs": [],
      "source": []
    },
    {
      "cell_type": "markdown",
      "metadata": {
        "id": "KK2lRVTZevg8"
      },
      "source": [
        "#### `droplevel`\n",
        "\n",
        "[Documentação](https://pandas.pydata.org/pandas-docs/stable/reference/api/pandas.DataFrame.droplevel.html)"
      ]
    },
    {
      "cell_type": "code",
      "execution_count": null,
      "metadata": {
        "id": "WM8eGmWyevg9"
      },
      "outputs": [],
      "source": []
    },
    {
      "cell_type": "markdown",
      "metadata": {
        "id": "JV0cPfjjevg9"
      },
      "source": [
        "#### `reset_index`\n",
        "\n",
        "[Documentação](https://pandas.pydata.org/pandas-docs/stable/reference/api/pandas.DataFrame.reset_index.html)"
      ]
    },
    {
      "cell_type": "code",
      "execution_count": null,
      "metadata": {
        "id": "_2zbYlDUevg9",
        "scrolled": true
      },
      "outputs": [],
      "source": []
    },
    {
      "cell_type": "code",
      "execution_count": null,
      "metadata": {
        "id": "Tr3lQ7_Pevg9"
      },
      "outputs": [],
      "source": []
    },
    {
      "cell_type": "markdown",
      "metadata": {
        "id": "si3S5yVIevg9"
      },
      "source": [
        "### `pivot_table`\n",
        "\n",
        "[Documentação](https://pandas.pydata.org/pandas-docs/stable/reference/api/pandas.DataFrame.pivot_table.html)"
      ]
    },
    {
      "cell_type": "code",
      "execution_count": null,
      "metadata": {
        "id": "Cc8GufF3evg-"
      },
      "outputs": [],
      "source": []
    },
    {
      "cell_type": "code",
      "execution_count": null,
      "metadata": {
        "id": "VxFFo13gevg-"
      },
      "outputs": [],
      "source": []
    },
    {
      "cell_type": "code",
      "execution_count": null,
      "metadata": {
        "id": "5AzhTNwaevg-"
      },
      "outputs": [],
      "source": []
    },
    {
      "cell_type": "markdown",
      "metadata": {
        "id": "z3WPXV_1evg-"
      },
      "source": [
        "# TABULAÇÕES E ESTILIZAÇÃO\n",
        "---"
      ]
    },
    {
      "cell_type": "markdown",
      "metadata": {
        "id": "hEMpF1yYevg-"
      },
      "source": [
        "## Tabulações a partir de informações no formato de listas"
      ]
    },
    {
      "cell_type": "markdown",
      "metadata": {
        "id": "ZFqI6k6_evg-"
      },
      "source": [
        "### `explode`\n",
        "\n",
        "[Documentação](https://pandas.pydata.org/pandas-docs/stable/reference/api/pandas.DataFrame.explode.html)"
      ]
    },
    {
      "cell_type": "code",
      "execution_count": null,
      "metadata": {
        "id": "JFZCZ7Yuevg_",
        "scrolled": true
      },
      "outputs": [],
      "source": []
    },
    {
      "cell_type": "code",
      "execution_count": null,
      "metadata": {
        "id": "VhIcLAXzevg_"
      },
      "outputs": [],
      "source": []
    },
    {
      "cell_type": "code",
      "execution_count": null,
      "metadata": {
        "id": "q8dhRb3sevg_",
        "scrolled": false
      },
      "outputs": [],
      "source": []
    },
    {
      "cell_type": "markdown",
      "metadata": {
        "id": "f8aTRZ-Mevg_"
      },
      "source": [
        "#### `where`\n",
        "\n",
        "[Documentação](https://pandas.pydata.org/pandas-docs/stable/reference/api/pandas.Series.where.html)"
      ]
    },
    {
      "cell_type": "code",
      "execution_count": null,
      "metadata": {
        "id": "eVqYjcWievg_"
      },
      "outputs": [],
      "source": []
    },
    {
      "cell_type": "code",
      "execution_count": null,
      "metadata": {
        "id": "IRMPSZhvevhA"
      },
      "outputs": [],
      "source": []
    },
    {
      "cell_type": "markdown",
      "metadata": {
        "id": "Hqsk2TCqevhA"
      },
      "source": [
        "## Estilizando um DataFrame"
      ]
    },
    {
      "cell_type": "markdown",
      "metadata": {
        "id": "D9fI8e5TevhA"
      },
      "source": [
        "### `style`\n",
        "\n",
        "[Documentação](https://pandas.pydata.org/pandas-docs/stable/reference/api/pandas.DataFrame.style.html)"
      ]
    },
    {
      "cell_type": "code",
      "execution_count": null,
      "metadata": {
        "id": "6RSwWnIhevhA"
      },
      "outputs": [],
      "source": []
    },
    {
      "cell_type": "code",
      "execution_count": null,
      "metadata": {
        "id": "0m_-TJTuevhA"
      },
      "outputs": [],
      "source": []
    },
    {
      "cell_type": "code",
      "execution_count": null,
      "metadata": {
        "id": "1KnL7z-CevhA"
      },
      "outputs": [],
      "source": []
    },
    {
      "cell_type": "markdown",
      "metadata": {
        "id": "yvFSL0PAevhB"
      },
      "source": [
        "#### `format`\n",
        "\n",
        "[Documentação](https://pandas.pydata.org/pandas-docs/stable/reference/api/pandas.io.formats.style.Styler.format.html)"
      ]
    },
    {
      "cell_type": "code",
      "execution_count": null,
      "metadata": {
        "id": "r_0DbWypevhB"
      },
      "outputs": [],
      "source": []
    },
    {
      "cell_type": "markdown",
      "metadata": {
        "id": "ncaZ5etWevhB"
      },
      "source": [
        "#### `bar`\n",
        "\n",
        "[Documentação](https://pandas.pydata.org/pandas-docs/stable/reference/api/pandas.io.formats.style.Styler.bar.html)"
      ]
    },
    {
      "cell_type": "code",
      "execution_count": null,
      "metadata": {
        "id": "0DYposenevhB"
      },
      "outputs": [],
      "source": []
    },
    {
      "cell_type": "markdown",
      "metadata": {
        "id": "q9EV6PsZevhB"
      },
      "source": [
        "#### `applymap`\n",
        "\n",
        "[Documentação](https://pandas.pydata.org/pandas-docs/stable/reference/api/pandas.io.formats.style.Styler.applymap.html)"
      ]
    },
    {
      "cell_type": "code",
      "execution_count": null,
      "metadata": {
        "id": "dwRK5vwXevhB"
      },
      "outputs": [],
      "source": []
    },
    {
      "cell_type": "code",
      "execution_count": null,
      "metadata": {
        "id": "qyMctQrhevhD"
      },
      "outputs": [],
      "source": []
    },
    {
      "cell_type": "markdown",
      "metadata": {
        "id": "xklcN2wjevhD"
      },
      "source": [
        "#### `highlight_max` e `highlight_min`\n",
        "\n",
        "[Documentação: `highlight_max`](https://pandas.pydata.org/pandas-docs/stable/reference/api/pandas.io.formats.style.Styler.highlight_max.html)\n",
        "\n",
        "[Documentação: `highlight_min`](https://pandas.pydata.org/pandas-docs/stable/reference/api/pandas.io.formats.style.Styler.highlight_min.html)"
      ]
    },
    {
      "cell_type": "code",
      "execution_count": null,
      "metadata": {
        "id": "bH5k6L7FevhE"
      },
      "outputs": [],
      "source": []
    },
    {
      "cell_type": "code",
      "execution_count": null,
      "metadata": {
        "id": "QfSwVQg9evhE"
      },
      "outputs": [],
      "source": []
    },
    {
      "cell_type": "code",
      "execution_count": null,
      "metadata": {
        "id": "Q2WvRk1eevhF",
        "scrolled": true
      },
      "outputs": [],
      "source": []
    },
    {
      "cell_type": "code",
      "execution_count": null,
      "metadata": {
        "id": "JHoRZr3gevhG"
      },
      "outputs": [],
      "source": []
    },
    {
      "cell_type": "code",
      "execution_count": null,
      "metadata": {
        "id": "07rpMsdIevhG"
      },
      "outputs": [],
      "source": []
    },
    {
      "cell_type": "code",
      "execution_count": null,
      "metadata": {
        "id": "OkZyFqDdevhG"
      },
      "outputs": [],
      "source": []
    },
    {
      "cell_type": "code",
      "execution_count": null,
      "metadata": {
        "id": "WX5UuzeYevhG"
      },
      "outputs": [],
      "source": []
    },
    {
      "cell_type": "markdown",
      "metadata": {
        "id": "A13lh-6WevhH"
      },
      "source": [
        "#### `background_gradient`\n",
        "\n",
        "[Documentação](https://pandas.pydata.org/pandas-docs/stable/reference/api/pandas.io.formats.style.Styler.background_gradient.html)"
      ]
    },
    {
      "cell_type": "code",
      "execution_count": null,
      "metadata": {
        "id": "DUUt_GaRevhH"
      },
      "outputs": [],
      "source": []
    },
    {
      "cell_type": "code",
      "execution_count": null,
      "metadata": {
        "id": "Cqbg9GgvevhJ"
      },
      "outputs": [],
      "source": []
    },
    {
      "cell_type": "code",
      "execution_count": null,
      "metadata": {
        "id": "1YYNpDxbevhJ"
      },
      "outputs": [],
      "source": []
    },
    {
      "cell_type": "markdown",
      "metadata": {
        "id": "IKxU1RsFevhJ"
      },
      "source": [
        "#### `to_excel`\n",
        "\n",
        "[Documentação](https://pandas.pydata.org/pandas-docs/stable/reference/api/pandas.io.formats.style.Styler.to_excel.html)"
      ]
    },
    {
      "cell_type": "code",
      "execution_count": null,
      "metadata": {
        "id": "Hqc01SzXevhK"
      },
      "outputs": [],
      "source": []
    },
    {
      "cell_type": "markdown",
      "metadata": {
        "id": "A75CwZB0evhK"
      },
      "source": [
        "# ANEXOS\n",
        "---"
      ]
    },
    {
      "cell_type": "markdown",
      "metadata": {
        "id": "TcE_9F2eevhL"
      },
      "source": [
        "### Opções para o parâmetro `cmap`\n",
        "\n",
        "[Documentação](https://matplotlib.org/3.3.2/tutorials/colors/colormaps.html)"
      ]
    },
    {
      "cell_type": "code",
      "execution_count": null,
      "metadata": {
        "id": "hpyWIdU2evhL"
      },
      "outputs": [],
      "source": [
        "import numpy as np\n",
        "import matplotlib as mpl\n",
        "import matplotlib.pyplot as plt\n",
        "from matplotlib import cm\n",
        "from collections import OrderedDict\n",
        "\n",
        "cmaps = OrderedDict()"
      ]
    },
    {
      "cell_type": "code",
      "execution_count": null,
      "metadata": {
        "id": "DbvdFKVievhM"
      },
      "outputs": [],
      "source": [
        "cmaps['Perceptually Uniform Sequential'] = [\n",
        "            'viridis', 'plasma', 'inferno', 'magma', 'cividis']\n",
        "\n",
        "cmaps['Sequential'] = [\n",
        "            'Greys', 'Purples', 'Blues', 'Greens', 'Oranges', 'Reds',\n",
        "            'YlOrBr', 'YlOrRd', 'OrRd', 'PuRd', 'RdPu', 'BuPu',\n",
        "            'GnBu', 'PuBu', 'YlGnBu', 'PuBuGn', 'BuGn', 'YlGn']\n",
        "\n",
        "cmaps['Sequential (2)'] = [\n",
        "            'binary', 'gist_yarg', 'gist_gray', 'gray', 'bone', 'pink',\n",
        "            'spring', 'summer', 'autumn', 'winter', 'cool', 'Wistia',\n",
        "            'hot', 'afmhot', 'gist_heat', 'copper']\n",
        "\n",
        "cmaps['Diverging'] = [\n",
        "            'PiYG', 'PRGn', 'BrBG', 'PuOr', 'RdGy', 'RdBu',\n",
        "            'RdYlBu', 'RdYlGn', 'Spectral', 'coolwarm', 'bwr', 'seismic']\n",
        "\n",
        "cmaps['Cyclic'] = ['twilight', 'twilight_shifted', 'hsv']\n",
        "\n",
        "cmaps['Qualitative'] = ['Pastel1', 'Pastel2', 'Paired', 'Accent',\n",
        "                        'Dark2', 'Set1', 'Set2', 'Set3',\n",
        "                        'tab10', 'tab20', 'tab20b', 'tab20c']\n",
        "\n",
        "cmaps['Miscellaneous'] = [\n",
        "            'flag', 'prism', 'ocean', 'gist_earth', 'terrain', 'gist_stern',\n",
        "            'gnuplot', 'gnuplot2', 'CMRmap', 'cubehelix', 'brg',\n",
        "            'gist_rainbow', 'rainbow', 'jet', 'nipy_spectral',\n",
        "            'gist_ncar']"
      ]
    },
    {
      "cell_type": "code",
      "execution_count": null,
      "metadata": {
        "id": "krg94xcfevhM",
        "scrolled": false
      },
      "outputs": [],
      "source": [
        "nrows = max(len(cmap_list) for cmap_category, cmap_list in cmaps.items())\n",
        "gradient = np.linspace(0, 1, 256)\n",
        "gradient = np.vstack((gradient, gradient))\n",
        "\n",
        "\n",
        "def plot_color_gradients(cmap_category, cmap_list, nrows):\n",
        "    fig, axes = plt.subplots(nrows=nrows)\n",
        "    fig.subplots_adjust(top=0.95, bottom=0.01, left=0.2, right=0.99)\n",
        "    axes[0].set_title(cmap_category + ' colormaps', fontsize=14)\n",
        "\n",
        "    for ax, name in zip(axes, cmap_list):\n",
        "        ax.imshow(gradient, aspect='auto', cmap=plt.get_cmap(name))\n",
        "        pos = list(ax.get_position().bounds)\n",
        "        x_text = pos[0] - 0.01\n",
        "        y_text = pos[1] + pos[3]/2.\n",
        "        fig.text(x_text, y_text, name, va='center', ha='right', fontsize=10)\n",
        "\n",
        "    # Turn off *all* ticks & spines, not just the ones with colormaps.\n",
        "    for ax in axes:\n",
        "        ax.set_axis_off()\n",
        "\n",
        "\n",
        "for cmap_category, cmap_list in cmaps.items():\n",
        "    plot_color_gradients(cmap_category, cmap_list, nrows)\n",
        "\n",
        "plt.show()"
      ]
    },
    {
      "cell_type": "code",
      "execution_count": null,
      "metadata": {
        "id": "vmmcXYh2evhN"
      },
      "outputs": [],
      "source": []
    }
  ],
  "metadata": {
    "colab": {
      "provenance": []
    },
    "kernelspec": {
      "display_name": "Python 3",
      "language": "python",
      "name": "python3"
    },
    "language_info": {
      "codemirror_mode": {
        "name": "ipython",
        "version": 3
      },
      "file_extension": ".py",
      "mimetype": "text/x-python",
      "name": "python",
      "nbconvert_exporter": "python",
      "pygments_lexer": "ipython3",
      "version": "3.8.5"
    },
    "toc": {
      "base_numbering": 1,
      "nav_menu": {},
      "number_sections": false,
      "sideBar": true,
      "skip_h1_title": false,
      "title_cell": "Table of Contents",
      "title_sidebar": "Contents",
      "toc_cell": false,
      "toc_position": {
        "height": "calc(100% - 180px)",
        "left": "10px",
        "top": "150px",
        "width": "268.2px"
      },
      "toc_section_display": true,
      "toc_window_display": false
    },
    "varInspector": {
      "cols": {
        "lenName": 16,
        "lenType": 16,
        "lenVar": 40
      },
      "kernels_config": {
        "python": {
          "delete_cmd_postfix": "",
          "delete_cmd_prefix": "del ",
          "library": "var_list.py",
          "varRefreshCmd": "print(var_dic_list())"
        },
        "r": {
          "delete_cmd_postfix": ") ",
          "delete_cmd_prefix": "rm(",
          "library": "var_list.r",
          "varRefreshCmd": "cat(var_dic_list()) "
        }
      },
      "types_to_exclude": [
        "module",
        "function",
        "builtin_function_or_method",
        "instance",
        "_Feature"
      ],
      "window_display": false
    }
  },
  "nbformat": 4,
  "nbformat_minor": 0
}