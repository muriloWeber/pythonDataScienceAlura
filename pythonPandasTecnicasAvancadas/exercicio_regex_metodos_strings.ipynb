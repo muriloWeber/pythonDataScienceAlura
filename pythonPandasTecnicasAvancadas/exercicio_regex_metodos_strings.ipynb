{
  "nbformat": 4,
  "nbformat_minor": 0,
  "metadata": {
    "colab": {
      "provenance": []
    },
    "kernelspec": {
      "name": "python3",
      "display_name": "Python 3"
    },
    "language_info": {
      "name": "python"
    }
  },
  "cells": [
    {
      "cell_type": "markdown",
      "source": [
        "Vimos como extrair informações de dados no formato string com o uso do método extractall e expressões regulares simples.\n",
        "\n",
        "Expressões regulares são strings que descrevem um padrão de pesquisa que pode ser utilizado para combinar ou substituir padrões dentro de uma string com uma quantidade mínima de esforço. Podem ser utilizadas em tarefas de procura, substituição, validação e filtragem de strings.\n",
        "\n",
        "Usamos a seguinte expressão para extrair de um conjunto de strings os seus valores numéricos: (\\d+)\n",
        "\n",
        "Os parênteses (()) são utilizados para definir um grupo dentro da expressão, o (\\d) indica que procuramos por dígitos numéricos de 0 a 9 e o sinal de mais (+) significa \"corresponder a um ou mais\" da expressão anterior a ele. Mas imagine que agora estamos procurando por números de CEP ou números telefônicos dentro de sequências de texto. Considere a seguinte Series com informações de um grupo de pessoas:"
      ],
      "metadata": {
        "id": "9zrdQJlrCoIA"
      }
    },
    {
      "cell_type": "code",
      "execution_count": null,
      "metadata": {
        "id": "XCpOvcnFCkbA"
      },
      "outputs": [],
      "source": [
        "import pandas as pd\n",
        "\n",
        "pessoas = pd.Series([\n",
        "    'Nome: Mariana Sousa | End.: Rua Damasco, 1978 Japeri-RJ 26.473-790 | Tel.: (21) 99131-8473',\n",
        "    'Nome: Aline Cardoso | End.: Rua Paschoal Marmirolli, 577 Sumaré-SP 13.171-700 | Tel.: (19) 8577-4777',\n",
        "    'Nome: Vitór Fernandes | Tel.: (21) 5923-5723 | End.: Rua Bernardo Franco, 1520 São Gonçalo-RJ 24.470-190',\n",
        "    'Nome: Victor Sousa | Tel.: (11) 98618-2626 | End.: Rua Santa Terezinha, 27 Suzano-SP 08.694-410',\n",
        "    'Nome: Vitória Dias | Tel.: (19) 97632-5829 | End.: Rua 4 JA, 500 Rio Claro-SP 13.506-010',\n",
        "    'Nome: Douglas Santos | Tel.: (11) 4890-8192 | End.: Rua Alcides Teodoro Santos, 1268 São Paulo-SP 05.762-010',\n",
        "    'Nome: Kauan Pinto | Tel.: (14) 6752-6858 | End.: Rua Amélia Volta Laplechade, 1334 Marília-SP 17.511-801',\n",
        "    'Nome: Miguel Silva | End.: Rua Severina Ferreira, 1408 João Pessoa-PB 58.034-160 | Tel.: (83) 7077-6476',\n",
        "    'Nome: Luis Castro | Tel.: (31) 97711-4493 | End.: Rua São Bento, 969 Ribeirão das Neves-MG 33.930-290',\n",
        "    'Nome: Thiago Almeida | Tel.: (18) 2031-3622 | End.: Rua Liberdade, 669 Araçatuba-SP 16.015-425'\n",
        "])"
      ]
    },
    {
      "cell_type": "markdown",
      "source": [
        "Note que cada registro da Series pessoas contém uma string com as informações de nome, telefone e endereço das pessoas, e que estas informações não se encontram sempre nesta ordem, exceto pela informação sobre o nome.\n",
        "\n",
        "Observe que na informação sobre o endereço de cada pessoa temos o CEP que vem no seguinte formato: XX.XXX-XXX. Vamos construir uma expressão regular para extrair essa informação das strings da Series pessoas."
      ],
      "metadata": {
        "id": "ab4zNvRSCu8V"
      }
    },
    {
      "cell_type": "code",
      "source": [
        "pessoas.str.extractall('(\\d{2}.\\d{3}-\\d{3})')"
      ],
      "metadata": {
        "colab": {
          "base_uri": "https://localhost:8080/",
          "height": 394
        },
        "id": "w-Qo24_ZC2tY",
        "outputId": "5f386157-f52a-4448-a48f-8865b491c45a"
      },
      "execution_count": null,
      "outputs": [
        {
          "output_type": "execute_result",
          "data": {
            "text/plain": [
              "                  0\n",
              "  match            \n",
              "0 0      26.473-790\n",
              "1 0      13.171-700\n",
              "2 0      24.470-190\n",
              "3 0      08.694-410\n",
              "4 0      13.506-010\n",
              "5 0      05.762-010\n",
              "6 0      17.511-801\n",
              "7 0      58.034-160\n",
              "8 0      33.930-290\n",
              "9 0      16.015-425"
            ],
            "text/html": [
              "\n",
              "  <div id=\"df-aff32133-dce7-4a9b-9f70-8bb64dcd626d\">\n",
              "    <div class=\"colab-df-container\">\n",
              "      <div>\n",
              "<style scoped>\n",
              "    .dataframe tbody tr th:only-of-type {\n",
              "        vertical-align: middle;\n",
              "    }\n",
              "\n",
              "    .dataframe tbody tr th {\n",
              "        vertical-align: top;\n",
              "    }\n",
              "\n",
              "    .dataframe thead th {\n",
              "        text-align: right;\n",
              "    }\n",
              "</style>\n",
              "<table border=\"1\" class=\"dataframe\">\n",
              "  <thead>\n",
              "    <tr style=\"text-align: right;\">\n",
              "      <th></th>\n",
              "      <th></th>\n",
              "      <th>0</th>\n",
              "    </tr>\n",
              "    <tr>\n",
              "      <th></th>\n",
              "      <th>match</th>\n",
              "      <th></th>\n",
              "    </tr>\n",
              "  </thead>\n",
              "  <tbody>\n",
              "    <tr>\n",
              "      <th>0</th>\n",
              "      <th>0</th>\n",
              "      <td>26.473-790</td>\n",
              "    </tr>\n",
              "    <tr>\n",
              "      <th>1</th>\n",
              "      <th>0</th>\n",
              "      <td>13.171-700</td>\n",
              "    </tr>\n",
              "    <tr>\n",
              "      <th>2</th>\n",
              "      <th>0</th>\n",
              "      <td>24.470-190</td>\n",
              "    </tr>\n",
              "    <tr>\n",
              "      <th>3</th>\n",
              "      <th>0</th>\n",
              "      <td>08.694-410</td>\n",
              "    </tr>\n",
              "    <tr>\n",
              "      <th>4</th>\n",
              "      <th>0</th>\n",
              "      <td>13.506-010</td>\n",
              "    </tr>\n",
              "    <tr>\n",
              "      <th>5</th>\n",
              "      <th>0</th>\n",
              "      <td>05.762-010</td>\n",
              "    </tr>\n",
              "    <tr>\n",
              "      <th>6</th>\n",
              "      <th>0</th>\n",
              "      <td>17.511-801</td>\n",
              "    </tr>\n",
              "    <tr>\n",
              "      <th>7</th>\n",
              "      <th>0</th>\n",
              "      <td>58.034-160</td>\n",
              "    </tr>\n",
              "    <tr>\n",
              "      <th>8</th>\n",
              "      <th>0</th>\n",
              "      <td>33.930-290</td>\n",
              "    </tr>\n",
              "    <tr>\n",
              "      <th>9</th>\n",
              "      <th>0</th>\n",
              "      <td>16.015-425</td>\n",
              "    </tr>\n",
              "  </tbody>\n",
              "</table>\n",
              "</div>\n",
              "      <button class=\"colab-df-convert\" onclick=\"convertToInteractive('df-aff32133-dce7-4a9b-9f70-8bb64dcd626d')\"\n",
              "              title=\"Convert this dataframe to an interactive table.\"\n",
              "              style=\"display:none;\">\n",
              "        \n",
              "  <svg xmlns=\"http://www.w3.org/2000/svg\" height=\"24px\"viewBox=\"0 0 24 24\"\n",
              "       width=\"24px\">\n",
              "    <path d=\"M0 0h24v24H0V0z\" fill=\"none\"/>\n",
              "    <path d=\"M18.56 5.44l.94 2.06.94-2.06 2.06-.94-2.06-.94-.94-2.06-.94 2.06-2.06.94zm-11 1L8.5 8.5l.94-2.06 2.06-.94-2.06-.94L8.5 2.5l-.94 2.06-2.06.94zm10 10l.94 2.06.94-2.06 2.06-.94-2.06-.94-.94-2.06-.94 2.06-2.06.94z\"/><path d=\"M17.41 7.96l-1.37-1.37c-.4-.4-.92-.59-1.43-.59-.52 0-1.04.2-1.43.59L10.3 9.45l-7.72 7.72c-.78.78-.78 2.05 0 2.83L4 21.41c.39.39.9.59 1.41.59.51 0 1.02-.2 1.41-.59l7.78-7.78 2.81-2.81c.8-.78.8-2.07 0-2.86zM5.41 20L4 18.59l7.72-7.72 1.47 1.35L5.41 20z\"/>\n",
              "  </svg>\n",
              "      </button>\n",
              "      \n",
              "  <style>\n",
              "    .colab-df-container {\n",
              "      display:flex;\n",
              "      flex-wrap:wrap;\n",
              "      gap: 12px;\n",
              "    }\n",
              "\n",
              "    .colab-df-convert {\n",
              "      background-color: #E8F0FE;\n",
              "      border: none;\n",
              "      border-radius: 50%;\n",
              "      cursor: pointer;\n",
              "      display: none;\n",
              "      fill: #1967D2;\n",
              "      height: 32px;\n",
              "      padding: 0 0 0 0;\n",
              "      width: 32px;\n",
              "    }\n",
              "\n",
              "    .colab-df-convert:hover {\n",
              "      background-color: #E2EBFA;\n",
              "      box-shadow: 0px 1px 2px rgba(60, 64, 67, 0.3), 0px 1px 3px 1px rgba(60, 64, 67, 0.15);\n",
              "      fill: #174EA6;\n",
              "    }\n",
              "\n",
              "    [theme=dark] .colab-df-convert {\n",
              "      background-color: #3B4455;\n",
              "      fill: #D2E3FC;\n",
              "    }\n",
              "\n",
              "    [theme=dark] .colab-df-convert:hover {\n",
              "      background-color: #434B5C;\n",
              "      box-shadow: 0px 1px 3px 1px rgba(0, 0, 0, 0.15);\n",
              "      filter: drop-shadow(0px 1px 2px rgba(0, 0, 0, 0.3));\n",
              "      fill: #FFFFFF;\n",
              "    }\n",
              "  </style>\n",
              "\n",
              "      <script>\n",
              "        const buttonEl =\n",
              "          document.querySelector('#df-aff32133-dce7-4a9b-9f70-8bb64dcd626d button.colab-df-convert');\n",
              "        buttonEl.style.display =\n",
              "          google.colab.kernel.accessAllowed ? 'block' : 'none';\n",
              "\n",
              "        async function convertToInteractive(key) {\n",
              "          const element = document.querySelector('#df-aff32133-dce7-4a9b-9f70-8bb64dcd626d');\n",
              "          const dataTable =\n",
              "            await google.colab.kernel.invokeFunction('convertToInteractive',\n",
              "                                                     [key], {});\n",
              "          if (!dataTable) return;\n",
              "\n",
              "          const docLinkHtml = 'Like what you see? Visit the ' +\n",
              "            '<a target=\"_blank\" href=https://colab.research.google.com/notebooks/data_table.ipynb>data table notebook</a>'\n",
              "            + ' to learn more about interactive tables.';\n",
              "          element.innerHTML = '';\n",
              "          dataTable['output_type'] = 'display_data';\n",
              "          await google.colab.output.renderOutput(dataTable, element);\n",
              "          const docLink = document.createElement('div');\n",
              "          docLink.innerHTML = docLinkHtml;\n",
              "          element.appendChild(docLink);\n",
              "        }\n",
              "      </script>\n",
              "    </div>\n",
              "  </div>\n",
              "  "
            ]
          },
          "metadata": {},
          "execution_count": 3
        }
      ]
    },
    {
      "cell_type": "markdown",
      "source": [
        "Veja que você também pode especificar o número exato de correspondências com o uso de números dentro da chaves:\n",
        "\n",
        "\n",
        "*   **{n}:** exatamente n ocorrências\n",
        "*   **{n,}:** n ou mais ocorrências\n",
        "*   **{n,}:** n ou mais ocorrências\n",
        "*   **{,m}:** no máximo m ocorrências\n",
        "*   **{n,m}:** entre n e m ocorrências\n",
        "\n",
        "\n",
        "No código anterior, \\d{2} indica que naquela posição devemos ter exatamente dois dígitos numéricos.\n",
        "\n",
        "Outro ponto que deve ser observado quando criamos uma expressão regular é que quando precisamos especificar caracteres dentro de uma string que já são utilizados como operadores dentro de uma expressão regular, como por exemplo os parênteses, precisamos utilizar o caractere de escape (\\) antes para denotar que o respectivo caractere não se trata de um operador da expressão e sim um caractere que desejamos extrair da string.\n",
        "\n",
        "Muito bem, hora de colocar a mão na massa. Observe que as strings da Series pessoas também apresentam as informações de números de telefones. Crie uma expressão regular para extrair estes números. Note que alguns números têm tamanhos diferentes (celulares e fixos).\n",
        "\n",
        "Assinale a resposta com o código correto.\n",
        "\n",
        "**Dica:** Em expressões regulares, \\s representa espaço em branco."
      ],
      "metadata": {
        "id": "pfOwJAV4C997"
      }
    },
    {
      "cell_type": "code",
      "source": [
        "pessoas.str.extractall('(\\(\\d{2}\\)\\s\\d{4,5}-\\d{4})')"
      ],
      "metadata": {
        "colab": {
          "base_uri": "https://localhost:8080/",
          "height": 394
        },
        "id": "KfQDBYo0C4cH",
        "outputId": "9749afae-9581-4fa2-cdeb-c4a2594a94ce"
      },
      "execution_count": null,
      "outputs": [
        {
          "output_type": "execute_result",
          "data": {
            "text/plain": [
              "                       0\n",
              "  match                 \n",
              "0 0      (21) 99131-8473\n",
              "1 0       (19) 8577-4777\n",
              "2 0       (21) 5923-5723\n",
              "3 0      (11) 98618-2626\n",
              "4 0      (19) 97632-5829\n",
              "5 0       (11) 4890-8192\n",
              "6 0       (14) 6752-6858\n",
              "7 0       (83) 7077-6476\n",
              "8 0      (31) 97711-4493\n",
              "9 0       (18) 2031-3622"
            ],
            "text/html": [
              "\n",
              "  <div id=\"df-dfb4627b-7392-493b-928e-43fbeeb88504\">\n",
              "    <div class=\"colab-df-container\">\n",
              "      <div>\n",
              "<style scoped>\n",
              "    .dataframe tbody tr th:only-of-type {\n",
              "        vertical-align: middle;\n",
              "    }\n",
              "\n",
              "    .dataframe tbody tr th {\n",
              "        vertical-align: top;\n",
              "    }\n",
              "\n",
              "    .dataframe thead th {\n",
              "        text-align: right;\n",
              "    }\n",
              "</style>\n",
              "<table border=\"1\" class=\"dataframe\">\n",
              "  <thead>\n",
              "    <tr style=\"text-align: right;\">\n",
              "      <th></th>\n",
              "      <th></th>\n",
              "      <th>0</th>\n",
              "    </tr>\n",
              "    <tr>\n",
              "      <th></th>\n",
              "      <th>match</th>\n",
              "      <th></th>\n",
              "    </tr>\n",
              "  </thead>\n",
              "  <tbody>\n",
              "    <tr>\n",
              "      <th>0</th>\n",
              "      <th>0</th>\n",
              "      <td>(21) 99131-8473</td>\n",
              "    </tr>\n",
              "    <tr>\n",
              "      <th>1</th>\n",
              "      <th>0</th>\n",
              "      <td>(19) 8577-4777</td>\n",
              "    </tr>\n",
              "    <tr>\n",
              "      <th>2</th>\n",
              "      <th>0</th>\n",
              "      <td>(21) 5923-5723</td>\n",
              "    </tr>\n",
              "    <tr>\n",
              "      <th>3</th>\n",
              "      <th>0</th>\n",
              "      <td>(11) 98618-2626</td>\n",
              "    </tr>\n",
              "    <tr>\n",
              "      <th>4</th>\n",
              "      <th>0</th>\n",
              "      <td>(19) 97632-5829</td>\n",
              "    </tr>\n",
              "    <tr>\n",
              "      <th>5</th>\n",
              "      <th>0</th>\n",
              "      <td>(11) 4890-8192</td>\n",
              "    </tr>\n",
              "    <tr>\n",
              "      <th>6</th>\n",
              "      <th>0</th>\n",
              "      <td>(14) 6752-6858</td>\n",
              "    </tr>\n",
              "    <tr>\n",
              "      <th>7</th>\n",
              "      <th>0</th>\n",
              "      <td>(83) 7077-6476</td>\n",
              "    </tr>\n",
              "    <tr>\n",
              "      <th>8</th>\n",
              "      <th>0</th>\n",
              "      <td>(31) 97711-4493</td>\n",
              "    </tr>\n",
              "    <tr>\n",
              "      <th>9</th>\n",
              "      <th>0</th>\n",
              "      <td>(18) 2031-3622</td>\n",
              "    </tr>\n",
              "  </tbody>\n",
              "</table>\n",
              "</div>\n",
              "      <button class=\"colab-df-convert\" onclick=\"convertToInteractive('df-dfb4627b-7392-493b-928e-43fbeeb88504')\"\n",
              "              title=\"Convert this dataframe to an interactive table.\"\n",
              "              style=\"display:none;\">\n",
              "        \n",
              "  <svg xmlns=\"http://www.w3.org/2000/svg\" height=\"24px\"viewBox=\"0 0 24 24\"\n",
              "       width=\"24px\">\n",
              "    <path d=\"M0 0h24v24H0V0z\" fill=\"none\"/>\n",
              "    <path d=\"M18.56 5.44l.94 2.06.94-2.06 2.06-.94-2.06-.94-.94-2.06-.94 2.06-2.06.94zm-11 1L8.5 8.5l.94-2.06 2.06-.94-2.06-.94L8.5 2.5l-.94 2.06-2.06.94zm10 10l.94 2.06.94-2.06 2.06-.94-2.06-.94-.94-2.06-.94 2.06-2.06.94z\"/><path d=\"M17.41 7.96l-1.37-1.37c-.4-.4-.92-.59-1.43-.59-.52 0-1.04.2-1.43.59L10.3 9.45l-7.72 7.72c-.78.78-.78 2.05 0 2.83L4 21.41c.39.39.9.59 1.41.59.51 0 1.02-.2 1.41-.59l7.78-7.78 2.81-2.81c.8-.78.8-2.07 0-2.86zM5.41 20L4 18.59l7.72-7.72 1.47 1.35L5.41 20z\"/>\n",
              "  </svg>\n",
              "      </button>\n",
              "      \n",
              "  <style>\n",
              "    .colab-df-container {\n",
              "      display:flex;\n",
              "      flex-wrap:wrap;\n",
              "      gap: 12px;\n",
              "    }\n",
              "\n",
              "    .colab-df-convert {\n",
              "      background-color: #E8F0FE;\n",
              "      border: none;\n",
              "      border-radius: 50%;\n",
              "      cursor: pointer;\n",
              "      display: none;\n",
              "      fill: #1967D2;\n",
              "      height: 32px;\n",
              "      padding: 0 0 0 0;\n",
              "      width: 32px;\n",
              "    }\n",
              "\n",
              "    .colab-df-convert:hover {\n",
              "      background-color: #E2EBFA;\n",
              "      box-shadow: 0px 1px 2px rgba(60, 64, 67, 0.3), 0px 1px 3px 1px rgba(60, 64, 67, 0.15);\n",
              "      fill: #174EA6;\n",
              "    }\n",
              "\n",
              "    [theme=dark] .colab-df-convert {\n",
              "      background-color: #3B4455;\n",
              "      fill: #D2E3FC;\n",
              "    }\n",
              "\n",
              "    [theme=dark] .colab-df-convert:hover {\n",
              "      background-color: #434B5C;\n",
              "      box-shadow: 0px 1px 3px 1px rgba(0, 0, 0, 0.15);\n",
              "      filter: drop-shadow(0px 1px 2px rgba(0, 0, 0, 0.3));\n",
              "      fill: #FFFFFF;\n",
              "    }\n",
              "  </style>\n",
              "\n",
              "      <script>\n",
              "        const buttonEl =\n",
              "          document.querySelector('#df-dfb4627b-7392-493b-928e-43fbeeb88504 button.colab-df-convert');\n",
              "        buttonEl.style.display =\n",
              "          google.colab.kernel.accessAllowed ? 'block' : 'none';\n",
              "\n",
              "        async function convertToInteractive(key) {\n",
              "          const element = document.querySelector('#df-dfb4627b-7392-493b-928e-43fbeeb88504');\n",
              "          const dataTable =\n",
              "            await google.colab.kernel.invokeFunction('convertToInteractive',\n",
              "                                                     [key], {});\n",
              "          if (!dataTable) return;\n",
              "\n",
              "          const docLinkHtml = 'Like what you see? Visit the ' +\n",
              "            '<a target=\"_blank\" href=https://colab.research.google.com/notebooks/data_table.ipynb>data table notebook</a>'\n",
              "            + ' to learn more about interactive tables.';\n",
              "          element.innerHTML = '';\n",
              "          dataTable['output_type'] = 'display_data';\n",
              "          await google.colab.output.renderOutput(dataTable, element);\n",
              "          const docLink = document.createElement('div');\n",
              "          docLink.innerHTML = docLinkHtml;\n",
              "          element.appendChild(docLink);\n",
              "        }\n",
              "      </script>\n",
              "    </div>\n",
              "  </div>\n",
              "  "
            ]
          },
          "metadata": {},
          "execution_count": 4
        }
      ]
    },
    {
      "cell_type": "markdown",
      "source": [
        "Junto com o atributo str de um Series também é possível utilizar outros métodos de tratamento de strings bastante úteis em projetos de data science.\n",
        "\n",
        "Os métodos upper e lower são bons exemplos de métodos úteis durante procedimentos de comparação envolvendo strings. O método upper converte todos os caracteres de uma string para maiúsculo e o método lower faz o contrário.\n",
        "\n",
        "Outro método bastante útil é o contains. Com este método podemos testar se determinado trecho de texto está contido em uma string dentro de uma Series. No método contains também podemos utilizar expressões regulares (default) e também passar apenas trechos de texto, bastando para isso configurar o parâmetro regex como False.\n",
        "\n",
        "Feitas estas considerações, considere a Series anuncios abaixo para responder a questão:"
      ],
      "metadata": {
        "id": "8W3xiIsHE5Uv"
      }
    },
    {
      "cell_type": "code",
      "source": [
        "anuncios = pd.Series([\n",
        "    \"Amplo apartamento com vista para o mar, piscina, sauna e 2 vagas de garagem. CEP 22790-735\",\n",
        "    \"Ótima oportunidade no Leblon! Casa de condomínio com 800m² próximo a praia.\",\n",
        "    \"Sala e quarto em Copacabana. Próximo ao metrô.\",\n",
        "    \"Venha morar na melhor localização do Rio de Janeiro. Piscina, academia e toda estrutura de lazer.\",\n",
        "    \"Sala comercial no Centro da cidade. 23456-021\",\n",
        "    \"Venha conhecer o melhor de Ipanema. A duas quadras da praia. Conheça o apartamento mobiliado.\",\n",
        "    \"Melhor localização da Barra. Condomínio com piscina, academia, espaço gourmet e muito mais.\",\n",
        "    \"Vende-se terreno em Pedra de Guaratiba. Tratar direto com o proprietário.\",\n",
        "    \"Apartamento de alto padrão na Lagoa. Vista pro mar e sol da manhã.\",\n",
        "    \"Passo o ponto de loja no centro da cidade (Saara). Ligar para (21) 1234-5678 e falar com Juca.\"\n",
        "])"
      ],
      "metadata": {
        "id": "RPGiTnk8E7LJ"
      },
      "execution_count": 11,
      "outputs": []
    },
    {
      "cell_type": "markdown",
      "source": [
        "Utilizando as informações acima, marque as opções que apresentam os códigos capazes de identificar os três registros que contêm a palavra piscina."
      ],
      "metadata": {
        "id": "4zPD511vFAzd"
      }
    },
    {
      "cell_type": "code",
      "source": [
        "anuncios.str.upper().str.contains('PISCINA', regex=False)"
      ],
      "metadata": {
        "colab": {
          "base_uri": "https://localhost:8080/"
        },
        "id": "LS918WeeFDGA",
        "outputId": "f4989fe1-30a3-4caf-91b5-e8adbf64b60e"
      },
      "execution_count": 12,
      "outputs": [
        {
          "output_type": "execute_result",
          "data": {
            "text/plain": [
              "0     True\n",
              "1    False\n",
              "2    False\n",
              "3     True\n",
              "4    False\n",
              "5    False\n",
              "6     True\n",
              "7    False\n",
              "8    False\n",
              "9    False\n",
              "dtype: bool"
            ]
          },
          "metadata": {},
          "execution_count": 12
        }
      ]
    },
    {
      "cell_type": "code",
      "source": [
        "anuncios.str.lower().str.contains('piscina', regex=False)"
      ],
      "metadata": {
        "colab": {
          "base_uri": "https://localhost:8080/"
        },
        "id": "KaNhtUtRFOZo",
        "outputId": "029b6d66-6aca-4539-b79c-6562ce1f9a72"
      },
      "execution_count": 17,
      "outputs": [
        {
          "output_type": "execute_result",
          "data": {
            "text/plain": [
              "0     True\n",
              "1    False\n",
              "2    False\n",
              "3     True\n",
              "4    False\n",
              "5    False\n",
              "6     True\n",
              "7    False\n",
              "8    False\n",
              "9    False\n",
              "dtype: bool"
            ]
          },
          "metadata": {},
          "execution_count": 17
        }
      ]
    },
    {
      "cell_type": "code",
      "source": [],
      "metadata": {
        "id": "eLfzgfEdGhZu"
      },
      "execution_count": null,
      "outputs": []
    }
  ]
}